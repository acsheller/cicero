{
 "cells": [
  {
   "cell_type": "markdown",
   "id": "b44bd0fa-ae60-4038-96f5-2c30b11c679f",
   "metadata": {},
   "source": [
    "# Qdrant, Haystack and a Crawler\n",
    "\n"
   ]
  },
  {
   "cell_type": "markdown",
   "id": "3d79e50d-a9ee-4c0b-906c-d09d4ea316bb",
   "metadata": {},
   "source": [
    "## Imports"
   ]
  },
  {
   "cell_type": "code",
   "execution_count": 1,
   "id": "463252b2-00c7-4357-aec3-ff435771d667",
   "metadata": {},
   "outputs": [
    {
     "name": "stderr",
     "output_type": "stream",
     "text": [
      "/home/asheller/haystack/lib/python3.10/site-packages/haystack/core/errors.py:34: DeprecationWarning: PipelineMaxLoops is deprecated and will be remove in version '2.7.0'; use PipelineMaxComponentRuns instead.\n",
      "  warnings.warn(\n"
     ]
    }
   ],
   "source": [
    "from haystack import Document, Pipeline\n",
    "from haystack.components.writers import DocumentWriter\n",
    "from haystack_integrations.components.retrievers.qdrant import QdrantHybridRetriever\n",
    "from haystack_integrations.document_stores.qdrant import QdrantDocumentStore\n",
    "from haystack.document_stores.types import DuplicatePolicy\n",
    "from haystack_integrations.components.embedders.fastembed import (\n",
    " FastembedTextEmbedder,\n",
    " FastembedDocumentEmbedder,\n",
    " FastembedSparseTextEmbedder,\n",
    " FastembedSparseDocumentEmbedder\n",
    ")"
   ]
  },
  {
   "cell_type": "code",
   "execution_count": 4,
   "id": "e8acf4c6-034f-48cb-92c4-0d39dd860321",
   "metadata": {},
   "outputs": [
    {
     "ename": "ModuleNotFoundError",
     "evalue": "No module named 'haystack.nodes'",
     "output_type": "error",
     "traceback": [
      "\u001b[0;31m---------------------------------------------------------------------------\u001b[0m",
      "\u001b[0;31mModuleNotFoundError\u001b[0m                       Traceback (most recent call last)",
      "Cell \u001b[0;32mIn[4], line 1\u001b[0m\n\u001b[0;32m----> 1\u001b[0m \u001b[38;5;28;01mfrom\u001b[39;00m \u001b[38;5;21;01mhaystack\u001b[39;00m\u001b[38;5;21;01m.\u001b[39;00m\u001b[38;5;21;01mnodes\u001b[39;00m \u001b[38;5;28;01mimport\u001b[39;00m Crawler\n\u001b[1;32m      2\u001b[0m url \u001b[38;5;241m=\u001b[39m \u001b[38;5;124m\"\u001b[39m\u001b[38;5;124mhttps://airflow.apache.org/docs/apache-airflow-providers-google/stable/operators/cloud/index.html\u001b[39m\u001b[38;5;124m\"\u001b[39m\n\u001b[1;32m      3\u001b[0m crawler \u001b[38;5;241m=\u001b[39m Crawler(output_dir\u001b[38;5;241m=\u001b[39m\u001b[38;5;124m\"\u001b[39m\u001b[38;5;124mdata/crawled_gcp\u001b[39m\u001b[38;5;124m\"\u001b[39m, crawler_depth\u001b[38;5;241m=\u001b[39m\u001b[38;5;241m1\u001b[39m)\n",
      "\u001b[0;31mModuleNotFoundError\u001b[0m: No module named 'haystack.nodes'"
     ]
    }
   ],
   "source": [
    "from haystack.nodes import Crawler\n",
    "url = \"https://airflow.apache.org/docs/apache-airflow-providers-google/stable/operators/cloud/index.html\"\n",
    "crawler = Crawler(output_dir=\"data/crawled_gcp\", crawler_depth=1)\n",
    "crawled_docs = crawler.crawl(urls=[url])"
   ]
  },
  {
   "cell_type": "code",
   "execution_count": 2,
   "id": "6c103158-9bf8-4f5f-b094-1852a7caff1b",
   "metadata": {},
   "outputs": [
    {
     "ename": "SyntaxError",
     "evalue": "invalid syntax (3552404329.py, line 1)",
     "output_type": "error",
     "traceback": [
      "\u001b[0;36m  Cell \u001b[0;32mIn[2], line 1\u001b[0;36m\u001b[0m\n\u001b[0;31m    help crawler\u001b[0m\n\u001b[0m         ^\u001b[0m\n\u001b[0;31mSyntaxError\u001b[0m\u001b[0;31m:\u001b[0m invalid syntax\n"
     ]
    }
   ],
   "source": []
  },
  {
   "cell_type": "code",
   "execution_count": 3,
   "id": "107d38cd-c77b-46c9-903b-3d724b7db37f",
   "metadata": {},
   "outputs": [
    {
     "ename": "SyntaxError",
     "evalue": "invalid syntax (3029022472.py, line 1)",
     "output_type": "error",
     "traceback": [
      "\u001b[0;36m  Cell \u001b[0;32mIn[3], line 1\u001b[0;36m\u001b[0m\n\u001b[0;31m    help Crawler\u001b[0m\n\u001b[0m         ^\u001b[0m\n\u001b[0;31mSyntaxError\u001b[0m\u001b[0;31m:\u001b[0m invalid syntax\n"
     ]
    }
   ],
   "source": [
    "help Crawler"
   ]
  },
  {
   "cell_type": "code",
   "execution_count": null,
   "id": "8ee7f0bf-1075-4b47-bc9b-504907b4636f",
   "metadata": {},
   "outputs": [],
   "source": []
  }
 ],
 "metadata": {
  "kernelspec": {
   "display_name": "Python 3 (ipykernel)",
   "language": "python",
   "name": "python3"
  },
  "language_info": {
   "codemirror_mode": {
    "name": "ipython",
    "version": 3
   },
   "file_extension": ".py",
   "mimetype": "text/x-python",
   "name": "python",
   "nbconvert_exporter": "python",
   "pygments_lexer": "ipython3",
   "version": "3.10.12"
  }
 },
 "nbformat": 4,
 "nbformat_minor": 5
}
