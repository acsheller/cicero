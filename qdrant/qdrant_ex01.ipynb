{
 "cells": [
  {
   "cell_type": "markdown",
   "id": "99974057-1b97-49bb-afd1-fdf8658f98fe",
   "metadata": {},
   "source": [
    "# QDRANT and Haystack usage example"
   ]
  },
  {
   "cell_type": "markdown",
   "id": "c9bae55e-91f6-489e-83a6-f94793941a7e",
   "metadata": {},
   "source": [
    "## Imports"
   ]
  },
  {
   "cell_type": "code",
   "execution_count": 1,
   "id": "8167c93b-882e-40de-bc5a-50f641fb1376",
   "metadata": {
    "scrolled": true
   },
   "outputs": [
    {
     "name": "stderr",
     "output_type": "stream",
     "text": [
      "/home/asheller/haystack/lib/python3.10/site-packages/haystack/core/errors.py:34: DeprecationWarning: PipelineMaxLoops is deprecated and will be remove in version '2.7.0'; use PipelineMaxComponentRuns instead.\n",
      "  warnings.warn(\n"
     ]
    }
   ],
   "source": [
    "from haystack import Document, Pipeline\n",
    "from haystack.components.writers import DocumentWriter\n",
    "from haystack_integrations.components.retrievers.qdrant import QdrantHybridRetriever\n",
    "from haystack_integrations.document_stores.qdrant import QdrantDocumentStore\n",
    "from haystack.document_stores.types import DuplicatePolicy\n",
    "from haystack_integrations.components.embedders.fastembed import (\n",
    " FastembedTextEmbedder,\n",
    " FastembedDocumentEmbedder,\n",
    " FastembedSparseTextEmbedder,\n",
    " FastembedSparseDocumentEmbedder\n",
    ")"
   ]
  },
  {
   "cell_type": "markdown",
   "id": "9ea8716a-4e92-498b-bb59-614e04888d69",
   "metadata": {},
   "source": [
    "## Indexing"
   ]
  },
  {
   "cell_type": "code",
   "execution_count": 2,
   "id": "180b2e6a-12d9-4544-9a90-ee0e7bb46cd3",
   "metadata": {},
   "outputs": [
    {
     "data": {
      "application/vnd.jupyter.widget-view+json": {
       "model_id": "1e0605bd74064c4eb701652fce661bbd",
       "version_major": 2,
       "version_minor": 0
      },
      "text/plain": [
       "Fetching 5 files:   0%|          | 0/5 [00:00<?, ?it/s]"
      ]
     },
     "metadata": {},
     "output_type": "display_data"
    },
    {
     "data": {
      "application/vnd.jupyter.widget-view+json": {
       "model_id": "bf9de80ec2374fe6bc2c78941458d4fe",
       "version_major": 2,
       "version_minor": 0
      },
      "text/plain": [
       "Fetching 5 files:   0%|          | 0/5 [00:00<?, ?it/s]"
      ]
     },
     "metadata": {},
     "output_type": "display_data"
    },
    {
     "name": "stderr",
     "output_type": "stream",
     "text": [
      "Calculating sparse embeddings: 100%|██████████████████████████████████████████████████████| 4/4 [00:00<00:00, 83.21it/s]\n",
      "Calculating embeddings: 100%|████████████████████████████████████████████████████████████| 4/4 [00:00<00:00, 104.12it/s]\n",
      "100it [00:00, 61626.56it/s]                                                                                             "
     ]
    },
    {
     "name": "stdout",
     "output_type": "stream",
     "text": [
      "CPU times: user 1.59 s, sys: 286 ms, total: 1.88 s\n",
      "Wall time: 1.01 s\n"
     ]
    },
    {
     "name": "stderr",
     "output_type": "stream",
     "text": [
      "\n"
     ]
    },
    {
     "data": {
      "text/plain": [
       "{'writer': {'documents_written': 4}}"
      ]
     },
     "execution_count": 2,
     "metadata": {},
     "output_type": "execute_result"
    }
   ],
   "source": [
    "%%time\n",
    "document_store = QdrantDocumentStore(\n",
    "    \":memory:\",\n",
    "    recreate_index=True,\n",
    "    use_sparse_embeddings=True,\n",
    "    embedding_dim = 384\n",
    ")\n",
    "\n",
    "documents = [\n",
    "    Document(content=\"My name is Wolfgang and I live in Berlin\"),\n",
    "    Document(content=\"I saw a black horse running\"),\n",
    "    Document(content=\"Germany has many big cities\"),\n",
    "    Document(content=\"fastembed is supported by and maintained by Qdrant.\"),\n",
    "]\n",
    "\n",
    "indexing = Pipeline()\n",
    "indexing.add_component(\"sparse_doc_embedder\", FastembedSparseDocumentEmbedder(model=\"prithvida/Splade_PP_en_v1\"))\n",
    "indexing.add_component(\"dense_doc_embedder\", FastembedDocumentEmbedder(model=\"BAAI/bge-small-en-v1.5\"))\n",
    "indexing.add_component(\"writer\", DocumentWriter(document_store=document_store, policy=DuplicatePolicy.OVERWRITE))\n",
    "indexing.connect(\"sparse_doc_embedder\", \"dense_doc_embedder\")\n",
    "indexing.connect(\"dense_doc_embedder\", \"writer\")\n",
    "\n",
    "indexing.run({\"sparse_doc_embedder\": {\"documents\": documents}})"
   ]
  },
  {
   "cell_type": "markdown",
   "id": "8efc314e-ca2e-4f86-8f44-0ac6243dfe56",
   "metadata": {},
   "source": [
    "## Querying"
   ]
  },
  {
   "cell_type": "code",
   "execution_count": 3,
   "id": "72335fc9-bfea-4c7f-af33-f838f2406bfb",
   "metadata": {},
   "outputs": [
    {
     "name": "stderr",
     "output_type": "stream",
     "text": [
      "Calculating sparse embeddings: 100%|██████████████████████████████████████████████████████| 1/1 [00:00<00:00, 64.53it/s]\n",
      "Calculating embeddings: 100%|█████████████████████████████████████████████████████████████| 1/1 [00:00<00:00, 34.55it/s]"
     ]
    },
    {
     "name": "stdout",
     "output_type": "stream",
     "text": [
      "Document(id=09074d8d1e7a956dcfa8a0cc75cabad565448c6701e92dc41314eae07af56265, content: 'fastembed is supported by and maintained by Qdrant.', score: 1.0)\n"
     ]
    },
    {
     "name": "stderr",
     "output_type": "stream",
     "text": [
      "\n"
     ]
    }
   ],
   "source": [
    "\n",
    "querying = Pipeline()\n",
    "querying.add_component(\"sparse_text_embedder\", FastembedSparseTextEmbedder(model=\"prithvida/Splade_PP_en_v1\"))\n",
    "querying.add_component(\"dense_text_embedder\", FastembedTextEmbedder(\n",
    " model=\"BAAI/bge-small-en-v1.5\", prefix=\"Represent this sentence for searching relevant passages: \")\n",
    " )\n",
    "querying.add_component(\"retriever\", QdrantHybridRetriever(document_store=document_store))\n",
    "\n",
    "querying.connect(\"sparse_text_embedder.sparse_embedding\", \"retriever.query_sparse_embedding\")\n",
    "querying.connect(\"dense_text_embedder.embedding\", \"retriever.query_embedding\")\n",
    "\n",
    "question = \"Who supports fastembed?\"\n",
    "\n",
    "results = querying.run(\n",
    "    {\"dense_text_embedder\": {\"text\": question},\n",
    "     \"sparse_text_embedder\": {\"text\": question}}\n",
    ")\n",
    "\n",
    "print(results[\"retriever\"][\"documents\"][0])\n"
   ]
  },
  {
   "cell_type": "markdown",
   "id": "672b6c0b-97f3-443b-9d54-68fc9414210d",
   "metadata": {},
   "source": [
    "## References:\n",
    "\n",
    "[Reciprocal Rank Fusion](https://plg.uwaterloo.ca/~gvcormac/cormacksigir09-rrf.pdf)"
   ]
  },
  {
   "cell_type": "code",
   "execution_count": null,
   "id": "4d3c2046-0fc3-43ea-a75a-f61025bb0a95",
   "metadata": {},
   "outputs": [],
   "source": []
  }
 ],
 "metadata": {
  "kernelspec": {
   "display_name": "Python 3 (ipykernel)",
   "language": "python",
   "name": "python3"
  },
  "language_info": {
   "codemirror_mode": {
    "name": "ipython",
    "version": 3
   },
   "file_extension": ".py",
   "mimetype": "text/x-python",
   "name": "python",
   "nbconvert_exporter": "python",
   "pygments_lexer": "ipython3",
   "version": "3.10.12"
  }
 },
 "nbformat": 4,
 "nbformat_minor": 5
}
