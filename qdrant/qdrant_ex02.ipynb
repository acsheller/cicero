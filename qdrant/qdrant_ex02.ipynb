{
 "cells": [
  {
   "cell_type": "markdown",
   "id": "c30d3846-4ca3-486f-8e0c-97acbb333a19",
   "metadata": {},
   "source": [
    "# Qdrant with a Docker Container"
   ]
  },
  {
   "cell_type": "markdown",
   "id": "c1253c22-f529-4783-ad71-702c5983db8c",
   "metadata": {},
   "source": [
    "In a terminal do the following\n",
    "\n",
    "```\n",
    "docker run -p 6333:6333 -p 6334:6334 qdrant/qdrant\n",
    "\n",
    "```\n",
    "\n",
    "Qdrant dashboard should be available at http://localhost:6333/dashboard\n"
   ]
  },
  {
   "cell_type": "markdown",
   "id": "2e2708b0-44dd-480e-98d3-d6a8439e405c",
   "metadata": {},
   "source": [
    "## Imports"
   ]
  },
  {
   "cell_type": "code",
   "execution_count": 1,
   "id": "c502eb82-fa63-4344-8c32-1c301a25118a",
   "metadata": {},
   "outputs": [
    {
     "name": "stderr",
     "output_type": "stream",
     "text": [
      "/home/asheller/haystack/lib/python3.10/site-packages/haystack/core/errors.py:34: DeprecationWarning: PipelineMaxLoops is deprecated and will be remove in version '2.7.0'; use PipelineMaxComponentRuns instead.\n",
      "  warnings.warn(\n"
     ]
    }
   ],
   "source": [
    "from haystack import Document, Pipeline\n",
    "from haystack.components.writers import DocumentWriter\n",
    "from haystack_integrations.components.retrievers.qdrant import QdrantHybridRetriever\n",
    "from haystack_integrations.document_stores.qdrant import QdrantDocumentStore\n",
    "from haystack.document_stores.types import DuplicatePolicy\n",
    "from haystack_integrations.components.embedders.fastembed import (\n",
    " FastembedTextEmbedder,\n",
    " FastembedDocumentEmbedder,\n",
    " FastembedSparseTextEmbedder,\n",
    " FastembedSparseDocumentEmbedder\n",
    ")"
   ]
  },
  {
   "cell_type": "markdown",
   "id": "5706f16e-0b3f-4115-904f-45c1bddb4353",
   "metadata": {},
   "source": [
    "## Indexing"
   ]
  },
  {
   "cell_type": "code",
   "execution_count": 2,
   "id": "79f247be-1185-4295-baa7-b964cc44cbbf",
   "metadata": {},
   "outputs": [
    {
     "data": {
      "application/vnd.jupyter.widget-view+json": {
       "model_id": "87d7800e728c4962932da65054a01cbe",
       "version_major": 2,
       "version_minor": 0
      },
      "text/plain": [
       "Fetching 5 files:   0%|          | 0/5 [00:00<?, ?it/s]"
      ]
     },
     "metadata": {},
     "output_type": "display_data"
    },
    {
     "data": {
      "application/vnd.jupyter.widget-view+json": {
       "model_id": "4a6e933ba6b1415088926aa20a0df9f2",
       "version_major": 2,
       "version_minor": 0
      },
      "text/plain": [
       "Fetching 5 files:   0%|          | 0/5 [00:00<?, ?it/s]"
      ]
     },
     "metadata": {},
     "output_type": "display_data"
    },
    {
     "name": "stderr",
     "output_type": "stream",
     "text": [
      "Calculating sparse embeddings: 100%|██████████████████████████████████████████████████████| 4/4 [00:00<00:00, 70.55it/s]\n",
      "Calculating embeddings: 100%|████████████████████████████████████████████████████████████| 4/4 [00:00<00:00, 104.99it/s]\n",
      "100it [00:00, 10799.49it/s]                                                                                             "
     ]
    },
    {
     "name": "stdout",
     "output_type": "stream",
     "text": [
      "CPU times: user 1.97 s, sys: 313 ms, total: 2.29 s\n",
      "Wall time: 1.1 s\n"
     ]
    },
    {
     "name": "stderr",
     "output_type": "stream",
     "text": [
      "\n"
     ]
    },
    {
     "data": {
      "text/plain": [
       "{'writer': {'documents_written': 4}}"
      ]
     },
     "execution_count": 2,
     "metadata": {},
     "output_type": "execute_result"
    }
   ],
   "source": [
    "%%time\n",
    "document_store = QdrantDocumentStore(host=\"localhost\",\n",
    "                                     index=\"ex02_docs\",\n",
    "                                     embedding_dim=384,\n",
    "                                     recreate_index=True,\n",
    "                                     use_sparse_embeddings=True,\n",
    "                                     timeout=120\n",
    "                                    )\n",
    "\n",
    "documents = [\n",
    "    Document(content=\"My name is Wolfgang and I live in Berlin\"),\n",
    "    Document(content=\"I saw a black horse running\"),\n",
    "    Document(content=\"Germany has many big cities\"),\n",
    "    Document(content=\"fastembed is supported by and maintained by Qdrant.\"),\n",
    "]\n",
    "\n",
    "indexing = Pipeline()\n",
    "indexing.add_component(\"sparse_doc_embedder\", FastembedSparseDocumentEmbedder(model=\"prithvida/Splade_PP_en_v1\"))\n",
    "indexing.add_component(\"dense_doc_embedder\", FastembedDocumentEmbedder(model=\"BAAI/bge-small-en-v1.5\"))\n",
    "indexing.add_component(\"writer\", DocumentWriter(document_store=document_store, policy=DuplicatePolicy.OVERWRITE))\n",
    "indexing.connect(\"sparse_doc_embedder\", \"dense_doc_embedder\")\n",
    "indexing.connect(\"dense_doc_embedder\", \"writer\")\n",
    "\n",
    "indexing.run({\"sparse_doc_embedder\": {\"documents\": documents}})"
   ]
  },
  {
   "cell_type": "markdown",
   "id": "59a7d9fe-ab39-48c9-adbb-cd0cefb956ae",
   "metadata": {},
   "source": [
    "## Querying"
   ]
  },
  {
   "cell_type": "code",
   "execution_count": 3,
   "id": "b66d6eb8-4344-4266-a4e9-94ad487f81c2",
   "metadata": {},
   "outputs": [
    {
     "name": "stderr",
     "output_type": "stream",
     "text": [
      "Calculating sparse embeddings: 100%|██████████████████████████████████████████████████████| 1/1 [00:00<00:00, 69.35it/s]\n",
      "Calculating embeddings: 100%|█████████████████████████████████████████████████████████████| 1/1 [00:00<00:00, 36.31it/s]"
     ]
    },
    {
     "name": "stdout",
     "output_type": "stream",
     "text": [
      "Document(id=09074d8d1e7a956dcfa8a0cc75cabad565448c6701e92dc41314eae07af56265, content: 'fastembed is supported by and maintained by Qdrant.', score: 1.0)\n"
     ]
    },
    {
     "name": "stderr",
     "output_type": "stream",
     "text": [
      "\n"
     ]
    }
   ],
   "source": [
    "querying = Pipeline()\n",
    "querying.add_component(\"sparse_text_embedder\", FastembedSparseTextEmbedder(model=\"prithvida/Splade_PP_en_v1\"))\n",
    "querying.add_component(\"dense_text_embedder\", FastembedTextEmbedder(\n",
    " model=\"BAAI/bge-small-en-v1.5\", prefix=\"Represent this sentence for searching relevant passages: \")\n",
    " )\n",
    "querying.add_component(\"retriever\", QdrantHybridRetriever(document_store=document_store))\n",
    "\n",
    "querying.connect(\"sparse_text_embedder.sparse_embedding\", \"retriever.query_sparse_embedding\")\n",
    "querying.connect(\"dense_text_embedder.embedding\", \"retriever.query_embedding\")\n",
    "\n",
    "question = \"Who supports fastembed?\"\n",
    "\n",
    "results = querying.run(\n",
    "    {\"dense_text_embedder\": {\"text\": question},\n",
    "     \"sparse_text_embedder\": {\"text\": question}}\n",
    ")\n",
    "\n",
    "print(results[\"retriever\"][\"documents\"][0])\n"
   ]
  },
  {
   "cell_type": "markdown",
   "id": "275d7332-9f27-4d9e-b227-e1ea3b74d275",
   "metadata": {},
   "source": []
  }
 ],
 "metadata": {
  "kernelspec": {
   "display_name": "Python 3 (ipykernel)",
   "language": "python",
   "name": "python3"
  },
  "language_info": {
   "codemirror_mode": {
    "name": "ipython",
    "version": 3
   },
   "file_extension": ".py",
   "mimetype": "text/x-python",
   "name": "python",
   "nbconvert_exporter": "python",
   "pygments_lexer": "ipython3",
   "version": "3.10.12"
  }
 },
 "nbformat": 4,
 "nbformat_minor": 5
}
