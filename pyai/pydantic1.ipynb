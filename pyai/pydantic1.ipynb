{
 "cells": [
  {
   "cell_type": "markdown",
   "id": "daa9c559-b348-46aa-960f-8887b1e45d2f",
   "metadata": {},
   "source": [
    "# Researching Pydantic AI\n",
    "\n"
   ]
  },
  {
   "cell_type": "code",
   "execution_count": 2,
   "id": "4e66b6e0-5f5d-4d17-8407-c3cfbc837b0d",
   "metadata": {},
   "outputs": [
    {
     "name": "stdout",
     "output_type": "stream",
     "text": [
      "city='London' country='Great Britain'\n",
      "Cost(request_tokens=176, response_tokens=24, total_tokens=200, details=None)\n"
     ]
    }
   ],
   "source": [
    "from pydantic import BaseModel\n",
    "from pydantic_ai import Agent\n",
    "from pydantic_ai.models.ollama import OllamaModel\n",
    "\n",
    "# Define the model\n",
    "ollama_model = OllamaModel(\n",
    "    model_name='llama3.2',  \n",
    "    base_url='http://ollama:11434/v1/'\n",
    ")\n",
    "\n",
    "# Define the data structure\n",
    "class CityLocation(BaseModel):\n",
    "    city: str\n",
    "    country: str\n",
    "\n",
    "# Create the agent\n",
    "agent = Agent(model=ollama_model, result_type=CityLocation)\n",
    "\n",
    "# Define an async function to use the agent\n",
    "async def main():\n",
    "    result = await agent.run('Where were the olympics held in 2012?')\n",
    "    print(result.data)  # > city='London' country='United Kingdom'\n",
    "    print(result.cost())  # > Cost(request_tokens=57, response_tokens=8, total_tokens=65, details=None)\n",
    "\n",
    "# Call the async function (use this in Jupyter or similar async environments)\n",
    "await main()\n"
   ]
  },
  {
   "cell_type": "code",
   "execution_count": null,
   "id": "f0dd8a69-ae30-4779-a5e4-c4153a1b3a51",
   "metadata": {},
   "outputs": [],
   "source": []
  }
 ],
 "metadata": {
  "kernelspec": {
   "display_name": "Python (pyai)",
   "language": "python",
   "name": "pyai"
  },
  "language_info": {
   "codemirror_mode": {
    "name": "ipython",
    "version": 3
   },
   "file_extension": ".py",
   "mimetype": "text/x-python",
   "name": "python",
   "nbconvert_exporter": "python",
   "pygments_lexer": "ipython3",
   "version": "3.10.12"
  }
 },
 "nbformat": 4,
 "nbformat_minor": 5
}
