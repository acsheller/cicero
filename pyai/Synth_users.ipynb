{
 "cells": [
  {
   "cell_type": "code",
   "execution_count": 6,
   "id": "9ceb874b-3962-4dbb-a7c4-a66ba9d95b93",
   "metadata": {},
   "outputs": [],
   "source": [
    "from pydantic import BaseModel\n",
    "from pydantic_ai import Agent\n",
    "from pydantic_ai.models.ollama import OllamaModel\n",
    "\n",
    "# Define the Ollama model\n",
    "ollama_model = OllamaModel(\n",
    "    model_name=\"llama3.2\",  # Replace with your preferred model\n",
    "    base_url=\"http://ollama:11434/v1/\"  # Ollama's default base URL\n",
    ")\n",
    "\n",
    "\n",
    "class UserProfile(BaseModel):\n",
    "    user_id: str\n",
    "    topics: dict[str, float]  # Dictionary of topics with weights\n",
    "    average_ctr: float\n",
    "    session_length: int\n",
    "\n",
    "\n",
    "# Create the agent\n",
    "agent = Agent(model=ollama_model, result_type=UserProfile)\n"
   ]
  },
  {
   "cell_type": "code",
   "execution_count": 7,
   "id": "05fa2979-bbad-40f7-a4a8-bf35e42403b5",
   "metadata": {},
   "outputs": [],
   "source": [
    "async def generate_user_profile():\n",
    "    prompt = \"\"\"\n",
    "    Create a synthetic user profile. Include:\n",
    "    - user_id: A unique identifier (e.g., 'synthetic_001').\n",
    "    - topics: A dictionary of topic preferences with weights (e.g., {'space': 0.6, 'science': 0.4}).\n",
    "    - average_ctr: The average click-through rate (e.g., 0.75).\n",
    "    - session_length: The average number of clicks per session (e.g., 5).\n",
    "    Format the response as JSON.\n",
    "    \"\"\"\n",
    "    result = await agent.run(prompt)\n",
    "    print(result.data)  # Validated UserProfile object\n",
    "    print(result.cost())  # Token usage details"
   ]
  },
  {
   "cell_type": "code",
   "execution_count": 12,
   "id": "a454bb49-9b68-4b21-8163-15911e492d2e",
   "metadata": {},
   "outputs": [
    {
     "data": {
      "text/plain": [
       "<coroutine object generate_user_profile at 0x7fd10a6ae730>"
      ]
     },
     "execution_count": 12,
     "metadata": {},
     "output_type": "execute_result"
    }
   ],
   "source": [
    "generate_user_profile()"
   ]
  },
  {
   "cell_type": "code",
   "execution_count": null,
   "id": "35f1ee32-c072-4efa-8c92-ef90e6a35818",
   "metadata": {},
   "outputs": [],
   "source": []
  }
 ],
 "metadata": {
  "kernelspec": {
   "display_name": "Python (pyai)",
   "language": "python",
   "name": "pyai"
  },
  "language_info": {
   "codemirror_mode": {
    "name": "ipython",
    "version": 3
   },
   "file_extension": ".py",
   "mimetype": "text/x-python",
   "name": "python",
   "nbconvert_exporter": "python",
   "pygments_lexer": "ipython3",
   "version": "3.10.12"
  }
 },
 "nbformat": 4,
 "nbformat_minor": 5
}
