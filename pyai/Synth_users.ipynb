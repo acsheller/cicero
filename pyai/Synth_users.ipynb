{
 "cells": [
  {
   "cell_type": "code",
   "execution_count": 1,
   "id": "9ceb874b-3962-4dbb-a7c4-a66ba9d95b93",
   "metadata": {},
   "outputs": [
    {
     "name": "stderr",
     "output_type": "stream",
     "text": [
      "2024-12-24 21:00:47,454\tINFO worker.py:1821 -- Started a local Ray instance.\n",
      "UserWarning: File has mismatched quotes\n"
     ]
    }
   ],
   "source": [
    "import time\n",
    "\n",
    "# Start the timer\n",
    "start_time = time.time()\n",
    "\n",
    "\n",
    "import modin.pandas as pd\n",
    "from collections import defaultdict\n",
    "from pydantic import BaseModel, Field\n",
    "from pydantic_ai import Agent\n",
    "from pydantic_ai.models.ollama import OllamaModel\n",
    "from typing import Dict\n",
    "from typing import Optional\n",
    "import uuid\n",
    "import random\n",
    "import asyncio\n",
    "from tqdm.notebook import tqdm\n",
    "import re\n",
    "\n",
    "# Define the Ollama model running on Ollama\n",
    "ollama_model = OllamaModel(\n",
    "    model_name=\"llama3.2\",  # Replace with your preferred model  Could be 'mistrel:7b', 'granite3.1-dense:latest', 'llama3.2', gemma2\n",
    "    base_url=\"http://ollama:11434/v1/\"  # Ollama's default base URL\n",
    ")\n",
    "\n",
    "\n",
    "MIND_type = 'MINDsmall'\n",
    "\n",
    "data_path_base=\"/app/datasets/\"\n",
    "data_path = data_path_base + MIND_type +\"/\"\n",
    "\n",
    "\n",
    "#behaviors_file = data_path + \"train/behaviors.tsv\"\n",
    "#print(f\"Behaviors File {behaviors_file}\")\n",
    "\n",
    "news_file = data_path + \"train/news.tsv\"\n",
    "news_df = pd.read_csv(news_file, sep=\"\\t\", names=[\"news_id\", \"category\", \"subcategory\", \"title\", \"abstract\", \"url\", \"title_entities\", \"abstract_entities\"])\n",
    "#print(f\"News file {news_file}\")\n",
    "# Load the behaviors data\n",
    "columns = [\"impression_id\", \"user_id\", \"time\", \"history\", \"impressions\"]\n",
    "#behaviors_df = pd.read_csv(behaviors_file, sep=\"\\t\", names=columns)\n",
    "\n",
    "def print_elapsed_time(start_time):\n",
    "    \"\"\"\n",
    "    Print the elapsed time since `start_time` in hours, minutes, and seconds.\n",
    "    \n",
    "    Args:\n",
    "        start_time (float): The starting time, typically obtained from time.time().\n",
    "    \"\"\"\n",
    "    elapsed_time = time.time() - start_time\n",
    "    hours, remainder = divmod(elapsed_time, 3600)\n",
    "    minutes, seconds = divmod(remainder, 60)\n",
    "    print(f\"Elapsed Time: {int(hours)}h {int(minutes)}m {int(seconds)}s\")\n",
    "\n"
   ]
  },
  {
   "cell_type": "markdown",
   "id": "3bf7c2ca-e715-4619-8cfb-b1869f80159f",
   "metadata": {},
   "source": [
    "## Define the Analyst Profile\n",
    "\n",
    "This is the data structure that will be returned"
   ]
  },
  {
   "cell_type": "code",
   "execution_count": 2,
   "id": "7c091610-17ad-4a6a-b08c-18e888aef5a3",
   "metadata": {},
   "outputs": [],
   "source": [
    "class AnalystProfile(BaseModel):\n",
    "    \"\"\"\n",
    "    This is the structure the LLM will return.\n",
    "    \"\"\"\n",
    "    user_id: str = Field(description = 'A random unique identifier consisting of 8 alphanumeric characters, e.g., \"a1b2c3d4\"')\n",
    "    age: int = Field(description = 'Age of the analyst', ge=25, le = 65)\n",
    "    gender: str = Field(description= 'Gender: Male, Female, or Non-binary. With a distribution identicial to the real world population')\n",
    "    primary_news_interest: str = Field(description= 'Primary catagory of news Interest')\n",
    "    secondary_news_interest: str = Field(description= 'Secondary catagory of news Interest')\n",
    "    job: str = Field(description= 'Job title  e.g. Technology Analyst')\n",
    "    description: str = Field(description='The background of the analyst in their field of expertise')\n",
    "\n",
    "    def __str__(self):\n",
    "        return (\n",
    "            f\"AnalystProfile:\\n\"\n",
    "            f\"  User ID: {self.user_id}\\n\"\n",
    "            f\"  Age: {self.age}\\n\"\n",
    "            f\"  Gender: {self.gender}\\n\"\n",
    "            f\"  Primary News Interest: {self.primary_news_interest}\\n\"\n",
    "            f\"  Secondary News Interest: {self.secondary_news_interest}\\n\"\n",
    "            f\"  Job: {self.job}\\n\"\n",
    "            f\"  Description: {self.description}\\n\"\n",
    "        )\n",
    "    \n",
    "    def __repr__(self):\n",
    "        return self.__str__()\n",
    "\n",
    "\n",
    "# Create the agent\n",
    "agent = Agent(model=ollama_model, result_type=AnalystProfile, retries=5)"
   ]
  },
  {
   "cell_type": "markdown",
   "id": "fbbf5147-5f49-418e-a530-9817ff3c0618",
   "metadata": {},
   "source": [
    "## Analysts Area's of expertise.\n",
    "These are a list of areas that an alayst might specialize in.  These can be adjusted to create synthetic users.  "
   ]
  },
  {
   "cell_type": "code",
   "execution_count": 3,
   "id": "2b35170c-171c-44e8-b583-b0b56d37ea43",
   "metadata": {},
   "outputs": [],
   "source": [
    "ANALYST_AREAS = [\n",
    "    \"Global Politics\",\n",
    "    \"Economics and Markets\",\n",
    "    \"Science and Innovation\",\n",
    "    \"Health and Medicine\",\n",
    "    \"Climate and Environment\",\n",
    "    \"Sports and Entertainment\",\n",
    "    \"Technology and Startups\",\n",
    "    \"Crime and Legal Affairs\",\n",
    "    \"Business and Corporate Affairs\",\n",
    "    \"Culture and Society\",\n",
    "    \"Education and Academia\",\n",
    "    \"Infrastructure and Urban Development\",\n",
    "    \"Energy and Sustainability\",\n",
    "    \"Defense and Security\",\n",
    "    \"Art and Design\",\n",
    "    \"Food and Agriculture\",\n",
    "    \"Travel and Tourism\",\n",
    "    \"Religion and Philosophy\",\n",
    "    \"Consumer Trends and Retail\",\n",
    "    \"Space Exploration\",\n",
    "    \"Artificial Intelligence and Machine Learning\",\n",
    "    \"Blockchain and Cryptocurrency\",\n",
    "    \"Mental Health and Wellness\",\n",
    "    \"Social Media and Digital Culture\",\n",
    "    \"Activism and Social Justice\",\n",
    "    \"Emerging Technologies\",\n",
    "    \"Crisis Response\"\n",
    "]\n"
   ]
  },
  {
   "cell_type": "markdown",
   "id": "d7056869-f64a-4080-9157-c21d7f37aeb8",
   "metadata": {},
   "source": [
    "## Define a Method to generate the synthetic analysts"
   ]
  },
  {
   "cell_type": "code",
   "execution_count": 4,
   "id": "190914b3-cdcb-4999-822d-34aa5621cd47",
   "metadata": {},
   "outputs": [],
   "source": [
    "async def generate_synthetic_analyst_with_llm(analyst_area: str) -> Optional[dict]:\n",
    "    \"\"\"\n",
    "    Generate a synthetic analyst profile for a given area of expertise using LLM.\n",
    "\n",
    "    Args:\n",
    "        analyst_area (str): The primary area of expertise for the synthetic analyst.\n",
    "    \n",
    "    Returns:\n",
    "        dict: A dictionary representing the synthetic analyst profile.\n",
    "    \"\"\"\n",
    "    prompt = f\"\"\"\n",
    "    Create a synthetic analyst profile. Ensure the description does not include any names or personal identifiers. Include: Include:\n",
    "    - name:  Generate a unique user ID with a UUID string that is 8 characters long.\n",
    "    - age: An integer between 25 and 65.\n",
    "    - gender: Choose Male (50%), Female (45%), or Non-binary (5%).\n",
    "    - primary_news_interest: '{analyst_area}'.\n",
    "    - secondary_news_interest: A secondary area of interest related to '{analyst_area}'.\n",
    "    - job: A realistic job title.\n",
    "    - description: Write a detailed paragraph about the analyst's professional background, work habits, and how they consume news. Do not include names, personal identifiers, or any references to specific people.\n",
    "\n",
    "    Format the response as valid JSON matching this structure:\n",
    "    {{\n",
    "        \"name\": \"{str(uuid.uuid4())[:8]}\",\n",
    "        \"age\": int,\n",
    "        \"gender\": \"string\",\n",
    "        \"primary_news_interest\": \"string\",\n",
    "        \"secondary_news_interest\": \"string\",\n",
    "        \"job\": \"string\",\n",
    "        \"description\": \"string\"\n",
    "    }}\n",
    "    \"\"\"\n",
    "\n",
    "    try:\n",
    "        result = await agent.run(prompt)\n",
    "        return result.data\n",
    "    except Exception as e:\n",
    "        print(f\"Error generating profile for '{analyst_area}': {e}\")\n",
    "        return None\n"
   ]
  },
  {
   "cell_type": "code",
   "execution_count": 5,
   "id": "7bddcf50-a7f0-4958-908f-cf4a451953d5",
   "metadata": {},
   "outputs": [
    {
     "name": "stdout",
     "output_type": "stream",
     "text": [
      "Elapsed Time: 0h 0m 10s\n"
     ]
    }
   ],
   "source": [
    "result = await generate_synthetic_analyst_with_llm(ANALYST_AREAS[0])\n",
    "print_elapsed_time(start_time)"
   ]
  },
  {
   "cell_type": "code",
   "execution_count": 6,
   "id": "17bc8a8b-079c-4a00-bde2-9371cd9ef56a",
   "metadata": {},
   "outputs": [
    {
     "name": "stdout",
     "output_type": "stream",
     "text": [
      "AnalystProfile:\n",
      "  User ID: 4fb9fbf3\n",
      "  Age: 37\n",
      "  Gender: Male\n",
      "  Primary News Interest: Global Politics\n",
      "  Secondary News Interest: International Relations and Global Governance\n",
      "  Job: Data Analyst in the Financial Sector\n",
      "  Description: It was noted that data analysts in various sectors, when not glued to spreadsheets, tend to delve into current events. The majority seem drawn to global politics due to its far-reaching implications on their line of work. In a quiet corner with their computer and newsfeed refreshed, they spend their time piecing together metrics.\n",
      "\n",
      "Their favorite method of news consumption is through in-depth analysis websites, which not only cover broad topics but also allow for more specialized interests. As a result, their job title may reflect the intersection of data analysis and that specific interest area.\n",
      "\n"
     ]
    }
   ],
   "source": [
    "print(result)"
   ]
  },
  {
   "cell_type": "code",
   "execution_count": 7,
   "id": "aedffbb4-4987-4179-b907-f8149d529273",
   "metadata": {},
   "outputs": [
    {
     "name": "stdout",
     "output_type": "stream",
     "text": [
      "Elapsed Time: 0h 0m 12s\n"
     ]
    }
   ],
   "source": [
    "result2 = await generate_synthetic_analyst_with_llm(ANALYST_AREAS[1])\n",
    "print_elapsed_time(start_time)"
   ]
  },
  {
   "cell_type": "code",
   "execution_count": 8,
   "id": "1410aae3-06e1-4e9d-aa1d-57ae68543100",
   "metadata": {},
   "outputs": [
    {
     "name": "stdout",
     "output_type": "stream",
     "text": [
      "AnalystProfile:\n",
      "  User ID: c54f6d7e\n",
      "  Age: 47\n",
      "  Gender: Male\n",
      "  Primary News Interest: Economics and Markets\n",
      "  Secondary News Interest: Monetary policy and interest rate analysis\n",
      "  Job: Portfolio Manager\n",
      "  Description: The analyst has a background in economics, with a specialization in finance and trading. They prefer to stay up-to-date on market trends and news through a combination of traditional sources and online platforms. In their free time, they enjoy reading books on economic theory and attending industry events. As a portfolio manager, the analyst is responsible for making data-driven investment decisions, analyzing financial statements, and developing strategies to minimize risk and maximize returns. They are highly detail-oriented and enjoy working with large datasets. The analyst also prioritizes staying current with emerging trends in monetary policy and interest rate analysis, recognizing its critical impact on global markets.\n",
      "\n"
     ]
    }
   ],
   "source": [
    "print(result2)"
   ]
  },
  {
   "cell_type": "code",
   "execution_count": 9,
   "id": "72af7017-c60b-4afb-993d-4bb183e61295",
   "metadata": {},
   "outputs": [],
   "source": [
    "\n",
    "\n",
    "async def gen_analysts_profiles(num_profiles: int, analyst_areas: list, max_retries: int = 3) -> pd.DataFrame:\n",
    "    \"\"\"\n",
    "    Generate synthetic analyst profiles with retry logic for errors.\n",
    "\n",
    "    Args:\n",
    "        num_profiles (int): Total number of profiles to generate.\n",
    "        analyst_areas (list): List of primary news interests for analysts.\n",
    "        max_retries (int): Maximum number of retries for a failed generation.\n",
    "\n",
    "    Returns:\n",
    "        pd.DataFrame: DataFrame containing all generated profiles.\n",
    "    \"\"\"\n",
    "    profiles = []\n",
    "    with tqdm(total=num_profiles, desc=\"Generating Synthetic Analysts\") as pbar:\n",
    "        for i in range(num_profiles):\n",
    "            area = analyst_areas[i % len(analyst_areas)]\n",
    "            retries = 0\n",
    "            while retries <= max_retries:\n",
    "                try:\n",
    "                    # Attempt to generate the profile\n",
    "                    profile = await generate_synthetic_analyst_with_llm(area)\n",
    "                    if profile:\n",
    "                        profiles.append(profile.model_dump())\n",
    "                        break  # Exit retry loop on success\n",
    "                except Exception as e:\n",
    "                    retries += 1\n",
    "                    if retries > max_retries:\n",
    "                        print(f\"Failed to generate profile for '{area}' after {max_retries} retries: {e}\")\n",
    "                        break\n",
    "            pbar.update(1)\n",
    "    df = pd.DataFrame(profiles)\n",
    "    return df\n"
   ]
  },
  {
   "cell_type": "code",
   "execution_count": 10,
   "id": "266035ed-2401-46d0-acad-d84386151627",
   "metadata": {},
   "outputs": [
    {
     "data": {
      "application/vnd.jupyter.widget-view+json": {
       "model_id": "26f833b52d1a460db37c137086387d37",
       "version_major": 2,
       "version_minor": 0
      },
      "text/plain": [
       "Generating Synthetic Analysts:   0%|          | 0/1000 [00:00<?, ?it/s]"
      ]
     },
     "metadata": {},
     "output_type": "display_data"
    },
    {
     "name": "stdout",
     "output_type": "stream",
     "text": [
      "Error generating profile for 'Travel and Tourism': Exceeded maximum retries (5) for result validation\n",
      "Error generating profile for 'Religion and Philosophy': Exceeded maximum retries (5) for result validation\n",
      "Error generating profile for 'Blockchain and Cryptocurrency': Exceeded maximum retries (5) for result validation\n",
      "Error generating profile for 'Technology and Startups': Exceeded maximum retries (5) for result validation\n",
      "Error generating profile for 'Technology and Startups': Exceeded maximum retries (5) for result validation\n",
      "Error generating profile for 'Activism and Social Justice': Exceeded maximum retries (5) for result validation\n",
      "Error generating profile for 'Space Exploration': Exceeded maximum retries (5) for result validation\n",
      "Error generating profile for 'Activism and Social Justice': Exceeded maximum retries (5) for result validation\n",
      "Error generating profile for 'Defense and Security': Exceeded maximum retries (5) for result validation\n",
      "Error generating profile for 'Business and Corporate Affairs': Exceeded maximum retries (5) for result validation\n",
      "Error generating profile for 'Health and Medicine': Exceeded maximum retries (5) for result validation\n",
      "Error generating profile for 'Blockchain and Cryptocurrency': Exceeded maximum retries (5) for result validation\n",
      "Error generating profile for 'Business and Corporate Affairs': Exceeded maximum retries (5) for result validation\n",
      "Error generating profile for 'Blockchain and Cryptocurrency': Exceeded maximum retries (5) for result validation\n",
      "Error generating profile for 'Emerging Technologies': Exceeded maximum retries (5) for result validation\n",
      "Elapsed Time: 0h 42m 57s\n"
     ]
    }
   ],
   "source": [
    "\n",
    "df = await gen_analysts_profiles(1000,ANALYST_AREAS)\n",
    "print_elapsed_time(start_time)"
   ]
  },
  {
   "cell_type": "code",
   "execution_count": 11,
   "id": "2bd6dcc5-0889-4a0e-af73-23f54b8173de",
   "metadata": {},
   "outputs": [
    {
     "data": {
      "text/html": [
       "<div>\n",
       "<style scoped>\n",
       "    .dataframe tbody tr th:only-of-type {\n",
       "        vertical-align: middle;\n",
       "    }\n",
       "\n",
       "    .dataframe tbody tr th {\n",
       "        vertical-align: top;\n",
       "    }\n",
       "\n",
       "    .dataframe thead th {\n",
       "        text-align: right;\n",
       "    }\n",
       "</style>\n",
       "<table border=\"1\" class=\"dataframe\">\n",
       "  <thead>\n",
       "    <tr style=\"text-align: right;\">\n",
       "      <th></th>\n",
       "      <th>user_id</th>\n",
       "      <th>age</th>\n",
       "      <th>gender</th>\n",
       "      <th>primary_news_interest</th>\n",
       "      <th>secondary_news_interest</th>\n",
       "      <th>job</th>\n",
       "      <th>description</th>\n",
       "    </tr>\n",
       "  </thead>\n",
       "  <tbody>\n",
       "    <tr>\n",
       "      <th>0</th>\n",
       "      <td>{\"type\":\"string\",\"value\":\"cbb3b8da-7ea1-4e11-b...</td>\n",
       "      <td>42</td>\n",
       "      <td>Male</td>\n",
       "      <td>Global Politics</td>\n",
       "      <td>International Relations</td>\n",
       "      <td>Global Economist</td>\n",
       "      <td>The analyst is experienced in understanding th...</td>\n",
       "    </tr>\n",
       "    <tr>\n",
       "      <th>1</th>\n",
       "      <td>8e9de907</td>\n",
       "      <td>35</td>\n",
       "      <td>Male</td>\n",
       "      <td>Economics and Markets</td>\n",
       "      <td>Financial Risk Management</td>\n",
       "      <td>Quantitative Analyst</td>\n",
       "      <td>This analyst has a strong foundation in econom...</td>\n",
       "    </tr>\n",
       "    <tr>\n",
       "      <th>2</th>\n",
       "      <td>6f9e5c71-2dbb-4a77-a5d1-e35cd9ea7a59</td>\n",
       "      <td>42</td>\n",
       "      <td>Male</td>\n",
       "      <td>Science and Innovation</td>\n",
       "      <td>Advances in AI and machine learning</td>\n",
       "      <td>Data Analyst</td>\n",
       "      <td>As a seasoned data analyst, our professional e...</td>\n",
       "    </tr>\n",
       "    <tr>\n",
       "      <th>3</th>\n",
       "      <td>da6e263e</td>\n",
       "      <td>53</td>\n",
       "      <td>Male</td>\n",
       "      <td>Health and Medicine</td>\n",
       "      <td>Medical Research and Innovation</td>\n",
       "      <td>Biotechnology Analyst</td>\n",
       "      <td>A seasoned biotechnologist with over a decade ...</td>\n",
       "    </tr>\n",
       "    <tr>\n",
       "      <th>4</th>\n",
       "      <td>3d973a88</td>\n",
       "      <td>37</td>\n",
       "      <td>Male</td>\n",
       "      <td>Climate and Environment</td>\n",
       "      <td>Renewable Energy</td>\n",
       "      <td>Sustainability Analyst</td>\n",
       "      <td>The sustainability analyst at a leading green ...</td>\n",
       "    </tr>\n",
       "  </tbody>\n",
       "</table>\n",
       "</div>"
      ],
      "text/plain": [
       "                                             user_id  age gender  \\\n",
       "0  {\"type\":\"string\",\"value\":\"cbb3b8da-7ea1-4e11-b...   42   Male   \n",
       "1                                           8e9de907   35   Male   \n",
       "2               6f9e5c71-2dbb-4a77-a5d1-e35cd9ea7a59   42   Male   \n",
       "3                                           da6e263e   53   Male   \n",
       "4                                           3d973a88   37   Male   \n",
       "\n",
       "     primary_news_interest              secondary_news_interest  \\\n",
       "0          Global Politics              International Relations   \n",
       "1    Economics and Markets            Financial Risk Management   \n",
       "2   Science and Innovation  Advances in AI and machine learning   \n",
       "3      Health and Medicine      Medical Research and Innovation   \n",
       "4  Climate and Environment                     Renewable Energy   \n",
       "\n",
       "                      job                                        description  \n",
       "0        Global Economist  The analyst is experienced in understanding th...  \n",
       "1    Quantitative Analyst  This analyst has a strong foundation in econom...  \n",
       "2            Data Analyst  As a seasoned data analyst, our professional e...  \n",
       "3   Biotechnology Analyst  A seasoned biotechnologist with over a decade ...  \n",
       "4  Sustainability Analyst  The sustainability analyst at a leading green ...  "
      ]
     },
     "metadata": {},
     "output_type": "display_data"
    },
    {
     "data": {
      "text/html": [
       "<div>\n",
       "<style scoped>\n",
       "    .dataframe tbody tr th:only-of-type {\n",
       "        vertical-align: middle;\n",
       "    }\n",
       "\n",
       "    .dataframe tbody tr th {\n",
       "        vertical-align: top;\n",
       "    }\n",
       "\n",
       "    .dataframe thead th {\n",
       "        text-align: right;\n",
       "    }\n",
       "</style>\n",
       "<table border=\"1\" class=\"dataframe\">\n",
       "  <thead>\n",
       "    <tr style=\"text-align: right;\">\n",
       "      <th></th>\n",
       "      <th>user_id</th>\n",
       "      <th>age</th>\n",
       "      <th>gender</th>\n",
       "      <th>primary_news_interest</th>\n",
       "      <th>secondary_news_interest</th>\n",
       "      <th>job</th>\n",
       "      <th>description</th>\n",
       "    </tr>\n",
       "  </thead>\n",
       "  <tbody>\n",
       "    <tr>\n",
       "      <th>995</th>\n",
       "      <td>3ba57866-4d24-41f8-bb15-e7eaeb0ac2c6</td>\n",
       "      <td>47</td>\n",
       "      <td>Male</td>\n",
       "      <td>Social Media and Digital Culture</td>\n",
       "      <td>Data Analysis and Insights</td>\n",
       "      <td>Quantitative Analyst</td>\n",
       "      <td>A seasoned professional with a strong backgrou...</td>\n",
       "    </tr>\n",
       "    <tr>\n",
       "      <th>996</th>\n",
       "      <td>e4138ec7-6d11-49ab-b1af-d3ff8f74da22</td>\n",
       "      <td>41</td>\n",
       "      <td>Male</td>\n",
       "      <td>Activism and Social Justice</td>\n",
       "      <td>Human Rights and Economic Equity</td>\n",
       "      <td>Business Analyst - Corporate Responsibility Pr...</td>\n",
       "      <td>This analyst possesses a detailed understandin...</td>\n",
       "    </tr>\n",
       "    <tr>\n",
       "      <th>997</th>\n",
       "      <td>29a067aa</td>\n",
       "      <td>51</td>\n",
       "      <td>Female</td>\n",
       "      <td>Emerging Technologies</td>\n",
       "      <td>Cybersecurity Trends</td>\n",
       "      <td>Senior Technology Analyst</td>\n",
       "      <td>As a seasoned technologist with over a decade ...</td>\n",
       "    </tr>\n",
       "    <tr>\n",
       "      <th>998</th>\n",
       "      <td>537bcc51</td>\n",
       "      <td>41</td>\n",
       "      <td>Male</td>\n",
       "      <td>Crisis Response</td>\n",
       "      <td>Disaster Management</td>\n",
       "      <td>Senior Technology Analyst</td>\n",
       "      <td>A seasoned expert with extensive experience in...</td>\n",
       "    </tr>\n",
       "    <tr>\n",
       "      <th>999</th>\n",
       "      <td>3de18f34-4d6b-44aa-a5e2-c87db8c3a0fa</td>\n",
       "      <td>51</td>\n",
       "      <td>Male</td>\n",
       "      <td>Global Politics</td>\n",
       "      <td>International Relations</td>\n",
       "      <td>Economic Analyst: International Market Specialist</td>\n",
       "      <td>As a seasoned economic analyst with extensive ...</td>\n",
       "    </tr>\n",
       "  </tbody>\n",
       "</table>\n",
       "</div>"
      ],
      "text/plain": [
       "                                   user_id  age  gender  \\\n",
       "995   3ba57866-4d24-41f8-bb15-e7eaeb0ac2c6   47    Male   \n",
       "996   e4138ec7-6d11-49ab-b1af-d3ff8f74da22   41    Male   \n",
       "997                               29a067aa   51  Female   \n",
       "998                               537bcc51   41    Male   \n",
       "999  3de18f34-4d6b-44aa-a5e2-c87db8c3a0fa    51    Male   \n",
       "\n",
       "                primary_news_interest           secondary_news_interest  \\\n",
       "995  Social Media and Digital Culture        Data Analysis and Insights   \n",
       "996       Activism and Social Justice  Human Rights and Economic Equity   \n",
       "997             Emerging Technologies              Cybersecurity Trends   \n",
       "998                   Crisis Response               Disaster Management   \n",
       "999                   Global Politics           International Relations   \n",
       "\n",
       "                                                   job  \\\n",
       "995                               Quantitative Analyst   \n",
       "996  Business Analyst - Corporate Responsibility Pr...   \n",
       "997                          Senior Technology Analyst   \n",
       "998                          Senior Technology Analyst   \n",
       "999  Economic Analyst: International Market Specialist   \n",
       "\n",
       "                                           description  \n",
       "995  A seasoned professional with a strong backgrou...  \n",
       "996  This analyst possesses a detailed understandin...  \n",
       "997  As a seasoned technologist with over a decade ...  \n",
       "998  A seasoned expert with extensive experience in...  \n",
       "999  As a seasoned economic analyst with extensive ...  "
      ]
     },
     "metadata": {},
     "output_type": "display_data"
    }
   ],
   "source": [
    "display(df.head())\n",
    "display(df.tail())"
   ]
  },
  {
   "cell_type": "code",
   "execution_count": 12,
   "id": "ab55b00d-43a0-4bf4-8f51-96539dbd0d65",
   "metadata": {},
   "outputs": [
    {
     "data": {
      "text/plain": [
       "1000"
      ]
     },
     "execution_count": 12,
     "metadata": {},
     "output_type": "execute_result"
    }
   ],
   "source": [
    "len(df)"
   ]
  },
  {
   "cell_type": "code",
   "execution_count": 13,
   "id": "9842878d-50b9-4b37-b113-cbd8d853d46c",
   "metadata": {},
   "outputs": [],
   "source": [
    "df.to_csv(data_path_base + \"synthetic_analysts.csv\")"
   ]
  },
  {
   "cell_type": "code",
   "execution_count": null,
   "id": "593764ee-d45c-4ba0-982f-88f47bea7a15",
   "metadata": {},
   "outputs": [],
   "source": []
  },
  {
   "cell_type": "code",
   "execution_count": null,
   "id": "7115eaab-b03f-4d9f-a630-5715831da3e7",
   "metadata": {},
   "outputs": [],
   "source": []
  }
 ],
 "metadata": {
  "kernelspec": {
   "display_name": "Python (pyai)",
   "language": "python",
   "name": "pyai"
  },
  "language_info": {
   "codemirror_mode": {
    "name": "ipython",
    "version": 3
   },
   "file_extension": ".py",
   "mimetype": "text/x-python",
   "name": "python",
   "nbconvert_exporter": "python",
   "pygments_lexer": "ipython3",
   "version": "3.10.12"
  }
 },
 "nbformat": 4,
 "nbformat_minor": 5
}
