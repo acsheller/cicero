{
 "cells": [
  {
   "cell_type": "markdown",
   "id": "0f73fea9-fe75-4c59-a7eb-1801a15a826c",
   "metadata": {},
   "source": [
    "# News Feed Processing"
   ]
  },
  {
   "cell_type": "markdown",
   "id": "58fc3161-192d-442a-983c-2bd1f312955c",
   "metadata": {},
   "source": [
    "## 1. RSS Feeds\n",
    "\n",
    "First thing to try is to process with RSS feeds. \n",
    "\n",
    "\n",
    "\n"
   ]
  },
  {
   "cell_type": "markdown",
   "id": "3f03ae25-15e1-49a7-91c6-e693ead14f79",
   "metadata": {},
   "source": [
    "### Feedparser "
   ]
  },
  {
   "cell_type": "code",
   "execution_count": 31,
   "id": "952ba303-fd3d-4b6d-b20a-e54f34c6988b",
   "metadata": {},
   "outputs": [],
   "source": [
    "import feedparser\n",
    "from IPython.display import HTML\n",
    "feed = feedparser.parse(\"http://rss.cnn.com/rss/cnn_topstories.rss\")\n",
    "#for entry in feed.entries:\n",
    "#    print(entry.title, entry.link)\n"
   ]
  },
  {
   "cell_type": "code",
   "execution_count": 43,
   "id": "80645a4f-1570-40fb-a318-c083ab945820",
   "metadata": {},
   "outputs": [
    {
     "name": "stdout",
     "output_type": "stream",
     "text": [
      "\n",
      "Feed Title: Top stories - Google News\n"
     ]
    },
    {
     "data": {
      "text/html": [
       "</h2>Title: FEMA workers change some hurricane-recovery efforts in North Carolina after receiving threats - The Associated Press</h2>"
      ],
      "text/plain": [
       "<IPython.core.display.HTML object>"
      ]
     },
     "metadata": {},
     "output_type": "display_data"
    },
    {
     "data": {
      "text/html": [
       "Link: <a href='https://news.google.com/rss/articles/CBMivgFBVV95cUxPNjNJSkpXN1VWRW5YSXoxc2NhSFhJNWpZbTM1YnRqRWxaRmprRGZTdGxRRnNYOGJPOE92ekxnUHJQZG5vQUo1M2dBRDVsYkJRYUVLZ3RoTGQ3UmVBdXpkOFFvaWh6ZWxwRUlIQTNxZmtxbGhTX2djVjRwT3NzTUh2cEROV01WclVLNmM1LXdza19WTkJVS0JPc1FXcXp0clZhSUN0a05XTkN6TG0tZm8tQnEyVFQ3eG15SHJZdVNR?oc=5' target='_blank'>FEMA workers change some hurricane-recovery efforts in North Carolina after receiving threats - The Associated Press</a>"
      ],
      "text/plain": [
       "<IPython.core.display.HTML object>"
      ]
     },
     "metadata": {},
     "output_type": "display_data"
    },
    {
     "data": {
      "text/html": [
       "Summary: <ol><li><a href=\"https://news.google.com/rss/articles/CBMivgFBVV95cUxPNjNJSkpXN1VWRW5YSXoxc2NhSFhJNWpZbTM1YnRqRWxaRmprRGZTdGxRRnNYOGJPOE92ekxnUHJQZG5vQUo1M2dBRDVsYkJRYUVLZ3RoTGQ3UmVBdXpkOFFvaWh6ZWxwRUlIQTNxZmtxbGhTX2djVjRwT3NzTUh2cEROV01WclVLNmM1LXdza19WTkJVS0JPc1FXcXp0clZhSUN0a05XTkN6TG0tZm8tQnEyVFQ3eG15SHJZdVNR?oc=5\" target=\"_blank\">FEMA workers change some hurricane-recovery efforts in North Carolina after receiving threats</a>&nbsp;&nbsp;<font color=\"#6f6f6f\">The Associated Press</font></li><li><a href=\"https://news.google.com/rss/articles/CBMiywFBVV95cUxOcnNnWjRTeUVDNFB6N18wWGRsT2xmWGJyblYzQnZ2LXZ4dVJlTEh0MFpLMXU3dUNtcGxNcGU2aWc4ZXdHalZaclkwWjBCMzFtd243UFVTR1JMbFFGZ2JpVllUNWRYY3JoX1BodndEbmgtNEZnS1VORnlCM0UtM1Rla0IzUG41VTNoa20zaGZMdHdTT29mY2lUbzRBYTNSWnRFbGJGM0hzVUY2NUo0Zlhwek4zYWNzOGk5NzUwdGdaZUd5QTd4UTN2OVZqaw?oc=5\" target=\"_blank\">North Carolina authorities arrest armed man after threats against FEMA workers</a>&nbsp;&nbsp;<font color=\"#6f6f6f\">The Washington Post</font></li><li><a href=\"https://news.google.com/rss/articles/CBMiwwFBVV95cUxNY3hDWS0yVUpsS2RIdTctMW03ZEh0UmlDcnhjOHhIQlkxVEdaSmk4RkZOU0t4OXJCUVRMeldMTXl5N2dkLWYxWkhmX1N2cHl1NnZKaXdLQ25lM3RWWTNlekkyUEoyZUsyay1BYlFBSThOcXpSbTRHelZqcGQ1VkRPYVlmc0pvUjVFMDNhMDBmb09RcUJxczFrNFBLeFpTckpnQ3VaRGtaUTV6ZzhTc1pKSlV4T211d0NhaUFCd183dmNaOVXSAVZBVV95cUxNMnMwSm1FblBqUDdYNGJXWXJPdW9QNHhyYnR5UmlvVlVEbWhfTWRsdHhCQVRfRG9DSFB6RGF3dDV2LTR5QUtsdTE5UHBMbE41NmZvYWw1UQ?oc=5\" target=\"_blank\">Armed North Carolina man arrested on suspicion of making threats against FEMA workers, authorities say</a>&nbsp;&nbsp;<font color=\"#6f6f6f\">NBC News</font></li><li><a href=\"https://news.google.com/rss/articles/CBMipwFBVV95cUxPMGJJTm5NV3dYUHhGUFY3T2VRRmVSNk1Hd3hFZ1Y5R3Z0RTh5Vm1LT1lGMnpYanRfQlk3QXZvRlNFQ3lycVZ5U3o1VFpMdzBPUDBPMnNoUTlscnBQX2pxbnJoUUc1MFBoTjh5Uk1YYmhMT2FJU29neFBidDVITGtpSUlWbVB6RlZGSTBtRl9RVk5rY2VtLWU4R21DWnp0UkZnWHNBUFlkWQ?oc=5\" target=\"_blank\">Arrest made after FEMA crews forced to relocate amid reported threats over hurricane relief efforts</a>&nbsp;&nbsp;<font color=\"#6f6f6f\">CBS News</font></li><li><a href=\"https://news.google.com/rss/articles/CBMitgFBVV95cUxQcXB5VnlGYVhxcER2Q0E3WGZNMHU5X3RQelpYcnp4NjFhSEZESE5FWGxKOWtBa2laMnd3MlpvRjhFQW95NTZEMmlSR0pPNU15SlJqZkJyLXFEaExkOW1RaTdGZDhqVjFydXRvVlBoTzMzZndfeVJ5bHpFWGJrSVI2cHU3X0Jkell4SGNTeXRYeUg4NVVabzJpNFRiOEVESjRXUFdYT1FLQlotYWhEdFptd05DQmFidw?oc=5\" target=\"_blank\">Man Arrested for Allegedly Threatening to Harm FEMA Staffers in North Carolina</a>&nbsp;&nbsp;<font color=\"#6f6f6f\">The Wall Street Journal</font></li></ol>"
      ],
      "text/plain": [
       "<IPython.core.display.HTML object>"
      ]
     },
     "metadata": {},
     "output_type": "display_data"
    },
    {
     "data": {
      "text/html": [
       "Published: Mon, 14 Oct 2024 20:25:00 GMT"
      ],
      "text/plain": [
       "<IPython.core.display.HTML object>"
      ]
     },
     "metadata": {},
     "output_type": "display_data"
    },
    {
     "data": {
      "text/html": [
       "-<center>-</center>-"
      ],
      "text/plain": [
       "<IPython.core.display.HTML object>"
      ]
     },
     "metadata": {},
     "output_type": "display_data"
    },
    {
     "data": {
      "text/html": [
       "</h2>Title: Canada, India expel diplomats as police uncover ‘campaign of violence’ - Al Jazeera English</h2>"
      ],
      "text/plain": [
       "<IPython.core.display.HTML object>"
      ]
     },
     "metadata": {},
     "output_type": "display_data"
    },
    {
     "data": {
      "text/html": [
       "Link: <a href='https://news.google.com/rss/articles/CBMiswFBVV95cUxNY2w4dTNWWWRJcFhJM19ILUJ1NXdlN0ZHXzc2WEdTSUlVSkdYRjZjX2l1ZkNScnk3eTc2RlREXzQ4RUswQlVVSVdMcVoyenFuMEhIQXJFODBvUFV6R0lUNjVkcWpod1diRDdzRWFxMFp1ZWlBSXlTS1BXOTRjd2R3aXBIYTNMUWYyNndDRTJsVVJ2bk5TQV9qd0htSmw1eGFxQlVQTWpHWVQzX0IxbF9LNW9Cd9IBuAFBVV95cUxPUjBpd19HMUMtdnF3cWVzLVhXaGpGNVpzYjBfS0hoaWVENnVHbm9WWHpYMDlick9NSVpDdERpY1prZnBTMmd4LV93VGc1d19QZ0Q5STdrV0FLa3BCYkhsdXpsZVJkblFCNmcydGEtV0ppRk1aX2hXUlA4alhnV3BjX0xfRmFVZ0s5UU5Hb29FZWFCU2p4c3B5aWh2VHdXZV9TWjEwQnNxblkwM2taMHNXSlhxZE1PMGpS?oc=5' target='_blank'>Canada, India expel diplomats as police uncover ‘campaign of violence’ - Al Jazeera English</a>"
      ],
      "text/plain": [
       "<IPython.core.display.HTML object>"
      ]
     },
     "metadata": {},
     "output_type": "display_data"
    },
    {
     "data": {
      "text/html": [
       "Summary: <ol><li><a href=\"https://news.google.com/rss/articles/CBMiswFBVV95cUxNY2w4dTNWWWRJcFhJM19ILUJ1NXdlN0ZHXzc2WEdTSUlVSkdYRjZjX2l1ZkNScnk3eTc2RlREXzQ4RUswQlVVSVdMcVoyenFuMEhIQXJFODBvUFV6R0lUNjVkcWpod1diRDdzRWFxMFp1ZWlBSXlTS1BXOTRjd2R3aXBIYTNMUWYyNndDRTJsVVJ2bk5TQV9qd0htSmw1eGFxQlVQTWpHWVQzX0IxbF9LNW9Cd9IBuAFBVV95cUxPUjBpd19HMUMtdnF3cWVzLVhXaGpGNVpzYjBfS0hoaWVENnVHbm9WWHpYMDlick9NSVpDdERpY1prZnBTMmd4LV93VGc1d19QZ0Q5STdrV0FLa3BCYkhsdXpsZVJkblFCNmcydGEtV0ppRk1aX2hXUlA4alhnV3BjX0xfRmFVZ0s5UU5Hb29FZWFCU2p4c3B5aWh2VHdXZV9TWjEwQnNxblkwM2taMHNXSlhxZE1PMGpS?oc=5\" target=\"_blank\">Canada, India expel diplomats as police uncover ‘campaign of violence’</a>&nbsp;&nbsp;<font color=\"#6f6f6f\">Al Jazeera English</font></li><li><a href=\"https://news.google.com/rss/articles/CBMilwFBVV95cUxOemlGZ25KQTRTY21tMG42OG5HVXl0d2Zyb0lCb1pPZ2dGN08yekhKekZwUXBqdzJZSklhMmQ0bjhsTVVFS0VYbEdzT0ZSektOTkNIMjNRZjlMcXNtQnllZmtZV0hrRkdwbkNXblc2cVpVa29UYU5PQnRNZGZyeE5sM3BsclF0MTN1Y1lwYnlhY01ieldmbHJZ0gGOAUFVX3lxTFAxYmtSVXktQXNqRVgzdTZyaHRRUl9QVWt4QjVFSkhSQzJBTXZvV3NMWHJWRHJJVlRCSlNRS3ZwYmZCMlF1aVk1QWw3c0dtRmppMVNWTDN1c2Z5cHJJR2poS3cwZW5VQjEyUV9jb1VualNQQU1GamV0R3ljMWk5TnROTmdERXJmVFBYUVNrT3c?oc=5\" target=\"_blank\">Canada expels Indian diplomats after tying government agents to ‘serious criminal activity’</a>&nbsp;&nbsp;<font color=\"#6f6f6f\">CNN</font></li><li><a href=\"https://news.google.com/rss/articles/CBMihgFBVV95cUxPTnNWYlFpeHBXSGRGZ0twRW5pRzFRNFlFeVY5d1JUS1I2UzRxM1o1S2Y2UGZwQkRKR19sblNkZEtjRlE0OFlydjNoOXBvSW9LbDVFTkRPaG15SW5kUnBwcGVsZjRiSkpwaUZlUTRYYXlIcmx1czFDa19qTm9LVFV0YW50NEVWUQ?oc=5\" target=\"_blank\">Tuesday Briefing: India Accused of Homicide and Extortion</a>&nbsp;&nbsp;<font color=\"#6f6f6f\">The New York Times</font></li><li><a href=\"https://news.google.com/rss/articles/CBMiiAFBVV95cUxQYnNiSEh5VXF2ZUlqVVdJaE9SVGdNVDdVRU1TZFhOTzgxQ3JDRU5Kd0M3eDR6ajI1bThkMXo2cE5nZkVhR0gtT0dMOXhDd2JiVWdMRGtEYXVqS0xRajNRWmt0aU03dFRBUkRKYmF6RS1ORm41alp2MVZaRUdPenhoZ2JwSlpoVkZZ?oc=5\" target=\"_blank\">Canada alleges much wider campaign by Modi government against Sikhs</a>&nbsp;&nbsp;<font color=\"#6f6f6f\">The Washington Post</font></li><li><a href=\"https://news.google.com/rss/articles/CBMiowFBVV95cUxObG5XNHRSR1lOWkJrRHplZ0FWcUxjMTRONlZ5XzMzeklTMzdOaHhBbFdWV1RGUXV5VFQzQ2RzemlKQjdzcmVwellmd3F5V0tzTFNhbHYtSVhHNENoMUxzX01tRGljR193VERIRzNheXlLd1N0YmQ4emZiaHR6bnNObzRSZEsyWkw5ZGkyR0x0cHU0MlVySEFzTlBoMlQ2ZEVyYVZn?oc=5\" target=\"_blank\">Canada expels Indian diplomats as RCMP allege ties to violence, murder plot</a>&nbsp;&nbsp;<font color=\"#6f6f6f\">POLITICO</font></li></ol>"
      ],
      "text/plain": [
       "<IPython.core.display.HTML object>"
      ]
     },
     "metadata": {},
     "output_type": "display_data"
    },
    {
     "data": {
      "text/html": [
       "Published: Mon, 14 Oct 2024 19:07:30 GMT"
      ],
      "text/plain": [
       "<IPython.core.display.HTML object>"
      ]
     },
     "metadata": {},
     "output_type": "display_data"
    },
    {
     "data": {
      "text/html": [
       "-<center>-</center>-"
      ],
      "text/plain": [
       "<IPython.core.display.HTML object>"
      ]
     },
     "metadata": {},
     "output_type": "display_data"
    },
    {
     "data": {
      "text/html": [
       "</h2>Title: Who is Vem Miller, man arrested outside Trump Coachella rally? 4 things to know - Fox News</h2>"
      ],
      "text/plain": [
       "<IPython.core.display.HTML object>"
      ]
     },
     "metadata": {},
     "output_type": "display_data"
    },
    {
     "data": {
      "text/html": [
       "Link: <a href='https://news.google.com/rss/articles/CBMipwFBVV95cUxNcEpBY180N3F4dEFyNDRTS0VqOTA0WE5kMjRzZHBqS0drZHVfMzdodlZTTnVfbHFKMDNBaUVvU3pSSlNPdk03emNsYWVVcWdYSGJWbV9scUlHQjctMk1yZ1dWTFZJRUVnc0FRUF9hWmE0bWxvQ3dVVnpZQ1Y2ZGRXREZQdVhhclBSLWJXRXR6dl9aaGM1TUpaUm9YcVhBN2F0OHMzUWI4a9IBrAFBVV95cUxQU1liQURHMVpuLXVQOEV2Tml3LVdJU0tUODNBZy1EX19xeVBqVTdNMmoxUHoyUUFEMHhhcVlfSFVRNDR1QjRTaExMQmhONGExeWtZQ3dCdU55MU1EMEZjZ0k5VjlBejB6SVBwTDhFbTBHeTQxejd4YXRGdGNNckhDcVlRMjRFSjJzQUZ0SUFFTDdzU3FObldqZ1lRcnBkMUpHdDVHVXotUHVvYzlF?oc=5' target='_blank'>Who is Vem Miller, man arrested outside Trump Coachella rally? 4 things to know - Fox News</a>"
      ],
      "text/plain": [
       "<IPython.core.display.HTML object>"
      ]
     },
     "metadata": {},
     "output_type": "display_data"
    },
    {
     "data": {
      "text/html": [
       "Summary: <ol><li><a href=\"https://news.google.com/rss/articles/CBMipwFBVV95cUxNcEpBY180N3F4dEFyNDRTS0VqOTA0WE5kMjRzZHBqS0drZHVfMzdodlZTTnVfbHFKMDNBaUVvU3pSSlNPdk03emNsYWVVcWdYSGJWbV9scUlHQjctMk1yZ1dWTFZJRUVnc0FRUF9hWmE0bWxvQ3dVVnpZQ1Y2ZGRXREZQdVhhclBSLWJXRXR6dl9aaGM1TUpaUm9YcVhBN2F0OHMzUWI4a9IBrAFBVV95cUxQU1liQURHMVpuLXVQOEV2Tml3LVdJU0tUODNBZy1EX19xeVBqVTdNMmoxUHoyUUFEMHhhcVlfSFVRNDR1QjRTaExMQmhONGExeWtZQ3dCdU55MU1EMEZjZ0k5VjlBejB6SVBwTDhFbTBHeTQxejd4YXRGdGNNckhDcVlRMjRFSjJzQUZ0SUFFTDdzU3FObldqZ1lRcnBkMUpHdDVHVXotUHVvYzlF?oc=5\" target=\"_blank\">Who is Vem Miller, man arrested outside Trump Coachella rally? 4 things to know</a>&nbsp;&nbsp;<font color=\"#6f6f6f\">Fox News</font></li><li><a href=\"https://news.google.com/rss/articles/CBMi-gFBVV95cUxQV0s0SFBya2dGcWMzWS03d1Jmek56WmExN05FMERwWG9UaHkweW1fTkFWRXFiQ05tdkcwd0kxYi1pdjJINkJJU2M2YlRHQkNSWXhEeWFTUzZJNm9IeTZrcmY5Ni1JemMycXdVNzVnQlBZeVFuaEVxZmpXRm1OUEZnNE1zZzB1bVB5Vk4wT0k4U0NCRU9iY0FZaXJnNVRWVHY4dHRkV1hKOXgxNGVlUnMyYy1MNmlLSE1FV0l2QmtJNHNoUHZaY1k2TUFoUmJfTm80WEJDdldhLTRrUk1JaUtfMkN5eVBDQWE4U3d2eS11cFJVNldGZW1JTWVR?oc=5\" target=\"_blank\">Armed Man Arrested Near Trump Rally Over Concerns About ‘Third Assassination Attempt’—Here’s What We Know About Him</a>&nbsp;&nbsp;<font color=\"#6f6f6f\">Forbes</font></li><li><a href=\"https://news.google.com/rss/articles/CBMirAFBVV95cUxNM1VuUGJ5Mkp2RXNuM19VY3NCTzNtOE9FZlhUREFHOGtHTDAwWldLUG9fM01xblhkcTVhdWJwTmV4ZDRlRlhva2xLV2dGMUp5NTJTMDF1UzhqcE5EZXFMbk1LZWlqbk1hMVozRlNMVlNCUEd2ZnFBdEdvcGttZGc1dHJiZlMwM29ENHFrdnp6d2ZBZTJDZk9ZcFJ2b3dBMmpuU0dRX2kzSkVxNG8z?oc=5\" target=\"_blank\">Arrested Las Vegas man denies involvement in Trump assassination attempt</a>&nbsp;&nbsp;<font color=\"#6f6f6f\">The Hill</font></li><li><a href=\"https://news.google.com/rss/articles/CBMiigFBVV95cUxPR2U4NHdlaGdxbVhSWFZHTnRtbURlc3VOWWlNeVJWdjgtUjdYYXZMUndqcWt1LUU3RGZmRnRkMDdUVWFaeFpsTE83ZmQ1YW9PajhRYVhsQzBZQnZHVFBrMDh6Sm52ZnpUUGdKOHNESnlyT09QTi1MUkI4RlVaTldaMDV1eThVcGVmRmc?oc=5\" target=\"_blank\">The Truth About Trump’s Supposed Third Would-Be Assassin</a>&nbsp;&nbsp;<font color=\"#6f6f6f\">The New Republic</font></li><li><a href=\"https://news.google.com/rss/articles/CBMixwFBVV95cUxON3QtVzJwLXQtTFd3WElGUFU4QnU1aWZFTG5sMXpNYkJJb2NOMDZXTktSZ3Ftb21ZdkVScjhMeUNveENvTzd2MlM5Wk82NXpwN2xLZmpjMlJJSUZSaXotUkIycjRYT1UweVVlRDdVZVJaLTM3bzFYWnpoMklvSko2aG8xTGNfdWRMMnZxSE54NmJncERMRjU4d0FWZGJjQThENE1HSHJ5TzJ0b1N6UU11TS1nblpsb05SZ2UzLUdJS1Ytc0tVbkxF0gFWQVVfeXFMUHNtTzVCLUlPOXB6cHpNOEZNZUp0VUJ1UXNXNjhQbmVpdFREbmgyMVVqSUdqbjRxWngwVUUybkJCVDhXODQ4bng2OHVlOGpwbkRuWjFueGc?oc=5\" target=\"_blank\">Investigation underway after man tried to enter Trump California rally perimeter with guns in vehicle</a>&nbsp;&nbsp;<font color=\"#6f6f6f\">NBC News</font></li></ol>"
      ],
      "text/plain": [
       "<IPython.core.display.HTML object>"
      ]
     },
     "metadata": {},
     "output_type": "display_data"
    },
    {
     "data": {
      "text/html": [
       "Published: Mon, 14 Oct 2024 18:16:00 GMT"
      ],
      "text/plain": [
       "<IPython.core.display.HTML object>"
      ]
     },
     "metadata": {},
     "output_type": "display_data"
    },
    {
     "data": {
      "text/html": [
       "-<center>-</center>-"
      ],
      "text/plain": [
       "<IPython.core.display.HTML object>"
      ]
     },
     "metadata": {},
     "output_type": "display_data"
    },
    {
     "data": {
      "text/html": [
       "</h2>Title: Deadly drone attack by Hezbollah exposes Israel’s weaknesses - CNN</h2>"
      ],
      "text/plain": [
       "<IPython.core.display.HTML object>"
      ]
     },
     "metadata": {},
     "output_type": "display_data"
    },
    {
     "data": {
      "text/html": [
       "Link: <a href='https://news.google.com/rss/articles/CBMipgFBVV95cUxQUHdZcnRPWFd3NTU3a0VWbXpoM19FUDlqNHVmMU1EZVRRVThXU2FXM080UVF1TVA1a1FKaFE2TXd3X2d5Mkhqc1p6UkNvWXZkRmlXal9BWnpEYV9BNGNGWnJIaTRaN2ZfT1o3bXZib19zOW44Tm4wMkVxeDFBMXZOVFdfazZ5dG4wT2VZTnI5ai1VTldmTVBxeEVlMnRJZk5sNHVaYXNR?oc=5' target='_blank'>Deadly drone attack by Hezbollah exposes Israel’s weaknesses - CNN</a>"
      ],
      "text/plain": [
       "<IPython.core.display.HTML object>"
      ]
     },
     "metadata": {},
     "output_type": "display_data"
    },
    {
     "data": {
      "text/html": [
       "Summary: <ol><li><a href=\"https://news.google.com/rss/articles/CBMipgFBVV95cUxQUHdZcnRPWFd3NTU3a0VWbXpoM19FUDlqNHVmMU1EZVRRVThXU2FXM080UVF1TVA1a1FKaFE2TXd3X2d5Mkhqc1p6UkNvWXZkRmlXal9BWnpEYV9BNGNGWnJIaTRaN2ZfT1o3bXZib19zOW44Tm4wMkVxeDFBMXZOVFdfazZ5dG4wT2VZTnI5ai1VTldmTVBxeEVlMnRJZk5sNHVaYXNR?oc=5\" target=\"_blank\">Deadly drone attack by Hezbollah exposes Israel’s weaknesses</a>&nbsp;&nbsp;<font color=\"#6f6f6f\">CNN</font></li><li><a href=\"https://news.google.com/rss/articles/CBMirgFBVV95cUxOT1Bteld2enhoWTByU1ctT3hZYlZFdklnSG1uUm9FbGE1YjhkdGQ2emJuR0dMb1JHSkJ6SUVwOTFhOEI3eXdRMFdYOUpXZTBDc2MxWF8tSlpSRDV2MEY5bElMWE5lVTNlb2IwVEtxeFF0NS1BanR6NEtTWmxqY3dBazN1UWZBVjkwV0pxV2FlYVBERTFjR3pRX0lQWUhGS0hwSi11WTE2WkFYbjNMN3c?oc=5\" target=\"_blank\">Deadly Hezbollah Strike Shows Growing Threat Posed by Drones</a>&nbsp;&nbsp;<font color=\"#6f6f6f\">The Wall Street Journal</font></li><li><a href=\"https://news.google.com/rss/articles/CBMirAFBVV95cUxPRC1PNGl2VkV4SFlzUnQ1N20xYmRiQzFMZC0yLW1pZVNxZlctRDFwYWNXVEhUT3JFZnItNk0yTUJWdWJVQk1mTkIwRjFwcW5SZDNRRGdGdVB1cklCX29zTm43R2NCcWpPVVMxaGZMam1ZTENPUE5zc2Z3ck55U2VwclBFeDN0Y1JMNjd5UmpuTkVuX1B6Ykhpd1YzSV9aSFAtbTBVaDJwVnVuM1h1?oc=5\" target=\"_blank\">Video: See aftermath of deadly drone attack on Israeli base</a>&nbsp;&nbsp;<font color=\"#6f6f6f\">CNN</font></li><li><a href=\"https://news.google.com/rss/articles/CBMirwFBVV95cUxPVEFTb0VYV2NKZUZ1aHVmV0xqcE03aHl3VERIMTFWQU14NUYtT1AwYWNRanBXaVlnM3hpUlBQbXN5OE1wbU9NQ2ljSzRVUDhJZ2NPTURRY3lIcVBrdm12bktUQU9nYTlmT3RVcXY3VkJyV20zN2YyQzdCdlhNaDU4Tm84SV90T056LXJhWUNuNU1kckdYRTV4QS1wV3g3Z3hVNjhBSWZRVDA3bHAzYWx3?oc=5\" target=\"_blank\">Hezbollah’s drones are a fierce and evasive threat to Israel</a>&nbsp;&nbsp;<font color=\"#6f6f6f\">The Associated Press</font></li><li><a href=\"https://news.google.com/rss/articles/CBMiqgFBVV95cUxNZGZEeWxQUFQ2cmcycmM1QzFYWU5BRGhaTHZMaG1oMnhveUFxa0pYTDVGTW5sa2NEbW1teXE5RWNzaTN1VGtELVhmcm40ZTZfdEktaEZqZVp4NE5za0R1SG0zNUlqLVA3dUgyWHdpSDZaM0tueHJGSFBub0Q1TXQyQXNLbmhiX2NfdnI3U0R1UzEtbTNueXlKUlpqYjA4VWM3NjVRNmlFMk5MZ9IBrwFBVV95cUxOMGx4U2xkV0hzTnpGU2pTV21aZWNnYU9QNnBlRk9SR1JjNXJ1NTctT2VWZE1hQnQ0NUZwZ1NxWEt4QUg3TFBsYjQ1U29qdXhpXzh4dW9KRHZBbzBwTXl0LUc4MmhPNWRQcTZuVVNjUDVONkF3YnBrTGdBZHcwTFBuZXBWN1BLS2hYc3ZhQ2pmcE5NWXI2LWFxV094eG9QZm1kNWplWDFDWGY3cVlWYUw4?oc=5\" target=\"_blank\">Hezbollah UAV that killed 4 dropped off radar, then briefly reappeared – probe</a>&nbsp;&nbsp;<font color=\"#6f6f6f\">The Times of Israel</font></li></ol>"
      ],
      "text/plain": [
       "<IPython.core.display.HTML object>"
      ]
     },
     "metadata": {},
     "output_type": "display_data"
    },
    {
     "data": {
      "text/html": [
       "Published: Mon, 14 Oct 2024 19:38:00 GMT"
      ],
      "text/plain": [
       "<IPython.core.display.HTML object>"
      ]
     },
     "metadata": {},
     "output_type": "display_data"
    },
    {
     "data": {
      "text/html": [
       "-<center>-</center>-"
      ],
      "text/plain": [
       "<IPython.core.display.HTML object>"
      ]
     },
     "metadata": {},
     "output_type": "display_data"
    },
    {
     "data": {
      "text/html": [
       "</h2>Title: Kamala Harris Sets an Interview With a Not-So-Friendly Outlet: Fox News. - The New York Times</h2>"
      ],
      "text/plain": [
       "<IPython.core.display.HTML object>"
      ]
     },
     "metadata": {},
     "output_type": "display_data"
    },
    {
     "data": {
      "text/html": [
       "Link: <a href='https://news.google.com/rss/articles/CBMikAFBVV95cUxOWDA4QVNjRGE0clhtY1hxYlk2ZHNFakpXS3hFYkRFZGpsVXcyZThLSWJySUlQR0huOTNRSnFQek10b25vT0x3a3kwVDZkNmFFQTVhNkI0Rm5RdkU5QXJNMFlLRHJNek5mZXlPaFRTV09CS0JPTUROUmZuazlDdFM5NjI3YW1MMDlpQnJ3aG5UMTE?oc=5' target='_blank'>Kamala Harris Sets an Interview With a Not-So-Friendly Outlet: Fox News. - The New York Times</a>"
      ],
      "text/plain": [
       "<IPython.core.display.HTML object>"
      ]
     },
     "metadata": {},
     "output_type": "display_data"
    },
    {
     "data": {
      "text/html": [
       "Summary: <ol><li><a href=\"https://news.google.com/rss/articles/CBMikAFBVV95cUxOWDA4QVNjRGE0clhtY1hxYlk2ZHNFakpXS3hFYkRFZGpsVXcyZThLSWJySUlQR0huOTNRSnFQek10b25vT0x3a3kwVDZkNmFFQTVhNkI0Rm5RdkU5QXJNMFlLRHJNek5mZXlPaFRTV09CS0JPTUROUmZuazlDdFM5NjI3YW1MMDlpQnJ3aG5UMTE?oc=5\" target=\"_blank\">Kamala Harris Sets an Interview With a Not-So-Friendly Outlet: Fox News.</a>&nbsp;&nbsp;<font color=\"#6f6f6f\">The New York Times</font></li><li><a href=\"https://news.google.com/rss/articles/CBMifkFVX3lxTFB2Mk4ycnZveFVFdkxvTjZzeWxjN0dHclQ3MktRWjlsenRKdFpxY1RYWFlSVlkzaXk3M0ZOT0ZBdlFwZE1STjVFN2haSnlQZjhhbHI4Yk9RazMxcEVVQVBKa1lxdE5aMy1HWmM5dERwSHA4ZTMxY2xsXzFnejNldw?oc=5\" target=\"_blank\">Donald Trump Says Kamala Harris' Campaign 'Virtually Owns' Fox News</a>&nbsp;&nbsp;<font color=\"#6f6f6f\">Newsweek</font></li><li><a href=\"https://news.google.com/rss/articles/CBMihgFBVV95cUxQOVRsWnpLa3hOQ1VmU2R2cmNyNTlJQTc5SzhEZ0hUS3BoWloyUUgxM21RZzRZWTBacm84X19wNWNSeEVrLVRsekFPRXJ5bjVHaEN0UTd1TlAyV3NncTNIbjFEckM4QTNJaWQ4dmNVaGhZNm1hc2RnbEF2SU1USjk3WDNBaUNxUdIBiwFBVV95cUxNQ005SU1FTmtxYnNYSzVyZ3BlWklLV1JxWDB1NFg4M2tXWHRuVVFVN1M0VUFWR2Zyb3V4dktRb21fNUl0Z2ZSalBuTlFMMVBCTzhCVzl2Z0NUM2poVURmRlVKV0t0TVNqQk9reDlSeE1uLWY0eUY4YThySkNZdHFWN2xhNlJCMkFSWnY0?oc=5\" target=\"_blank\">Harris agrees to sit for interview with Fox News</a>&nbsp;&nbsp;<font color=\"#6f6f6f\">The Hill</font></li><li><a href=\"https://news.google.com/rss/articles/CBMiVEFVX3lxTE1Xb0s2a3BEN3Jyc1RqcC1ZdkxvUERVWk5jTnFyMHE0YUZsOXd3dXhHN1I2ZlVxZ19yaXNJX2JDUFMtdVhnSm5YcUUxXzYzY3cyOHByZg?oc=5\" target=\"_blank\">US election 2024 updates: Harris agrees to Fox interview ahead of duelling Pennsylvania campaign stops</a>&nbsp;&nbsp;<font color=\"#6f6f6f\">BBC.com</font></li><li><a href=\"https://news.google.com/rss/articles/CBMihwFBVV95cUxOVnA3bmg1Q2VGUFNYeEZSRXJrMmNxejA2ZDRVRjVJY0FBX0NidHR1UWFiM09HQXdRUkJkWi03dFVxVzdYTmZaVklTVWlNMkVjWTl0dW9QbHM0cVFBUV96LVdtUmc5bVN4U3JRWHVHSjFIZUQ3Uy1RZDBBS0NMYTlnU0JWSl9UU1HSAYcBQVVfeXFMTkE3ODNUU0NpdnY0VUI2M25UdE5neEdSc1hHMXAtUmszcEszS3UtVDNIYXFuNVg3ZEFSN1ZIZUVlSk10dzNOZGJYbV96WERvYVZ5dkthcGNaaEZTTHltS2h1RjlnVVVTbVpIcFZSb2ZBcmpuVXV3VWw5QnptOWZXT0lWVjZrWG9v?oc=5\" target=\"_blank\">Kamala Harris agrees to interview with Fox News</a>&nbsp;&nbsp;<font color=\"#6f6f6f\">The Guardian US</font></li></ol>"
      ],
      "text/plain": [
       "<IPython.core.display.HTML object>"
      ]
     },
     "metadata": {},
     "output_type": "display_data"
    },
    {
     "data": {
      "text/html": [
       "Published: Mon, 14 Oct 2024 17:10:16 GMT"
      ],
      "text/plain": [
       "<IPython.core.display.HTML object>"
      ]
     },
     "metadata": {},
     "output_type": "display_data"
    },
    {
     "data": {
      "text/html": [
       "-<center>-</center>-"
      ],
      "text/plain": [
       "<IPython.core.display.HTML object>"
      ]
     },
     "metadata": {},
     "output_type": "display_data"
    },
    {
     "name": "stdout",
     "output_type": "stream",
     "text": [
      "\n",
      "Feed Title: Home - CBSNews.com\n"
     ]
    },
    {
     "data": {
      "text/html": [
       "</h2>Title: Pandas from China en route to Washington, D.C.'s National Zoo</h2>"
      ],
      "text/plain": [
       "<IPython.core.display.HTML object>"
      ]
     },
     "metadata": {},
     "output_type": "display_data"
    },
    {
     "data": {
      "text/html": [
       "Link: <a href='https://www.cbsnews.com/news/pandas-from-china-returning-national-zoo/' target='_blank'>Pandas from China en route to Washington, D.C.'s National Zoo</a>"
      ],
      "text/plain": [
       "<IPython.core.display.HTML object>"
      ]
     },
     "metadata": {},
     "output_type": "display_data"
    },
    {
     "data": {
      "text/html": [
       "Summary: A pair of giant pandas is set to arrive at the National Zoo on Tuesday less than a year after the Washington zoo sent Mei Xiang, Tian Tian and their cub Xiao Qi Ji back to China."
      ],
      "text/plain": [
       "<IPython.core.display.HTML object>"
      ]
     },
     "metadata": {},
     "output_type": "display_data"
    },
    {
     "data": {
      "text/html": [
       "Published: Mon, 14 Oct 2024 17:35:49 -0400"
      ],
      "text/plain": [
       "<IPython.core.display.HTML object>"
      ]
     },
     "metadata": {},
     "output_type": "display_data"
    },
    {
     "data": {
      "text/html": [
       "-<center>-</center>-"
      ],
      "text/plain": [
       "<IPython.core.display.HTML object>"
      ]
     },
     "metadata": {},
     "output_type": "display_data"
    },
    {
     "data": {
      "text/html": [
       "</h2>Title: Here's how to delete your 23andMe data, as company flounders</h2>"
      ],
      "text/plain": [
       "<IPython.core.display.HTML object>"
      ]
     },
     "metadata": {},
     "output_type": "display_data"
    },
    {
     "data": {
      "text/html": [
       "Link: <a href='https://www.cbsnews.com/news/23andme-how-to-delete-my-data/' target='_blank'>Here's how to delete your 23andMe data, as company flounders</a>"
      ],
      "text/plain": [
       "<IPython.core.display.HTML object>"
      ]
     },
     "metadata": {},
     "output_type": "display_data"
    },
    {
     "data": {
      "text/html": [
       "Summary: Here's how to delete your data as company shake-up leaves customers wondering what will happen to their DNA info."
      ],
      "text/plain": [
       "<IPython.core.display.HTML object>"
      ]
     },
     "metadata": {},
     "output_type": "display_data"
    },
    {
     "data": {
      "text/html": [
       "Published: Mon, 14 Oct 2024 17:08:34 -0400"
      ],
      "text/plain": [
       "<IPython.core.display.HTML object>"
      ]
     },
     "metadata": {},
     "output_type": "display_data"
    },
    {
     "data": {
      "text/html": [
       "-<center>-</center>-"
      ],
      "text/plain": [
       "<IPython.core.display.HTML object>"
      ]
     },
     "metadata": {},
     "output_type": "display_data"
    },
    {
     "data": {
      "text/html": [
       "</h2>Title: Trump's DJT stock is surging, lifting Truth Social. Here's why.</h2>"
      ],
      "text/plain": [
       "<IPython.core.display.HTML object>"
      ]
     },
     "metadata": {},
     "output_type": "display_data"
    },
    {
     "data": {
      "text/html": [
       "Link: <a href='https://www.cbsnews.com/news/trump-why-is-djt-stock-going-up-election/' target='_blank'>Trump's DJT stock is surging, lifting Truth Social. Here's why.</a>"
      ],
      "text/plain": [
       "<IPython.core.display.HTML object>"
      ]
     },
     "metadata": {},
     "output_type": "display_data"
    },
    {
     "data": {
      "text/html": [
       "Summary: Shares of Trump Media & Technology Group, which trades under the DJT ticker, jumped 18% on Monday. Here's why."
      ],
      "text/plain": [
       "<IPython.core.display.HTML object>"
      ]
     },
     "metadata": {},
     "output_type": "display_data"
    },
    {
     "data": {
      "text/html": [
       "Published: Mon, 14 Oct 2024 16:34:00 -0400"
      ],
      "text/plain": [
       "<IPython.core.display.HTML object>"
      ]
     },
     "metadata": {},
     "output_type": "display_data"
    },
    {
     "data": {
      "text/html": [
       "-<center>-</center>-"
      ],
      "text/plain": [
       "<IPython.core.display.HTML object>"
      ]
     },
     "metadata": {},
     "output_type": "display_data"
    },
    {
     "data": {
      "text/html": [
       "</h2>Title: Trump's anti-immigrant, domestic \"enemy\" rhetoric in focus</h2>"
      ],
      "text/plain": [
       "<IPython.core.display.HTML object>"
      ]
     },
     "metadata": {},
     "output_type": "display_data"
    },
    {
     "data": {
      "text/html": [
       "Link: <a href='https://www.cbsnews.com/news/donald-trump-rhetoric-enemy-anti-immigrant/' target='_blank'>Trump's anti-immigrant, domestic \"enemy\" rhetoric in focus</a>"
      ],
      "text/plain": [
       "<IPython.core.display.HTML object>"
      ]
     },
     "metadata": {},
     "output_type": "display_data"
    },
    {
     "data": {
      "text/html": [
       "Summary: Former President Donald Trump has repeatedly used the \"threat from within\" label throughout his campaign to label his political opponents."
      ],
      "text/plain": [
       "<IPython.core.display.HTML object>"
      ]
     },
     "metadata": {},
     "output_type": "display_data"
    },
    {
     "data": {
      "text/html": [
       "Published: Mon, 14 Oct 2024 16:23:15 -0400"
      ],
      "text/plain": [
       "<IPython.core.display.HTML object>"
      ]
     },
     "metadata": {},
     "output_type": "display_data"
    },
    {
     "data": {
      "text/html": [
       "-<center>-</center>-"
      ],
      "text/plain": [
       "<IPython.core.display.HTML object>"
      ]
     },
     "metadata": {},
     "output_type": "display_data"
    },
    {
     "data": {
      "text/html": [
       "</h2>Title: IRS ruling on 401(k) company matches could open doors to pay off debt</h2>"
      ],
      "text/plain": [
       "<IPython.core.display.HTML object>"
      ]
     },
     "metadata": {},
     "output_type": "display_data"
    },
    {
     "data": {
      "text/html": [
       "Link: <a href='https://www.cbsnews.com/video/irs-ruling-on-401k-company-matches-could-open-doors-to-pay-off-debt/' target='_blank'>IRS ruling on 401(k) company matches could open doors to pay off debt</a>"
      ],
      "text/plain": [
       "<IPython.core.display.HTML object>"
      ]
     },
     "metadata": {},
     "output_type": "display_data"
    },
    {
     "data": {
      "text/html": [
       "Summary: A new Internal Revenue Service ruling on 401(k) company matches could change the way employees apply the contributions made by their employers. CBS News senior business and technology correspondent Jo Ling Kent has more."
      ],
      "text/plain": [
       "<IPython.core.display.HTML object>"
      ]
     },
     "metadata": {},
     "output_type": "display_data"
    },
    {
     "data": {
      "text/html": [
       "Published: Mon, 14 Oct 2024 16:16:00 -0400"
      ],
      "text/plain": [
       "<IPython.core.display.HTML object>"
      ]
     },
     "metadata": {},
     "output_type": "display_data"
    },
    {
     "data": {
      "text/html": [
       "-<center>-</center>-"
      ],
      "text/plain": [
       "<IPython.core.display.HTML object>"
      ]
     },
     "metadata": {},
     "output_type": "display_data"
    },
    {
     "name": "stdout",
     "output_type": "stream",
     "text": [
      "\n",
      "Feed Title: BBC News\n"
     ]
    },
    {
     "data": {
      "text/html": [
       "</h2>Title: Lebanon says 21 killed in air strike in country’s north</h2>"
      ],
      "text/plain": [
       "<IPython.core.display.HTML object>"
      ]
     },
     "metadata": {},
     "output_type": "display_data"
    },
    {
     "data": {
      "text/html": [
       "Link: <a href='https://www.bbc.com/news/articles/c5y80p1yr9qo' target='_blank'>Lebanon says 21 killed in air strike in country’s north</a>"
      ],
      "text/plain": [
       "<IPython.core.display.HTML object>"
      ]
     },
     "metadata": {},
     "output_type": "display_data"
    },
    {
     "data": {
      "text/html": [
       "Summary: The rare strike in northern Lebanon hit a residential building in a predominantly Christian village."
      ],
      "text/plain": [
       "<IPython.core.display.HTML object>"
      ]
     },
     "metadata": {},
     "output_type": "display_data"
    },
    {
     "data": {
      "text/html": [
       "Published: Mon, 14 Oct 2024 19:09:38 GMT"
      ],
      "text/plain": [
       "<IPython.core.display.HTML object>"
      ]
     },
     "metadata": {},
     "output_type": "display_data"
    },
    {
     "data": {
      "text/html": [
       "-<center>-</center>-"
      ],
      "text/plain": [
       "<IPython.core.display.HTML object>"
      ]
     },
     "metadata": {},
     "output_type": "display_data"
    },
    {
     "data": {
      "text/html": [
       "</h2>Title: ‘I say bye to my kids, in case we don’t wake up’ – two Gazans film year under Israeli attack</h2>"
      ],
      "text/plain": [
       "<IPython.core.display.HTML object>"
      ]
     },
     "metadata": {},
     "output_type": "display_data"
    },
    {
     "data": {
      "text/html": [
       "Link: <a href='https://www.bbc.com/news/videos/c4g5jxky8q0o' target='_blank'>‘I say bye to my kids, in case we don’t wake up’ – two Gazans film year under Israeli attack</a>"
      ],
      "text/plain": [
       "<IPython.core.display.HTML object>"
      ]
     },
     "metadata": {},
     "output_type": "display_data"
    },
    {
     "data": {
      "text/html": [
       "Summary: Over the past year, Aya and Khalid have been filming their lives for a BBC documentary."
      ],
      "text/plain": [
       "<IPython.core.display.HTML object>"
      ]
     },
     "metadata": {},
     "output_type": "display_data"
    },
    {
     "data": {
      "text/html": [
       "Published: Mon, 14 Oct 2024 21:10:07 GMT"
      ],
      "text/plain": [
       "<IPython.core.display.HTML object>"
      ]
     },
     "metadata": {},
     "output_type": "display_data"
    },
    {
     "data": {
      "text/html": [
       "-<center>-</center>-"
      ],
      "text/plain": [
       "<IPython.core.display.HTML object>"
      ]
     },
     "metadata": {},
     "output_type": "display_data"
    },
    {
     "data": {
      "text/html": [
       "</h2>Title: UN condemns 'large number of civilian casualties' in north Gaza</h2>"
      ],
      "text/plain": [
       "<IPython.core.display.HTML object>"
      ]
     },
     "metadata": {},
     "output_type": "display_data"
    },
    {
     "data": {
      "text/html": [
       "Link: <a href='https://www.bbc.com/news/articles/c5y5zy1vvmlo' target='_blank'>UN condemns 'large number of civilian casualties' in north Gaza</a>"
      ],
      "text/plain": [
       "<IPython.core.display.HTML object>"
      ]
     },
     "metadata": {},
     "output_type": "display_data"
    },
    {
     "data": {
      "text/html": [
       "Summary: It comes after 10 people were killed by an Israeli strike while waiting at a food distribution centre."
      ],
      "text/plain": [
       "<IPython.core.display.HTML object>"
      ]
     },
     "metadata": {},
     "output_type": "display_data"
    },
    {
     "data": {
      "text/html": [
       "Published: Mon, 14 Oct 2024 19:55:44 GMT"
      ],
      "text/plain": [
       "<IPython.core.display.HTML object>"
      ]
     },
     "metadata": {},
     "output_type": "display_data"
    },
    {
     "data": {
      "text/html": [
       "-<center>-</center>-"
      ],
      "text/plain": [
       "<IPython.core.display.HTML object>"
      ]
     },
     "metadata": {},
     "output_type": "display_data"
    },
    {
     "data": {
      "text/html": [
       "</h2>Title: Sean 'Diddy' Combs accused of sexually assaulting teenager in new lawsuits</h2>"
      ],
      "text/plain": [
       "<IPython.core.display.HTML object>"
      ]
     },
     "metadata": {},
     "output_type": "display_data"
    },
    {
     "data": {
      "text/html": [
       "Link: <a href='https://www.bbc.com/news/articles/c2eklxx9y1ro' target='_blank'>Sean 'Diddy' Combs accused of sexually assaulting teenager in new lawsuits</a>"
      ],
      "text/plain": [
       "<IPython.core.display.HTML object>"
      ]
     },
     "metadata": {},
     "output_type": "display_data"
    },
    {
     "data": {
      "text/html": [
       "Summary: Six new lawsuits are filed in New York with allegations spanning from 1995 to 2021."
      ],
      "text/plain": [
       "<IPython.core.display.HTML object>"
      ]
     },
     "metadata": {},
     "output_type": "display_data"
    },
    {
     "data": {
      "text/html": [
       "Published: Mon, 14 Oct 2024 21:43:24 GMT"
      ],
      "text/plain": [
       "<IPython.core.display.HTML object>"
      ]
     },
     "metadata": {},
     "output_type": "display_data"
    },
    {
     "data": {
      "text/html": [
       "-<center>-</center>-"
      ],
      "text/plain": [
       "<IPython.core.display.HTML object>"
      ]
     },
     "metadata": {},
     "output_type": "display_data"
    },
    {
     "data": {
      "text/html": [
       "</h2>Title: Spacecraft blasts off to hunt alien life on a distant moon</h2>"
      ],
      "text/plain": [
       "<IPython.core.display.HTML object>"
      ]
     },
     "metadata": {},
     "output_type": "display_data"
    },
    {
     "data": {
      "text/html": [
       "Link: <a href='https://www.bbc.com/news/articles/c1482xzrge1o' target='_blank'>Spacecraft blasts off to hunt alien life on a distant moon</a>"
      ],
      "text/plain": [
       "<IPython.core.display.HTML object>"
      ]
     },
     "metadata": {},
     "output_type": "display_data"
    },
    {
     "data": {
      "text/html": [
       "Summary: Nasa's spacecraft could change what we know about life in our solar system."
      ],
      "text/plain": [
       "<IPython.core.display.HTML object>"
      ]
     },
     "metadata": {},
     "output_type": "display_data"
    },
    {
     "data": {
      "text/html": [
       "Published: Mon, 14 Oct 2024 16:15:54 GMT"
      ],
      "text/plain": [
       "<IPython.core.display.HTML object>"
      ]
     },
     "metadata": {},
     "output_type": "display_data"
    },
    {
     "data": {
      "text/html": [
       "-<center>-</center>-"
      ],
      "text/plain": [
       "<IPython.core.display.HTML object>"
      ]
     },
     "metadata": {},
     "output_type": "display_data"
    },
    {
     "name": "stdout",
     "output_type": "stream",
     "text": [
      "\n",
      "Feed Title: PBS NewsHour - The Latest\n"
     ]
    },
    {
     "data": {
      "text/html": [
       "</h2>Title: Florida abortion ballot measure under fire by state government</h2>"
      ],
      "text/plain": [
       "<IPython.core.display.HTML object>"
      ]
     },
     "metadata": {},
     "output_type": "display_data"
    },
    {
     "data": {
      "text/html": [
       "Link: <a href='https://www.pbs.org/newshour/politics/florida-abortion-ballot-measure-under-fire-by-state-government' target='_blank'>Florida abortion ballot measure under fire by state government</a>"
      ],
      "text/plain": [
       "<IPython.core.display.HTML object>"
      ]
     },
     "metadata": {},
     "output_type": "display_data"
    },
    {
     "data": {
      "text/html": [
       "Summary: Florida's government is finding fault on multiple fronts with an abortion rights ballot measure that Gov. Ron DeSantis opposes."
      ],
      "text/plain": [
       "<IPython.core.display.HTML object>"
      ]
     },
     "metadata": {},
     "output_type": "display_data"
    },
    {
     "data": {
      "text/html": [
       "Published: Mon, 14 Oct 2024 17:27:24 -0400"
      ],
      "text/plain": [
       "<IPython.core.display.HTML object>"
      ]
     },
     "metadata": {},
     "output_type": "display_data"
    },
    {
     "data": {
      "text/html": [
       "-<center>-</center>-"
      ],
      "text/plain": [
       "<IPython.core.display.HTML object>"
      ]
     },
     "metadata": {},
     "output_type": "display_data"
    },
    {
     "data": {
      "text/html": [
       "</h2>Title: FEMA adjusts hurricane-recovery efforts in North Carolina after workers threatened</h2>"
      ],
      "text/plain": [
       "<IPython.core.display.HTML object>"
      ]
     },
     "metadata": {},
     "output_type": "display_data"
    },
    {
     "data": {
      "text/html": [
       "Link: <a href='https://www.pbs.org/newshour/nation/fema-adjusts-hurricane-recovery-efforts-in-north-carolina-after-workers-threatened' target='_blank'>FEMA adjusts hurricane-recovery efforts in North Carolina after workers threatened</a>"
      ],
      "text/plain": [
       "<IPython.core.display.HTML object>"
      ]
     },
     "metadata": {},
     "output_type": "display_data"
    },
    {
     "data": {
      "text/html": [
       "Summary: The Rutherford County Sheriff's Office said in a statement Monday that it received a call Saturday about a man with an assault rifle who made a comment \"about possibly harming\" employees of the Federal Emergency Management Agency working in the hard-hit areas of Lake Lure and Chimney Rock, in the North Carolina mountains."
      ],
      "text/plain": [
       "<IPython.core.display.HTML object>"
      ]
     },
     "metadata": {},
     "output_type": "display_data"
    },
    {
     "data": {
      "text/html": [
       "Published: Mon, 14 Oct 2024 17:12:47 -0400"
      ],
      "text/plain": [
       "<IPython.core.display.HTML object>"
      ]
     },
     "metadata": {},
     "output_type": "display_data"
    },
    {
     "data": {
      "text/html": [
       "-<center>-</center>-"
      ],
      "text/plain": [
       "<IPython.core.display.HTML object>"
      ]
     },
     "metadata": {},
     "output_type": "display_data"
    },
    {
     "data": {
      "text/html": [
       "</h2>Title: How the federal criminal cases against Trump ended up in legal limbo as the election looms</h2>"
      ],
      "text/plain": [
       "<IPython.core.display.HTML object>"
      ]
     },
     "metadata": {},
     "output_type": "display_data"
    },
    {
     "data": {
      "text/html": [
       "Link: <a href='https://www.pbs.org/newshour/politics/how-the-federal-criminal-cases-against-trump-ended-up-in-legal-limbo-as-the-election-looms' target='_blank'>How the federal criminal cases against Trump ended up in legal limbo as the election looms</a>"
      ],
      "text/plain": [
       "<IPython.core.display.HTML object>"
      ]
     },
     "metadata": {},
     "output_type": "display_data"
    },
    {
     "data": {
      "text/html": [
       "Summary: A year that began with the prospect of a federal court reckoning for Trump will end without any chance of a trial, leaving voters without the finality of an up-or-down jury verdict in the two most consequential cases against the Republican presidential nominee."
      ],
      "text/plain": [
       "<IPython.core.display.HTML object>"
      ]
     },
     "metadata": {},
     "output_type": "display_data"
    },
    {
     "data": {
      "text/html": [
       "Published: Mon, 14 Oct 2024 17:00:38 -0400"
      ],
      "text/plain": [
       "<IPython.core.display.HTML object>"
      ]
     },
     "metadata": {},
     "output_type": "display_data"
    },
    {
     "data": {
      "text/html": [
       "-<center>-</center>-"
      ],
      "text/plain": [
       "<IPython.core.display.HTML object>"
      ]
     },
     "metadata": {},
     "output_type": "display_data"
    },
    {
     "data": {
      "text/html": [
       "</h2>Title: Wave of new lawsuits accuse Diddy of sexual assault, including by man who was 16 at the time</h2>"
      ],
      "text/plain": [
       "<IPython.core.display.HTML object>"
      ]
     },
     "metadata": {},
     "output_type": "display_data"
    },
    {
     "data": {
      "text/html": [
       "Link: <a href='https://www.pbs.org/newshour/nation/wave-of-new-lawsuits-accuse-diddy-of-sexual-assault-including-by-man-who-was-16-at-the-time' target='_blank'>Wave of new lawsuits accuse Diddy of sexual assault, including by man who was 16 at the time</a>"
      ],
      "text/plain": [
       "<IPython.core.display.HTML object>"
      ]
     },
     "metadata": {},
     "output_type": "display_data"
    },
    {
     "data": {
      "text/html": [
       "Summary: At least six lawsuits were filed against the hip-hop mogul in federal court in Manhattan, two by women identified as Jane Does and four by men identified as John Does."
      ],
      "text/plain": [
       "<IPython.core.display.HTML object>"
      ]
     },
     "metadata": {},
     "output_type": "display_data"
    },
    {
     "data": {
      "text/html": [
       "Published: Mon, 14 Oct 2024 16:32:07 -0400"
      ],
      "text/plain": [
       "<IPython.core.display.HTML object>"
      ]
     },
     "metadata": {},
     "output_type": "display_data"
    },
    {
     "data": {
      "text/html": [
       "-<center>-</center>-"
      ],
      "text/plain": [
       "<IPython.core.display.HTML object>"
      ]
     },
     "metadata": {},
     "output_type": "display_data"
    },
    {
     "data": {
      "text/html": [
       "</h2>Title: Why the Trump campaign's use of online crowdfunding for emergency relief is unusual</h2>"
      ],
      "text/plain": [
       "<IPython.core.display.HTML object>"
      ]
     },
     "metadata": {},
     "output_type": "display_data"
    },
    {
     "data": {
      "text/html": [
       "Link: <a href='https://www.pbs.org/newshour/politics/why-the-trump-campaigns-use-of-online-crowdfunding-for-emergency-relief-is-unusual' target='_blank'>Why the Trump campaign's use of online crowdfunding for emergency relief is unusual</a>"
      ],
      "text/plain": [
       "<IPython.core.display.HTML object>"
      ]
     },
     "metadata": {},
     "output_type": "display_data"
    },
    {
     "data": {
      "text/html": [
       "Summary: Never before has a major party's presidential candidate turned to the for-profit company -- which usually features desperate appeals for help covering tuition costs or medical bills -- to mobilize their base toward outside charitable causes."
      ],
      "text/plain": [
       "<IPython.core.display.HTML object>"
      ]
     },
     "metadata": {},
     "output_type": "display_data"
    },
    {
     "data": {
      "text/html": [
       "Published: Mon, 14 Oct 2024 16:03:49 -0400"
      ],
      "text/plain": [
       "<IPython.core.display.HTML object>"
      ]
     },
     "metadata": {},
     "output_type": "display_data"
    },
    {
     "data": {
      "text/html": [
       "-<center>-</center>-"
      ],
      "text/plain": [
       "<IPython.core.display.HTML object>"
      ]
     },
     "metadata": {},
     "output_type": "display_data"
    },
    {
     "name": "stdout",
     "output_type": "stream",
     "text": [
      "\n",
      "Feed Title: NPR Topics: News\n"
     ]
    },
    {
     "data": {
      "text/html": [
       "</h2>Title: Lilly Ledbetter, the activist who inspired fair pay act, dies at 86</h2>"
      ],
      "text/plain": [
       "<IPython.core.display.HTML object>"
      ]
     },
     "metadata": {},
     "output_type": "display_data"
    },
    {
     "data": {
      "text/html": [
       "Link: <a href='https://www.npr.org/2024/10/14/nx-s1-5152538/lilly-ledbetter-pay-equity-obituary' target='_blank'>Lilly Ledbetter, the activist who inspired fair pay act, dies at 86</a>"
      ],
      "text/plain": [
       "<IPython.core.display.HTML object>"
      ]
     },
     "metadata": {},
     "output_type": "display_data"
    },
    {
     "data": {
      "text/html": [
       "Summary: Lilly Ledbetter, a supervisor at a Goodyear tire plant in Alabama, discovered she was receiving less pay than men who worked the same position. Her case led to a monumental law on pay equity."
      ],
      "text/plain": [
       "<IPython.core.display.HTML object>"
      ]
     },
     "metadata": {},
     "output_type": "display_data"
    },
    {
     "data": {
      "text/html": [
       "Content: <img alt=\"President Barack Obama stands with Lilly Ledbetter before signing the Lilly Ledbetter Fair Pay Act during an event in the East Room of the White House on Jan. 29, 2009.\" src=\"https://npr.brightspotcdn.com/dims3/default/strip/false/crop/1024x696+0+0/resize/1024x696!/?url=http%3A%2F%2Fnpr-brightspot.s3.amazonaws.com%2F6a%2F76%2F62a733b948919a27135a0641bac2%2Fgettyimages-84535653.jpg\" /><p>Lilly Ledbetter, a supervisor at a Goodyear tire plant in Alabama, discovered she was receiving less pay than men who worked the same position. Her case led to a monumental law on pay equity.</p><p>(Image credit: Mark Wilson)</p><img src=\"https://media.npr.org/include/images/tracking/npr-rss-pixel.png?story=nx-s1-5152538\" />"
      ],
      "text/plain": [
       "<IPython.core.display.HTML object>"
      ]
     },
     "metadata": {},
     "output_type": "display_data"
    },
    {
     "data": {
      "text/html": [
       "Published: Mon, 14 Oct 2024 15:59:13 -0400"
      ],
      "text/plain": [
       "<IPython.core.display.HTML object>"
      ]
     },
     "metadata": {},
     "output_type": "display_data"
    },
    {
     "data": {
      "text/html": [
       "-<center>-</center>-"
      ],
      "text/plain": [
       "<IPython.core.display.HTML object>"
      ]
     },
     "metadata": {},
     "output_type": "display_data"
    },
    {
     "data": {
      "text/html": [
       "</h2>Title: Native voters could swing Arizona. Both parties want their votes</h2>"
      ],
      "text/plain": [
       "<IPython.core.display.HTML object>"
      ]
     },
     "metadata": {},
     "output_type": "display_data"
    },
    {
     "data": {
      "text/html": [
       "Link: <a href='https://www.npr.org/2024/10/14/nx-s1-5151952/native-voters-arizona-harris-trump' target='_blank'>Native voters could swing Arizona. Both parties want their votes</a>"
      ],
      "text/plain": [
       "<IPython.core.display.HTML object>"
      ]
     },
     "metadata": {},
     "output_type": "display_data"
    },
    {
     "data": {
      "text/html": [
       "Summary: Both Republicans and Democrats are trying to marshal Native American voters in Arizona, which could prove decisive to winning the key state."
      ],
      "text/plain": [
       "<IPython.core.display.HTML object>"
      ]
     },
     "metadata": {},
     "output_type": "display_data"
    },
    {
     "data": {
      "text/html": [
       "Content: <img alt=\"Drummers, dancers and other leaders gather to perform and socialize at the Phoenix Indian Center’s Gourd Dance and Social Powwow in the Steele Indian School Park in Phoenix, Ariz., on Oct. 12, 2024.\" src=\"https://npr.brightspotcdn.com/dims3/default/strip/false/crop/6000x4000+0+0/resize/6000x4000!/?url=http%3A%2F%2Fnpr-brightspot.s3.amazonaws.com%2F54%2Fc9%2Fab1c5cb042f583f9fef3a4824487%2Fponders-npr-powwow-2741.jpg\" /><p>Both Republicans and Democrats are trying to marshal Native American voters in Arizona, which could prove decisive to winning the key state.</p><p>(Image credit: Ash Ponders for NPR)</p><img src=\"https://media.npr.org/include/images/tracking/npr-rss-pixel.png?story=nx-s1-5151952\" />"
      ],
      "text/plain": [
       "<IPython.core.display.HTML object>"
      ]
     },
     "metadata": {},
     "output_type": "display_data"
    },
    {
     "data": {
      "text/html": [
       "Published: Mon, 14 Oct 2024 14:53:24 -0400"
      ],
      "text/plain": [
       "<IPython.core.display.HTML object>"
      ]
     },
     "metadata": {},
     "output_type": "display_data"
    },
    {
     "data": {
      "text/html": [
       "-<center>-</center>-"
      ],
      "text/plain": [
       "<IPython.core.display.HTML object>"
      ]
     },
     "metadata": {},
     "output_type": "display_data"
    },
    {
     "data": {
      "text/html": [
       "</h2>Title: August 2024 Monthly Content Review Memo</h2>"
      ],
      "text/plain": [
       "<IPython.core.display.HTML object>"
      ]
     },
     "metadata": {},
     "output_type": "display_data"
    },
    {
     "data": {
      "text/html": [
       "Link: <a href='https://www.npr.org/2024/10/14/g-s1-28104/august-2024-monthly-content-review-memo' target='_blank'>August 2024 Monthly Content Review Memo</a>"
      ],
      "text/plain": [
       "<IPython.core.display.HTML object>"
      ]
     },
     "metadata": {},
     "output_type": "display_data"
    },
    {
     "data": {
      "text/html": [
       "Summary: A 10-person cohort met to discuss NPR's three-week run of coverage from the day of the Biden-Trump debate until the day President Biden withdrew from the 2024 presidential race."
      ],
      "text/plain": [
       "<IPython.core.display.HTML object>"
      ]
     },
     "metadata": {},
     "output_type": "display_data"
    },
    {
     "data": {
      "text/html": [
       "Content: <p>A 10-person cohort met to discuss NPR's three-week run of coverage from the day of the Biden-Trump debate until the day President Biden withdrew from the 2024 presidential race.  </p><img src=\"https://media.npr.org/include/images/tracking/npr-rss-pixel.png?story=g-s1-28104\" />"
      ],
      "text/plain": [
       "<IPython.core.display.HTML object>"
      ]
     },
     "metadata": {},
     "output_type": "display_data"
    },
    {
     "data": {
      "text/html": [
       "Published: Mon, 14 Oct 2024 12:05:04 -0400"
      ],
      "text/plain": [
       "<IPython.core.display.HTML object>"
      ]
     },
     "metadata": {},
     "output_type": "display_data"
    },
    {
     "data": {
      "text/html": [
       "-<center>-</center>-"
      ],
      "text/plain": [
       "<IPython.core.display.HTML object>"
      ]
     },
     "metadata": {},
     "output_type": "display_data"
    },
    {
     "data": {
      "text/html": [
       "</h2>Title: In Chile a language on the verge of extinction, stirs into life</h2>"
      ],
      "text/plain": [
       "<IPython.core.display.HTML object>"
      ]
     },
     "metadata": {},
     "output_type": "display_data"
    },
    {
     "data": {
      "text/html": [
       "Link: <a href='https://www.npr.org/2024/10/14/nx-s1-5148780/chile-lost-language-atacama-desert' target='_blank'>In Chile a language on the verge of extinction, stirs into life</a>"
      ],
      "text/plain": [
       "<IPython.core.display.HTML object>"
      ]
     },
     "metadata": {},
     "output_type": "display_data"
    },
    {
     "data": {
      "text/html": [
       "Summary: Ckunsa, an indigenous language in Chile, was declared dead 70 years ago. But groups in northern Chile are successfuly reviving the language and teaching it to a new generation."
      ],
      "text/plain": [
       "<IPython.core.display.HTML object>"
      ]
     },
     "metadata": {},
     "output_type": "display_data"
    },
    {
     "data": {
      "text/html": [
       "Content: <img alt=\"Ilia Reyes Aymani, Kunza researcher and teacher in her home in San Pedro de Atacama, Chile.\" src=\"https://npr.brightspotcdn.com/dims3/default/strip/false/crop/4000x2667+0+0/resize/4000x2667!/?url=http%3A%2F%2Fnpr-brightspot.s3.amazonaws.com%2F40%2F4b%2F6bec2d014594ba119f65df456338%2Fco52094.jpg\" /><p>Ckunsa, an indigenous language in Chile, was declared dead 70 years ago. But groups in northern Chile are successfuly reviving the language and teaching it to a new generation.</p><p>(Image credit: Cristóbal Olivares for NPR)</p><img src=\"https://media.npr.org/include/images/tracking/npr-rss-pixel.png?story=nx-s1-5148780\" />"
      ],
      "text/plain": [
       "<IPython.core.display.HTML object>"
      ]
     },
     "metadata": {},
     "output_type": "display_data"
    },
    {
     "data": {
      "text/html": [
       "Published: Mon, 14 Oct 2024 09:41:10 -0400"
      ],
      "text/plain": [
       "<IPython.core.display.HTML object>"
      ]
     },
     "metadata": {},
     "output_type": "display_data"
    },
    {
     "data": {
      "text/html": [
       "-<center>-</center>-"
      ],
      "text/plain": [
       "<IPython.core.display.HTML object>"
      ]
     },
     "metadata": {},
     "output_type": "display_data"
    },
    {
     "data": {
      "text/html": [
       "</h2>Title: In an election race this close, Asian American voters have become a force</h2>"
      ],
      "text/plain": [
       "<IPython.core.display.HTML object>"
      ]
     },
     "metadata": {},
     "output_type": "display_data"
    },
    {
     "data": {
      "text/html": [
       "Link: <a href='https://www.npr.org/2024/10/13/nx-s1-5106862/asian-american-voters-pennsylvania' target='_blank'>In an election race this close, Asian American voters have become a force</a>"
      ],
      "text/plain": [
       "<IPython.core.display.HTML object>"
      ]
     },
     "metadata": {},
     "output_type": "display_data"
    },
    {
     "data": {
      "text/html": [
       "Summary: Asian Americans are the fastest growing-voting group in the country. That means parties are courting them in tight races in states like Pennsylvania."
      ],
      "text/plain": [
       "<IPython.core.display.HTML object>"
      ]
     },
     "metadata": {},
     "output_type": "display_data"
    },
    {
     "data": {
      "text/html": [
       "Content: <img alt=\"Canvassers with the Asian and Pacific Islander Political Alliance depart from the Jollibee parking lot in Philadelphia on Oct. 5. This Filipino fast food chain has expanded in the United States, reflecting the growing Asian American population.\" src=\"https://npr.brightspotcdn.com/dims3/default/strip/false/crop/4032x3024+0+0/resize/4032x3024!/?url=http%3A%2F%2Fnpr-brightspot.s3.amazonaws.com%2F7b%2F0d%2F34123e0e429a9320cc699de5d05d%2Fimg-4118.jpg\" /><p>Asian Americans are the fastest growing-voting group in the country. That means parties are courting them in tight races in states like Pennsylvania.</p><p>(Image credit: Deepa Shivaram)</p><img src=\"https://media.npr.org/include/images/tracking/npr-rss-pixel.png?story=nx-s1-5106862\" />"
      ],
      "text/plain": [
       "<IPython.core.display.HTML object>"
      ]
     },
     "metadata": {},
     "output_type": "display_data"
    },
    {
     "data": {
      "text/html": [
       "Published: Mon, 14 Oct 2024 08:00:00 -0400"
      ],
      "text/plain": [
       "<IPython.core.display.HTML object>"
      ]
     },
     "metadata": {},
     "output_type": "display_data"
    },
    {
     "data": {
      "text/html": [
       "-<center>-</center>-"
      ],
      "text/plain": [
       "<IPython.core.display.HTML object>"
      ]
     },
     "metadata": {},
     "output_type": "display_data"
    },
    {
     "name": "stdout",
     "output_type": "stream",
     "text": [
      "\n",
      "Feed Title: Pew Research Center\n"
     ]
    },
    {
     "data": {
      "text/html": [
       "</h2>Title: Most Voters Say Harris Will Concede – and Trump Won’t – If Defeated in the Election</h2>"
      ],
      "text/plain": [
       "<IPython.core.display.HTML object>"
      ]
     },
     "metadata": {},
     "output_type": "display_data"
    },
    {
     "data": {
      "text/html": [
       "Link: <a href='https://www.pewresearch.org/politics/2024/10/10/most-voters-say-harris-will-concede-and-trump-wont-if-defeated-in-the-election/' target='_blank'>Most Voters Say Harris Will Concede – and Trump Won’t – If Defeated in the Election</a>"
      ],
      "text/plain": [
       "<IPython.core.display.HTML object>"
      ]
     },
     "metadata": {},
     "output_type": "display_data"
    },
    {
     "data": {
      "text/html": [
       "Summary: <p>About seven-in-ten voters say if Harris loses the 2024 election she will accept the results and concede, while roughly a quarter say Trump will do this if he loses. And a majority of voters say the threat of violence against political leaders and their families is a major problem in the country.</p>\n",
       "<p>The post <a href=\"https://www.pewresearch.org/politics/2024/10/10/most-voters-say-harris-will-concede-and-trump-wont-if-defeated-in-the-election/\">Most Voters Say Harris Will Concede – and Trump Won’t – If Defeated in the Election</a> appeared first on <a href=\"https://www.pewresearch.org\">Pew Research Center</a>.</p>"
      ],
      "text/plain": [
       "<IPython.core.display.HTML object>"
      ]
     },
     "metadata": {},
     "output_type": "display_data"
    },
    {
     "data": {
      "text/html": [
       "Published: Thu, 10 Oct 2024 17:58:56 +0000"
      ],
      "text/plain": [
       "<IPython.core.display.HTML object>"
      ]
     },
     "metadata": {},
     "output_type": "display_data"
    },
    {
     "data": {
      "text/html": [
       "-<center>-</center>-"
      ],
      "text/plain": [
       "<IPython.core.display.HTML object>"
      ]
     },
     "metadata": {},
     "output_type": "display_data"
    },
    {
     "data": {
      "text/html": [
       "</h2>Title: 1. The Harris-Trump matchup</h2>"
      ],
      "text/plain": [
       "<IPython.core.display.HTML object>"
      ]
     },
     "metadata": {},
     "output_type": "display_data"
    },
    {
     "data": {
      "text/html": [
       "Link: <a href='https://www.pewresearch.org/politics/2024/10/10/the-harris-trump-matchup/' target='_blank'>1. The Harris-Trump matchup</a>"
      ],
      "text/plain": [
       "<IPython.core.display.HTML object>"
      ]
     },
     "metadata": {},
     "output_type": "display_data"
    },
    {
     "data": {
      "text/html": [
       "Summary: <p>With just weeks until Election Day, Vice President Kamala Harris and former President Donald Trump are in a dead heat among all registered voters: 48% say they would vote for Harris if the election were held today and 47% say they would support Trump. Another 5% of voters opt for a third-party candidate. A large [&#8230;]</p>\n",
       "<p>The post <a href=\"https://www.pewresearch.org/politics/2024/10/10/the-harris-trump-matchup/\">1. The Harris-Trump matchup</a> appeared first on <a href=\"https://www.pewresearch.org\">Pew Research Center</a>.</p>"
      ],
      "text/plain": [
       "<IPython.core.display.HTML object>"
      ]
     },
     "metadata": {},
     "output_type": "display_data"
    },
    {
     "data": {
      "text/html": [
       "Published: Thu, 10 Oct 2024 18:00:00 +0000"
      ],
      "text/plain": [
       "<IPython.core.display.HTML object>"
      ]
     },
     "metadata": {},
     "output_type": "display_data"
    },
    {
     "data": {
      "text/html": [
       "-<center>-</center>-"
      ],
      "text/plain": [
       "<IPython.core.display.HTML object>"
      ]
     },
     "metadata": {},
     "output_type": "display_data"
    },
    {
     "data": {
      "text/html": [
       "</h2>Title: 2. Expectations about Harris and Trump as president</h2>"
      ],
      "text/plain": [
       "<IPython.core.display.HTML object>"
      ]
     },
     "metadata": {},
     "output_type": "display_data"
    },
    {
     "data": {
      "text/html": [
       "Link: <a href='https://www.pewresearch.org/politics/2024/10/10/expectations-about-harris-and-trump-as-president/' target='_blank'>2. Expectations about Harris and Trump as president</a>"
      ],
      "text/plain": [
       "<IPython.core.display.HTML object>"
      ]
     },
     "metadata": {},
     "output_type": "display_data"
    },
    {
     "data": {
      "text/html": [
       "Summary: <p>Voters overall are divided in their predictions about how Vice President Kamala Harris or former President Donald Trump would perform as president – with negative expectations outweighing positive ones for both candidates. And while majorities of voters see both Trump and Harris as bringing change to Washington – though more say this about Trump than [&#8230;]</p>\n",
       "<p>The post <a href=\"https://www.pewresearch.org/politics/2024/10/10/expectations-about-harris-and-trump-as-president/\">2. Expectations about Harris and Trump as president</a> appeared first on <a href=\"https://www.pewresearch.org\">Pew Research Center</a>.</p>"
      ],
      "text/plain": [
       "<IPython.core.display.HTML object>"
      ]
     },
     "metadata": {},
     "output_type": "display_data"
    },
    {
     "data": {
      "text/html": [
       "Published: Thu, 10 Oct 2024 18:00:04 +0000"
      ],
      "text/plain": [
       "<IPython.core.display.HTML object>"
      ]
     },
     "metadata": {},
     "output_type": "display_data"
    },
    {
     "data": {
      "text/html": [
       "-<center>-</center>-"
      ],
      "text/plain": [
       "<IPython.core.display.HTML object>"
      ]
     },
     "metadata": {},
     "output_type": "display_data"
    },
    {
     "data": {
      "text/html": [
       "</h2>Title: 3. Voters’ feelings about the 2024 campaign and election outcomes; concerns about political violence</h2>"
      ],
      "text/plain": [
       "<IPython.core.display.HTML object>"
      ]
     },
     "metadata": {},
     "output_type": "display_data"
    },
    {
     "data": {
      "text/html": [
       "Link: <a href='https://www.pewresearch.org/politics/2024/10/10/voters-feelings-about-the-2024-campaign-and-election-outcomes-concerns-about-political-violence/' target='_blank'>3. Voters’ feelings about the 2024 campaign and election outcomes; concerns about political violence</a>"
      ],
      "text/plain": [
       "<IPython.core.display.HTML object>"
      ]
     },
     "metadata": {},
     "output_type": "display_data"
    },
    {
     "data": {
      "text/html": [
       "Summary: <p>With less than a month to go until Election Day, voters continue to express mostly negative opinions about the 2024 presidential campaign. Reflecting the closeness of the presidential race, the share of voters who think it is clear which candidate will win – which was already low in July – has edged lower. Harris and [&#8230;]</p>\n",
       "<p>The post <a href=\"https://www.pewresearch.org/politics/2024/10/10/voters-feelings-about-the-2024-campaign-and-election-outcomes-concerns-about-political-violence/\">3. Voters&#8217; feelings about the 2024 campaign and election outcomes; concerns about political violence</a> appeared first on <a href=\"https://www.pewresearch.org\">Pew Research Center</a>.</p>"
      ],
      "text/plain": [
       "<IPython.core.display.HTML object>"
      ]
     },
     "metadata": {},
     "output_type": "display_data"
    },
    {
     "data": {
      "text/html": [
       "Published: Thu, 10 Oct 2024 18:00:06 +0000"
      ],
      "text/plain": [
       "<IPython.core.display.HTML object>"
      ]
     },
     "metadata": {},
     "output_type": "display_data"
    },
    {
     "data": {
      "text/html": [
       "-<center>-</center>-"
      ],
      "text/plain": [
       "<IPython.core.display.HTML object>"
      ]
     },
     "metadata": {},
     "output_type": "display_data"
    },
    {
     "data": {
      "text/html": [
       "</h2>Title: Acknowledgments</h2>"
      ],
      "text/plain": [
       "<IPython.core.display.HTML object>"
      ]
     },
     "metadata": {},
     "output_type": "display_data"
    },
    {
     "data": {
      "text/html": [
       "Link: <a href='https://www.pewresearch.org/politics/2024/10/10/acknowledgments-79/' target='_blank'>Acknowledgments</a>"
      ],
      "text/plain": [
       "<IPython.core.display.HTML object>"
      ]
     },
     "metadata": {},
     "output_type": "display_data"
    },
    {
     "data": {
      "text/html": [
       "Summary: <p>This report is a collaborative effort based on the input and analysis of the following individuals: Research team Carroll Doherty, Director, Political ResearchJocelyn Kiley, Senior Associate Director, Political ResearchHannah Hartig, Senior ResearcherBaxter Oliphant, Senior ResearcherGabe Borelli, Research AssociateAndrew Daniller, Research AssociateAndy Cerda, Research AnalystJoseph Copeland, Research AnalystTed Van Green, Research AnalystShanay Gracia, Research Assistant Communications [&#8230;]</p>\n",
       "<p>The post <a href=\"https://www.pewresearch.org/politics/2024/10/10/acknowledgments-79/\">Acknowledgments</a> appeared first on <a href=\"https://www.pewresearch.org\">Pew Research Center</a>.</p>"
      ],
      "text/plain": [
       "<IPython.core.display.HTML object>"
      ]
     },
     "metadata": {},
     "output_type": "display_data"
    },
    {
     "data": {
      "text/html": [
       "Published: Thu, 10 Oct 2024 18:00:09 +0000"
      ],
      "text/plain": [
       "<IPython.core.display.HTML object>"
      ]
     },
     "metadata": {},
     "output_type": "display_data"
    },
    {
     "data": {
      "text/html": [
       "-<center>-</center>-"
      ],
      "text/plain": [
       "<IPython.core.display.HTML object>"
      ]
     },
     "metadata": {},
     "output_type": "display_data"
    },
    {
     "name": "stdout",
     "output_type": "stream",
     "text": [
      "\n",
      "Feed Title: NYT > Top Stories\n"
     ]
    },
    {
     "data": {
      "text/html": [
       "</h2>Title: Canada Expels Indian Diplomats, Claiming They Were Part of a Criminal Network</h2>"
      ],
      "text/plain": [
       "<IPython.core.display.HTML object>"
      ]
     },
     "metadata": {},
     "output_type": "display_data"
    },
    {
     "data": {
      "text/html": [
       "Link: <a href='https://www.nytimes.com/2024/10/14/world/canada/india-canada-diplomats.html' target='_blank'>Canada Expels Indian Diplomats, Claiming They Were Part of a Criminal Network</a>"
      ],
      "text/plain": [
       "<IPython.core.display.HTML object>"
      ]
     },
     "metadata": {},
     "output_type": "display_data"
    },
    {
     "data": {
      "text/html": [
       "Summary: Canadian police said the Indian government was orchestrating homicides and extortion in Canada to intimidate Sikh separatists. India, in return, kicked out Canadian diplomats."
      ],
      "text/plain": [
       "<IPython.core.display.HTML object>"
      ]
     },
     "metadata": {},
     "output_type": "display_data"
    },
    {
     "data": {
      "text/html": [
       "Content: Protesters waving flags and holding a poster noting the assassination of Hardeep Singh Nijjar, a Sikh leader, in British Columbia, in September 2023."
      ],
      "text/plain": [
       "<IPython.core.display.HTML object>"
      ]
     },
     "metadata": {},
     "output_type": "display_data"
    },
    {
     "data": {
      "text/html": [
       "Published: Mon, 14 Oct 2024 21:07:09 +0000"
      ],
      "text/plain": [
       "<IPython.core.display.HTML object>"
      ]
     },
     "metadata": {},
     "output_type": "display_data"
    },
    {
     "data": {
      "text/html": [
       "-<center>-</center>-"
      ],
      "text/plain": [
       "<IPython.core.display.HTML object>"
      ]
     },
     "metadata": {},
     "output_type": "display_data"
    },
    {
     "data": {
      "text/html": [
       "</h2>Title: Trudeau Accuses India in Killing of Canadian Sikh Leader</h2>"
      ],
      "text/plain": [
       "<IPython.core.display.HTML object>"
      ]
     },
     "metadata": {},
     "output_type": "display_data"
    },
    {
     "data": {
      "text/html": [
       "Link: <a href='https://www.nytimes.com/2023/09/18/world/canada/canada-india-sikh-killing.html' target='_blank'>Trudeau Accuses India in Killing of Canadian Sikh Leader</a>"
      ],
      "text/plain": [
       "<IPython.core.display.HTML object>"
      ]
     },
     "metadata": {},
     "output_type": "display_data"
    },
    {
     "data": {
      "text/html": [
       "Summary: The Canadian leader said agents of India had assassinated a Sikh community leader in British Columbia in June. India called the accusation “absurd.”"
      ],
      "text/plain": [
       "<IPython.core.display.HTML object>"
      ]
     },
     "metadata": {},
     "output_type": "display_data"
    },
    {
     "data": {
      "text/html": [
       "Content: Prime Minister Justin Trudeau of Canada speaking Monday in the House of Commons in Ottawa."
      ],
      "text/plain": [
       "<IPython.core.display.HTML object>"
      ]
     },
     "metadata": {},
     "output_type": "display_data"
    },
    {
     "data": {
      "text/html": [
       "Published: Tue, 19 Sep 2023 08:16:52 +0000"
      ],
      "text/plain": [
       "<IPython.core.display.HTML object>"
      ]
     },
     "metadata": {},
     "output_type": "display_data"
    },
    {
     "data": {
      "text/html": [
       "-<center>-</center>-"
      ],
      "text/plain": [
       "<IPython.core.display.HTML object>"
      ]
     },
     "metadata": {},
     "output_type": "display_data"
    },
    {
     "data": {
      "text/html": [
       "</h2>Title: In a Tight Presidential Race, Third-Party Candidates Present a Wild Card</h2>"
      ],
      "text/plain": [
       "<IPython.core.display.HTML object>"
      ]
     },
     "metadata": {},
     "output_type": "display_data"
    },
    {
     "data": {
      "text/html": [
       "Link: <a href='https://www.nytimes.com/2024/10/14/us/politics/presidential-election-third-party-candidates.html' target='_blank'>In a Tight Presidential Race, Third-Party Candidates Present a Wild Card</a>"
      ],
      "text/plain": [
       "<IPython.core.display.HTML object>"
      ]
     },
     "metadata": {},
     "output_type": "display_data"
    },
    {
     "data": {
      "text/html": [
       "Summary: In every battleground state this year, there is at least one third-party or independent candidate on the ballot. The Democrats have been more openly concerned than Republicans."
      ],
      "text/plain": [
       "<IPython.core.display.HTML object>"
      ]
     },
     "metadata": {},
     "output_type": "display_data"
    },
    {
     "data": {
      "text/html": [
       "Published: Mon, 14 Oct 2024 09:03:26 +0000"
      ],
      "text/plain": [
       "<IPython.core.display.HTML object>"
      ]
     },
     "metadata": {},
     "output_type": "display_data"
    },
    {
     "data": {
      "text/html": [
       "-<center>-</center>-"
      ],
      "text/plain": [
       "<IPython.core.display.HTML object>"
      ]
     },
     "metadata": {},
     "output_type": "display_data"
    },
    {
     "data": {
      "text/html": [
       "</h2>Title: Trump and Harris Both Like a Child Tax Credit but With Different Aims</h2>"
      ],
      "text/plain": [
       "<IPython.core.display.HTML object>"
      ]
     },
     "metadata": {},
     "output_type": "display_data"
    },
    {
     "data": {
      "text/html": [
       "Link: <a href='https://www.nytimes.com/2024/10/14/us/politics/trump-harris-child-tax-credit.html' target='_blank'>Trump and Harris Both Like a Child Tax Credit but With Different Aims</a>"
      ],
      "text/plain": [
       "<IPython.core.display.HTML object>"
      ]
     },
     "metadata": {},
     "output_type": "display_data"
    },
    {
     "data": {
      "text/html": [
       "Summary: Kamala Harris’s campaign is pushing a version of the credit intended to fight child poverty, while Donald J. Trump sees the program primarily as a tax cut for people higher up the income scale."
      ],
      "text/plain": [
       "<IPython.core.display.HTML object>"
      ]
     },
     "metadata": {},
     "output_type": "display_data"
    },
    {
     "data": {
      "text/html": [
       "Content: It is rare that candidates sound so alike while diverging so greatly."
      ],
      "text/plain": [
       "<IPython.core.display.HTML object>"
      ]
     },
     "metadata": {},
     "output_type": "display_data"
    },
    {
     "data": {
      "text/html": [
       "Published: Mon, 14 Oct 2024 15:18:01 +0000"
      ],
      "text/plain": [
       "<IPython.core.display.HTML object>"
      ]
     },
     "metadata": {},
     "output_type": "display_data"
    },
    {
     "data": {
      "text/html": [
       "-<center>-</center>-"
      ],
      "text/plain": [
       "<IPython.core.display.HTML object>"
      ]
     },
     "metadata": {},
     "output_type": "display_data"
    },
    {
     "data": {
      "text/html": [
       "</h2>Title: Harris Campaign Unveils Policy Agenda Targeted at Black Men</h2>"
      ],
      "text/plain": [
       "<IPython.core.display.HTML object>"
      ]
     },
     "metadata": {},
     "output_type": "display_data"
    },
    {
     "data": {
      "text/html": [
       "Link: <a href='https://www.nytimes.com/2024/10/14/us/politics/harris-policies-black-men.html' target='_blank'>Harris Campaign Unveils Policy Agenda Targeted at Black Men</a>"
      ],
      "text/plain": [
       "<IPython.core.display.HTML object>"
      ]
     },
     "metadata": {},
     "output_type": "display_data"
    },
    {
     "data": {
      "text/html": [
       "Summary: The vice president released a plan to help Black men financially, held interviews with two Black media outlets and put out targeted ads in battleground states."
      ],
      "text/plain": [
       "<IPython.core.display.HTML object>"
      ]
     },
     "metadata": {},
     "output_type": "display_data"
    },
    {
     "data": {
      "text/html": [
       "Content: Vice President Kamala Harris will bring her new policy proposals to the campaign trail this week."
      ],
      "text/plain": [
       "<IPython.core.display.HTML object>"
      ]
     },
     "metadata": {},
     "output_type": "display_data"
    },
    {
     "data": {
      "text/html": [
       "Published: Mon, 14 Oct 2024 17:56:32 +0000"
      ],
      "text/plain": [
       "<IPython.core.display.HTML object>"
      ]
     },
     "metadata": {},
     "output_type": "display_data"
    },
    {
     "data": {
      "text/html": [
       "-<center>-</center>-"
      ],
      "text/plain": [
       "<IPython.core.display.HTML object>"
      ]
     },
     "metadata": {},
     "output_type": "display_data"
    }
   ],
   "source": [
    "import feedparser\n",
    "\n",
    "# List of feed URLs to aggregate from\n",
    "feed_urls = [\n",
    "    \"https://news.google.com/rss\",\n",
    "    \"https://www.cbsnews.com/latest/rss/main\",\n",
    "    \"https://feeds.bbci.co.uk/news/world/rss.xml\",\n",
    "    \"https://www.pbs.org/newshour/feeds/rss/headlines\",\n",
    "    \"https://feeds.npr.org/1001/rss.xml\",\n",
    "    \"https://www.pewresearch.org/feed/\",\n",
    "    \"https://rss.nytimes.com/services/xml/rss/nyt/HomePage.xml\"\n",
    "]\n",
    "\n",
    "# Loop through each feed URL and parse the data\n",
    "for url in feed_urls:\n",
    "    feed = feedparser.parse(url)\n",
    "    print(f\"\\nFeed Title: {feed.feed.title}\")\n",
    "\n",
    "    for entry in feed.entries[:5]:  # Only showing the first 5 articles\n",
    "        display(HTML(f\"</h2>Title: {entry.title}</h2>\"))\n",
    "        display(HTML(f\"Link: <a href='{entry.link}' target='_blank'>{entry.title}</a>\"))\n",
    "\n",
    "        # Retrieve the summary or description\n",
    "        summary = entry.get(\"summary\", entry.get(\"description\", \"No summary available\"))\n",
    "        display(HTML(f\"Summary: {summary}\"))\n",
    "\n",
    "        # Retrieve the content if available\n",
    "        if \"content\" in entry:\n",
    "            display(HTML(f\"Content: {entry.content[0].value}\"))\n",
    "\n",
    "        \n",
    "        display(HTML(f\"Published: {entry.published}\"))\n",
    "        display(HTML(\"-<center>-</center>\"))\n"
   ]
  },
  {
   "cell_type": "code",
   "execution_count": 8,
   "id": "6feb87d3-ce4d-4d6a-a7ee-bf98848e8e50",
   "metadata": {},
   "outputs": [
    {
     "data": {
      "text/plain": [
       "'CNN.com - RSS Channel - App International Edition'"
      ]
     },
     "execution_count": 8,
     "metadata": {},
     "output_type": "execute_result"
    }
   ],
   "source": [
    "feed.feed.title"
   ]
  },
  {
   "cell_type": "code",
   "execution_count": 10,
   "id": "166dabe1-cd60-4782-925d-c277c95f89f5",
   "metadata": {},
   "outputs": [
    {
     "name": "stdout",
     "output_type": "stream",
     "text": [
      "{'title': 'Trump pleads not guilty to 34 felony counts', 'title_detail': {'type': 'text/plain', 'language': None, 'base': 'http://rss.cnn.com/rss/edition.rss', 'value': 'Trump pleads not guilty to 34 felony counts'}, 'links': [{'rel': 'alternate', 'type': 'text/html', 'href': 'https://edition.cnn.com/webview/politics/live-news/trump-indictment-stormy-daniels-news-04-03-23/index.html'}], 'link': 'https://edition.cnn.com/webview/politics/live-news/trump-indictment-stormy-daniels-news-04-03-23/index.html', 'id': 'https://edition.cnn.com/webview/politics/live-news/trump-indictment-stormy-daniels-news-04-03-23/index.html', 'guidislink': False, 'media_content': [{'medium': 'image', 'url': 'https://cdn.cnn.com/cnnnext/dam/assets/230403164607-22-trump-indictment-travel-new-york-super-169.jpg', 'height': '619', 'width': '1100', 'type': 'image/jpeg'}, {'medium': 'image', 'url': 'https://cdn.cnn.com/cnnnext/dam/assets/230403164607-22-trump-indictment-travel-new-york-large-11.jpg', 'height': '300', 'width': '300', 'type': 'image/jpeg'}, {'medium': 'image', 'url': 'https://cdn.cnn.com/cnnnext/dam/assets/230403164607-22-trump-indictment-travel-new-york-vertical-large-gallery.jpg', 'height': '552', 'width': '414', 'type': 'image/jpeg'}, {'medium': 'image', 'url': 'https://cdn.cnn.com/cnnnext/dam/assets/230403164607-22-trump-indictment-travel-new-york-video-synd-2.jpg', 'height': '480', 'width': '640', 'type': 'image/jpeg'}, {'medium': 'image', 'url': 'https://cdn.cnn.com/cnnnext/dam/assets/230403164607-22-trump-indictment-travel-new-york-live-video.jpg', 'height': '324', 'width': '576', 'type': 'image/jpeg'}, {'medium': 'image', 'url': 'https://cdn.cnn.com/cnnnext/dam/assets/230403164607-22-trump-indictment-travel-new-york-t1-main.jpg', 'height': '250', 'width': '250', 'type': 'image/jpeg'}, {'medium': 'image', 'url': 'https://cdn.cnn.com/cnnnext/dam/assets/230403164607-22-trump-indictment-travel-new-york-vertical-gallery.jpg', 'height': '360', 'width': '270', 'type': 'image/jpeg'}, {'medium': 'image', 'url': 'https://cdn.cnn.com/cnnnext/dam/assets/230403164607-22-trump-indictment-travel-new-york-story-body.jpg', 'height': '169', 'width': '300', 'type': 'image/jpeg'}, {'medium': 'image', 'url': 'https://cdn.cnn.com/cnnnext/dam/assets/230403164607-22-trump-indictment-travel-new-york-t1-main.jpg', 'height': '250', 'width': '250', 'type': 'image/jpeg'}, {'medium': 'image', 'url': 'https://cdn.cnn.com/cnnnext/dam/assets/230403164607-22-trump-indictment-travel-new-york-assign.jpg', 'height': '186', 'width': '248', 'type': 'image/jpeg'}, {'medium': 'image', 'url': 'https://cdn.cnn.com/cnnnext/dam/assets/230403164607-22-trump-indictment-travel-new-york-hp-video.jpg', 'height': '144', 'width': '256', 'type': 'image/jpeg'}]}\n"
     ]
    }
   ],
   "source": [
    "for entry in feed.entries:\n",
    "    print(entry)\n",
    "    break"
   ]
  },
  {
   "cell_type": "code",
   "execution_count": 11,
   "id": "d3e6a0ec-3602-438b-bc2d-45b0b0b430f4",
   "metadata": {},
   "outputs": [
    {
     "data": {
      "text/plain": [
       "dict_keys(['title', 'title_detail', 'links', 'link', 'id', 'guidislink', 'media_content'])"
      ]
     },
     "execution_count": 11,
     "metadata": {},
     "output_type": "execute_result"
    }
   ],
   "source": [
    "entry.keys()"
   ]
  },
  {
   "cell_type": "code",
   "execution_count": 12,
   "id": "61f8e5cd-6faa-4f1a-be0d-baa2c27a475e",
   "metadata": {},
   "outputs": [
    {
     "data": {
      "text/plain": [
       "{'type': 'text/plain',\n",
       " 'language': None,\n",
       " 'base': 'http://rss.cnn.com/rss/edition.rss',\n",
       " 'value': 'Trump pleads not guilty to 34 felony counts'}"
      ]
     },
     "execution_count": 12,
     "metadata": {},
     "output_type": "execute_result"
    }
   ],
   "source": [
    "entry.title_detail"
   ]
  },
  {
   "cell_type": "code",
   "execution_count": 13,
   "id": "ee3cb1b9-ec1c-4a51-a2ae-0e0bf34f4589",
   "metadata": {},
   "outputs": [
    {
     "data": {
      "text/plain": [
       "'https://edition.cnn.com/webview/politics/live-news/trump-indictment-stormy-daniels-news-04-03-23/index.html'"
      ]
     },
     "execution_count": 13,
     "metadata": {},
     "output_type": "execute_result"
    }
   ],
   "source": [
    "entry.id"
   ]
  },
  {
   "cell_type": "code",
   "execution_count": null,
   "id": "d5a82164-f4bd-4479-b419-de50bdbdb5b3",
   "metadata": {},
   "outputs": [],
   "source": []
  }
 ],
 "metadata": {
  "kernelspec": {
   "display_name": "Python 3 (ipykernel)",
   "language": "python",
   "name": "python3"
  },
  "language_info": {
   "codemirror_mode": {
    "name": "ipython",
    "version": 3
   },
   "file_extension": ".py",
   "mimetype": "text/x-python",
   "name": "python",
   "nbconvert_exporter": "python",
   "pygments_lexer": "ipython3",
   "version": "3.10.12"
  }
 },
 "nbformat": 4,
 "nbformat_minor": 5
}
