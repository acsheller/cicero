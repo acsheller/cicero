{
 "cells": [
  {
   "cell_type": "markdown",
   "id": "97d8cb1d-899a-49d8-a041-cf216e8bb186",
   "metadata": {},
   "source": [
    "# Suber Modificaiton 1.\n",
    "\n",
    "Load new simulated Users. The users that were generated before were from the original script.  The new set is from the use of Ollama and Pydantic AI.  \n",
    "\n",
    "Load users from the `/apps/datasets/synthetic_analysts.csv`.  This required modification in `environment.mind.configs.py`.\n",
    "\n",
    "The method `get_user_dataset(name)` specifies the use of `./users_generation/datasets/` as a base path. Updated this methd "
   ]
  },
  {
   "cell_type": "code",
   "execution_count": 1,
   "id": "531f245e-fadd-4903-affa-c71011f9a2ed",
   "metadata": {},
   "outputs": [
    {
     "name": "stderr",
     "output_type": "stream",
     "text": [
      "/app/sb3/lib/python3.10/site-packages/sentence_transformers/cross_encoder/CrossEncoder.py:11: TqdmExperimentalWarning: Using `tqdm.autonotebook.tqdm` in notebook mode. Use `tqdm.tqdm` instead to force console mode (e.g. in jupyter console)\n",
      "  from tqdm.autonotebook import tqdm, trange\n",
      "/app/sb3/lib/python3.10/site-packages/huggingface_hub/file_download.py:795: FutureWarning: `resume_download` is deprecated and will be removed in version 1.0.0. Downloads always resume when possible. If you want to force a new download, use `force_download=True`.\n",
      "  warnings.warn(\n"
     ]
    }
   ],
   "source": [
    "import os\n",
    "import sys\n",
    "import numpy as np\n",
    "nb_dir = os.path.split(os.getcwd())[0]\n",
    "if nb_dir not in sys.path:\n",
    "    sys.path.append(nb_dir)\n",
    "\n",
    "from algorithms.wrappers import StableBaselineWrapperNum\n",
    "from environment.mind.configs import get_enviroment_from_args, get_base_parser\n",
    "from environment import load_LLM\n",
    "from algorithms.logging_config import get_logger\n",
    "\n",
    "from stable_baselines3.common.callbacks import BaseCallback, CallbackList\n",
    "from stable_baselines3.common.distributions import CategoricalDistribution\n",
    "from stable_baselines3.common.evaluation import evaluate_policy\n",
    "from stable_baselines3.common.policies import ActorCriticPolicy\n",
    "from stable_baselines3 import A2C\n",
    "from stable_baselines3.common.preprocessing import get_flattened_obs_dim\n",
    "from stable_baselines3.common.torch_layers import BaseFeaturesExtractor\n",
    "from stable_baselines3.common.type_aliases import TensorDict\n",
    "\n",
    "import torch\n",
    "import torch.nn as nn\n",
    "import gymnasium as gym\n",
    "from gymnasium import spaces\n",
    "from typing import Callable, Tuple\n",
    "from stable_baselines3.common.env_checker import check_env\n",
    "from stable_baselines3.common.monitor import Monitor\n",
    "\n",
    "import argparse\n",
    "from tqdm import tqdm, trange\n",
    "logger = get_logger(\"suber_logger\")\n",
    "\n",
    "# Set environment variable to avoid tokenizer parallelism issues\n",
    "os.environ[\"TOKENIZERS_PARALLELISM\"] = \"false\""
   ]
  },
  {
   "cell_type": "markdown",
   "id": "8624771a-cff1-4481-867b-e9d899049e99",
   "metadata": {},
   "source": [
    "## This is an example call to the system.  \n",
    "\n",
    "python3 -m algorithms.mind.CF_train_A2C2 --llm_model=TheBloke/Llama-2-13B-chat-GPTQ --llm_rater=2Shot_system_our --perturbator=gaussian --items_retrieval=most_similar_3_title --reward_shaping=exp_decay_time --embedding-dim=512 --gamma=0.95 --seed=42 --news_dataset=mind_dataset\n",
    "\n"
   ]
  },
  {
   "cell_type": "code",
   "execution_count": 2,
   "id": "4ea7fded-c0cd-4804-8d9e-6eeae3c25bc0",
   "metadata": {},
   "outputs": [],
   "source": [
    "def parse_args():\n",
    "    parser = get_base_parser()\n",
    "    parser.add_argument(\"--model_device\", type=str, default=\"cuda:0\")\n",
    "    parser.add_argument(\"--gamma\", type=float, default=0.975)\n",
    "    parser.add_argument(\"--embedding_dim\", type=int, default=32)\n",
    "    parser.add_argument(\"--learning_rate\", type=float, default=0.01)\n",
    "    parser\n",
    "\n",
    "    parser.add_argument(\n",
    "        '--news_dataset', \n",
    "        choices=['mind_dataset', 'small_mind_dataset'], \n",
    "        help='Specify the news dataset to use',\n",
    "        default='small_mind_dataset'\n",
    "    )\n",
    "    # TODO Parser arguments should be here -- need to consider as most of them are \n",
    "    # in config.py\n",
    "\n",
    "    args, unknown = parser.parse_known_args()\n",
    "    return args"
   ]
  },
  {
   "cell_type": "code",
   "execution_count": 3,
   "id": "ffab37ae-8e18-49ac-8170-80bc45de4fa9",
   "metadata": {},
   "outputs": [],
   "source": [
    "# Linear schedule function\n",
    "def linear_schedule(initial_value: float):\n",
    "    def func(progress_remaining: float) -> float:\n",
    "        current_value = initial_value * progress_remaining\n",
    "        #print(f\"Linear schedule called: progress_remaining={progress_remaining}, learning_rate={current_value}\")\n",
    "        #logger.info(f\"Linear schedule called: progress_remaining={progress_remaining}, learning_rate={current_value}\")\n",
    "        return current_value\n",
    "    return func\n",
    "\n",
    "class CombinedCallback(BaseCallback):\n",
    "    def __init__(self, save_freq=50000, log_freq=5000, save_path=\"./tmp/models/\", name_prefix=\"rl_model\", verbose=0):\n",
    "        super(CombinedCallback, self).__init__(verbose)\n",
    "        self.save_freq = save_freq\n",
    "        self.log_freq = log_freq\n",
    "        self.save_path = save_path\n",
    "        self.name_prefix = name_prefix\n",
    "        self.metrics = []\n",
    "\n",
    "    def _on_step(self) -> bool:\n",
    "        if self.n_calls % self.log_freq == 0:\n",
    "            rewards = self.locals['rewards']\n",
    "            episode_length = self.locals.get('episode_lengths', None)\n",
    "            value_loss = self.locals.get('value_loss', None)\n",
    "            policy_loss = self.locals.get('policy_loss', None)\n",
    "            if value_loss is not None:\n",
    "                log_message = {\n",
    "                    \"step\": self.num_timesteps,\n",
    "                    \"reward\": rewards,\n",
    "                    \"episode_length\": episode_length,\n",
    "                    \"value_loss\": value_loss,\n",
    "                    \"policy_loss\": policy_loss\n",
    "                }\n",
    "                self.metrics.append(log_message)\n",
    "                self.logger.info(log_message)\n",
    "\n",
    "\n",
    "        if self.n_calls % self.save_freq == 0:\n",
    "            model_path = f\"{self.save_path}/{self.name_prefix}_{self.num_timesteps}_steps\"\n",
    "            self.model.save(model_path)\n",
    "            if self.verbose > 0:\n",
    "                print(f\"Saving model checkpoint to {model_path}\")\n",
    "        return True\n"
   ]
  },
  {
   "cell_type": "code",
   "execution_count": null,
   "id": "7e6f698f-ca7c-4e4c-85a2-c69f8296061f",
   "metadata": {},
   "outputs": [],
   "source": []
  },
  {
   "cell_type": "code",
   "execution_count": 4,
   "id": "5dcad418-a757-4ccd-8ca6-1b61d7afdaaa",
   "metadata": {},
   "outputs": [],
   "source": [
    "class Net(nn.Module):\n",
    "    def __init__(self, obs_space: gym.spaces.Space, num_users: int, num_items: int, learning_rate: float = 0.001):\n",
    "        super().__init__()\n",
    "        embedding_dim = args.embedding_dim\n",
    "        self.latent_dim_pi = embedding_dim * 2\n",
    "        self.latent_dim_vf = embedding_dim * 2\n",
    "\n",
    "        self.user_embedding = nn.Embedding(num_users, embedding_dim)\n",
    "        self.user_bias = nn.Embedding(num_users, 1)\n",
    "\n",
    "        self.policy_net = nn.Sequential(\n",
    "            nn.Linear(self.user_embedding.embedding_dim, embedding_dim * 2),\n",
    "            nn.ReLU(),\n",
    "            nn.Linear(embedding_dim * 2, embedding_dim * 4),\n",
    "            nn.ReLU(),\n",
    "            nn.Linear(embedding_dim * 4, num_items)\n",
    "        )\n",
    "\n",
    "        self.value_net = nn.Sequential(\n",
    "            nn.Linear(self.user_embedding.embedding_dim + num_items, self.latent_dim_vf * 2),\n",
    "            nn.ReLU(),\n",
    "            nn.Linear(self.latent_dim_vf * 2, embedding_dim * 4),\n",
    "            nn.ReLU(),\n",
    "            nn.Linear(embedding_dim * 4, self.latent_dim_vf),\n",
    "            nn.ReLU()\n",
    "        )\n",
    "\n",
    "    def forward(self, features: TensorDict) -> Tuple[torch.Tensor, torch.Tensor]:\n",
    "        user_id = features[\"user_id\"].squeeze(1)\n",
    "        news_seen = features[\"items_interact\"]\n",
    "\n",
    "        user_embedding = self.user_embedding(user_id)\n",
    "        user_embedding_value = torch.cat([user_embedding, news_seen], dim=1)\n",
    "        user_bias = self.user_bias(user_id)\n",
    "\n",
    "        mask = features[\"items_interact\"].to(dtype=torch.bool)\n",
    "        logits = self.policy_net(user_embedding) + user_bias\n",
    "        logits[mask] = -torch.inf\n",
    "        return logits, self.value_net(user_embedding_value)\n",
    "\n",
    "    def forward_actor(self, features: TensorDict) -> torch.Tensor:\n",
    "        user_id = features[\"user_id\"].squeeze(1)\n",
    "        user_embedding = self.user_embedding(user_id)\n",
    "        user_bias = self.user_bias(user_id)\n",
    "\n",
    "        mask = features[\"items_interact\"].to(dtype=torch.bool)\n",
    "        logits = self.policy_net(user_embedding) + user_bias\n",
    "        logits[mask] = -torch.inf\n",
    "        return logits\n",
    "\n",
    "    def forward_critic(self, features: TensorDict) -> torch.Tensor:\n",
    "        user_id = features[\"user_id\"].squeeze(1)\n",
    "        news_seen = features[\"items_interact\"]\n",
    "\n",
    "        user_embedding = self.user_embedding(user_id)\n",
    "        user_embedding_value = torch.cat([user_embedding, news_seen], dim=1)\n",
    "        return self.value_net(user_embedding_value)\n",
    "\n",
    "class DistributionUseLogitsDirectly(CategoricalDistribution):\n",
    "    def __init__(self, action_dim: int):\n",
    "        super().__init__(action_dim)\n",
    "\n",
    "    def proba_distribution_net(self, latent_dim: int) -> nn.Module:\n",
    "        return nn.Identity(latent_dim)\n",
    "\n",
    "class CustomActorCriticPolicy(ActorCriticPolicy):\n",
    "    def __init__(self, observation_space: spaces.Space, action_space: spaces.Space, lr_schedule: Callable[[float], float], *args, **kwargs):\n",
    "        kwargs[\"ortho_init\"] = True\n",
    "        super().__init__(observation_space, action_space, lr_schedule, *args, **kwargs)\n",
    "\n",
    "        self.action_dist = DistributionUseLogitsDirectly(action_space.n)\n",
    "        self._build(lr_schedule)\n",
    "\n",
    "    def _build_mlp_extractor(self) -> None:\n",
    "        default_lr = 0.01\n",
    "        num_users = train_env.get_wrapper_attr('num_users')\n",
    "        num_items = train_env.get_wrapper_attr('num_items')\n",
    "        self.mlp_extractor = Net(self.observation_space, num_users, num_items, learning_rate=default_lr)\n",
    "\n",
    "class ExtractPass(BaseFeaturesExtractor):\n",
    "    def __init__(self, observation_space: gym.Space) -> None:\n",
    "        super().__init__(observation_space, get_flattened_obs_dim(observation_space))\n",
    "        self.flatten = nn.Flatten()\n",
    "\n",
    "    def forward(self, observations: torch.Tensor) -> torch.Tensor:\n",
    "        observations[\"user_id\"] = observations[\"user_id\"].int()\n",
    "        return observations\n"
   ]
  },
  {
   "cell_type": "code",
   "execution_count": 5,
   "id": "d37f9008-d456-43ae-a0ac-ab27b6fcad71",
   "metadata": {},
   "outputs": [],
   "source": [
    "#args = parse_args()\n",
    "#args.llm_model='llama3.2'\n",
    "#llm = load_LLM(args.llm_model)\n"
   ]
  },
  {
   "cell_type": "code",
   "execution_count": null,
   "id": "1e7f1bb6-528b-4187-853d-0329a73b0e7c",
   "metadata": {},
   "outputs": [],
   "source": []
  },
  {
   "cell_type": "code",
   "execution_count": null,
   "id": "0320e1e3-58d5-46c3-8a13-e34a67dd9a55",
   "metadata": {},
   "outputs": [],
   "source": []
  },
  {
   "cell_type": "code",
   "execution_count": null,
   "id": "981e6718-d51b-4cfd-9662-2388fc2e2c86",
   "metadata": {},
   "outputs": [],
   "source": []
  },
  {
   "cell_type": "code",
   "execution_count": null,
   "id": "16d8e41a-5f3c-4b61-a38b-839ae8e12862",
   "metadata": {},
   "outputs": [],
   "source": []
  },
  {
   "cell_type": "code",
   "execution_count": 6,
   "id": "3ada295f-4c90-4f42-a1c9-b7e0be03cdae",
   "metadata": {},
   "outputs": [
    {
     "name": "stdout",
     "output_type": "stream",
     "text": [
      "name is TheBloke/Llama-2-7b-Chat-GPTQ\n"
     ]
    },
    {
     "data": {
      "application/vnd.jupyter.widget-view+json": {
       "model_id": "779f38eae1fe44b2a6152dcfbfc67141",
       "version_major": 2,
       "version_minor": 0
      },
      "text/plain": [
       "Fetching 13 files:   0%|          | 0/13 [00:00<?, ?it/s]"
      ]
     },
     "metadata": {},
     "output_type": "display_data"
    },
    {
     "data": {
      "application/vnd.jupyter.widget-view+json": {
       "model_id": "719ba91a4b4c4825ad411c2041d3581a",
       "version_major": 2,
       "version_minor": 0
      },
      "text/plain": [
       "LICENSE:   0%|          | 0.00/7.02k [00:00<?, ?B/s]"
      ]
     },
     "metadata": {},
     "output_type": "display_data"
    },
    {
     "data": {
      "application/vnd.jupyter.widget-view+json": {
       "model_id": "60ff29e8567c4902aa649347fd5c9f76",
       "version_major": 2,
       "version_minor": 0
      },
      "text/plain": [
       ".gitattributes:   0%|          | 0.00/1.52k [00:00<?, ?B/s]"
      ]
     },
     "metadata": {},
     "output_type": "display_data"
    },
    {
     "data": {
      "application/vnd.jupyter.widget-view+json": {
       "model_id": "dc022bc19c1e4bc2b8068c735352fcc8",
       "version_major": 2,
       "version_minor": 0
      },
      "text/plain": [
       "generation_config.json:   0%|          | 0.00/137 [00:00<?, ?B/s]"
      ]
     },
     "metadata": {},
     "output_type": "display_data"
    },
    {
     "data": {
      "application/vnd.jupyter.widget-view+json": {
       "model_id": "6d46e6bcd96c48d1a341eca1b39ce832",
       "version_major": 2,
       "version_minor": 0
      },
      "text/plain": [
       "USE_POLICY.md:   0%|          | 0.00/4.77k [00:00<?, ?B/s]"
      ]
     },
     "metadata": {},
     "output_type": "display_data"
    },
    {
     "data": {
      "application/vnd.jupyter.widget-view+json": {
       "model_id": "2658efafe33f455491bdc0cca7b9d64b",
       "version_major": 2,
       "version_minor": 0
      },
      "text/plain": [
       "Notice:   0%|          | 0.00/112 [00:00<?, ?B/s]"
      ]
     },
     "metadata": {},
     "output_type": "display_data"
    },
    {
     "data": {
      "application/vnd.jupyter.widget-view+json": {
       "model_id": "c8f9c9e6118d4ac7acbb60581261a7a3",
       "version_major": 2,
       "version_minor": 0
      },
      "text/plain": [
       "README.md:   0%|          | 0.00/25.0k [00:00<?, ?B/s]"
      ]
     },
     "metadata": {},
     "output_type": "display_data"
    },
    {
     "data": {
      "application/vnd.jupyter.widget-view+json": {
       "model_id": "6d2c5e5b4f9f4ce883a88d34ebde8836",
       "version_major": 2,
       "version_minor": 0
      },
      "text/plain": [
       "config.json:   0%|          | 0.00/789 [00:00<?, ?B/s]"
      ]
     },
     "metadata": {},
     "output_type": "display_data"
    },
    {
     "data": {
      "application/vnd.jupyter.widget-view+json": {
       "model_id": "d3df7b883b6b41339b3f61b46dc008e3",
       "version_major": 2,
       "version_minor": 0
      },
      "text/plain": [
       "model.safetensors:   0%|          | 0.00/3.90G [00:00<?, ?B/s]"
      ]
     },
     "metadata": {},
     "output_type": "display_data"
    },
    {
     "data": {
      "application/vnd.jupyter.widget-view+json": {
       "model_id": "597d109175dc49749a418c64f39f90c7",
       "version_major": 2,
       "version_minor": 0
      },
      "text/plain": [
       "quantize_config.json:   0%|          | 0.00/188 [00:00<?, ?B/s]"
      ]
     },
     "metadata": {},
     "output_type": "display_data"
    },
    {
     "data": {
      "application/vnd.jupyter.widget-view+json": {
       "model_id": "bfc4d1ed7c1d4db0bd38ca8b1bc87368",
       "version_major": 2,
       "version_minor": 0
      },
      "text/plain": [
       "tokenizer.json:   0%|          | 0.00/1.84M [00:00<?, ?B/s]"
      ]
     },
     "metadata": {},
     "output_type": "display_data"
    },
    {
     "data": {
      "application/vnd.jupyter.widget-view+json": {
       "model_id": "234b00d728124c05a09a3a1f5685736e",
       "version_major": 2,
       "version_minor": 0
      },
      "text/plain": [
       "tokenizer_config.json:   0%|          | 0.00/727 [00:00<?, ?B/s]"
      ]
     },
     "metadata": {},
     "output_type": "display_data"
    },
    {
     "data": {
      "application/vnd.jupyter.widget-view+json": {
       "model_id": "0775983974a941d091e6dbff817ae967",
       "version_major": 2,
       "version_minor": 0
      },
      "text/plain": [
       "tokenizer.model:   0%|          | 0.00/500k [00:00<?, ?B/s]"
      ]
     },
     "metadata": {},
     "output_type": "display_data"
    },
    {
     "data": {
      "application/vnd.jupyter.widget-view+json": {
       "model_id": "8784aac921084ccc9a4e8001261f394f",
       "version_major": 2,
       "version_minor": 0
      },
      "text/plain": [
       "special_tokens_map.json:   0%|          | 0.00/411 [00:00<?, ?B/s]"
      ]
     },
     "metadata": {},
     "output_type": "display_data"
    },
    {
     "name": "stdout",
     "output_type": "stream",
     "text": [
      "Checking training environment\n",
      "Checking Test Environment\n",
      "Creating A2C Model\n",
      "Using cuda:0 device\n",
      "Wrapping the env with a `Monitor` wrapper\n",
      "Wrapping the env in a DummyVecEnv.\n",
      "Callback being created\n",
      "Model begining to learn\n",
      "Logging to /app/SUBERX/models/TheBloke_Llama-2-7b-Chat-GPTQ___2Shot_system_our___last_3___mind___small_mind_dataset___none___exp_decay_time___42___cuda_0___0_975___32___0_01/t_logs_1\n"
     ]
    },
    {
     "data": {
      "application/vnd.jupyter.widget-view+json": {
       "model_id": "eae3391026ff411a9790afee11d4d26d",
       "version_major": 2,
       "version_minor": 0
      },
      "text/plain": [
       "Output()"
      ]
     },
     "metadata": {},
     "output_type": "display_data"
    },
    {
     "name": "stdout",
     "output_type": "stream",
     "text": [
      "------------------------------------\n",
      "| rollout/              |          |\n",
      "|    ep_len_mean        | 48.6     |\n",
      "|    ep_rew_mean        | 386      |\n",
      "| time/                 |          |\n",
      "|    fps                | 2        |\n",
      "|    iterations         | 100      |\n",
      "|    time_elapsed       | 166      |\n",
      "|    total_timesteps    | 500      |\n",
      "| train/                |          |\n",
      "|    entropy_loss       | -0.993   |\n",
      "|    explained_variance | -21      |\n",
      "|    learning_rate      | 0.0095   |\n",
      "|    n_updates          | 99       |\n",
      "|    policy_loss        | 52.9     |\n",
      "|    value_loss         | 2.79e+03 |\n",
      "------------------------------------\n",
      "------------------------------------\n",
      "| rollout/              |          |\n",
      "|    ep_len_mean        | 36.1     |\n",
      "|    ep_rew_mean        | 291      |\n",
      "| time/                 |          |\n",
      "|    fps                | 3        |\n",
      "|    iterations         | 200      |\n",
      "|    time_elapsed       | 332      |\n",
      "|    total_timesteps    | 1000     |\n",
      "| train/                |          |\n",
      "|    entropy_loss       | -4.52    |\n",
      "|    explained_variance | -5.62    |\n",
      "|    learning_rate      | 0.009    |\n",
      "|    n_updates          | 199      |\n",
      "|    policy_loss        | 48.6     |\n",
      "|    value_loss         | 559      |\n",
      "------------------------------------\n",
      "------------------------------------\n",
      "| rollout/              |          |\n",
      "|    ep_len_mean        | 33.1     |\n",
      "|    ep_rew_mean        | 266      |\n",
      "| time/                 |          |\n",
      "|    fps                | 3        |\n",
      "|    iterations         | 300      |\n",
      "|    time_elapsed       | 498      |\n",
      "|    total_timesteps    | 1500     |\n",
      "| train/                |          |\n",
      "|    entropy_loss       | -0.461   |\n",
      "|    explained_variance | -2.6     |\n",
      "|    learning_rate      | 0.00851  |\n",
      "|    n_updates          | 299      |\n",
      "|    policy_loss        | -59.1    |\n",
      "|    value_loss         | 4.6e+04  |\n",
      "------------------------------------\n",
      "------------------------------------\n",
      "| rollout/              |          |\n",
      "|    ep_len_mean        | 32       |\n",
      "|    ep_rew_mean        | 257      |\n",
      "| time/                 |          |\n",
      "|    fps                | 3        |\n",
      "|    iterations         | 400      |\n",
      "|    time_elapsed       | 664      |\n",
      "|    total_timesteps    | 2000     |\n",
      "| train/                |          |\n",
      "|    entropy_loss       | -7.17    |\n",
      "|    explained_variance | -0.197   |\n",
      "|    learning_rate      | 0.008    |\n",
      "|    n_updates          | 399      |\n",
      "|    policy_loss        | 66.3     |\n",
      "|    value_loss         | 173      |\n",
      "------------------------------------\n"
     ]
    },
    {
     "data": {
      "text/html": [
       "<pre style=\"white-space:pre;overflow-x:auto;line-height:normal;font-family:Menlo,'DejaVu Sans Mono',consolas,'Courier New',monospace\">Saving model checkpoint to \n",
       "/app/SUBERX/models/TheBloke_Llama-2-7b-Chat-GPTQ___2Shot_system_our___last_3___mind___small_mind_dataset___none___e\n",
       "xp_decay_time___42___cuda_0___0_975___32___0_01/rl_model_2500_steps\n",
       "</pre>\n"
      ],
      "text/plain": [
       "Saving model checkpoint to \n",
       "/app/SUBERX/models/TheBloke_Llama-2-7b-Chat-GPTQ___2Shot_system_our___last_3___mind___small_mind_dataset___none___e\n",
       "xp_decay_time___42___cuda_0___0_975___32___0_01/rl_model_2500_steps\n"
      ]
     },
     "metadata": {},
     "output_type": "display_data"
    },
    {
     "name": "stdout",
     "output_type": "stream",
     "text": [
      "------------------------------------\n",
      "| rollout/              |          |\n",
      "|    ep_len_mean        | 34.6     |\n",
      "|    ep_rew_mean        | 278      |\n",
      "| time/                 |          |\n",
      "|    fps                | 2        |\n",
      "|    iterations         | 500      |\n",
      "|    time_elapsed       | 922      |\n",
      "|    total_timesteps    | 2500     |\n",
      "| train/                |          |\n",
      "|    entropy_loss       | -1.22    |\n",
      "|    explained_variance | -0.202   |\n",
      "|    learning_rate      | 0.0075   |\n",
      "|    n_updates          | 499      |\n",
      "|    policy_loss        | 20.6     |\n",
      "|    value_loss         | 216      |\n",
      "------------------------------------\n",
      "------------------------------------\n",
      "| rollout/              |          |\n",
      "|    ep_len_mean        | 35.5     |\n",
      "|    ep_rew_mean        | 286      |\n",
      "| time/                 |          |\n",
      "|    fps                | 2        |\n",
      "|    iterations         | 600      |\n",
      "|    time_elapsed       | 1092     |\n",
      "|    total_timesteps    | 3000     |\n",
      "| train/                |          |\n",
      "|    entropy_loss       | -0.678   |\n",
      "|    explained_variance | 0.42     |\n",
      "|    learning_rate      | 0.007    |\n",
      "|    n_updates          | 599      |\n",
      "|    policy_loss        | 2.21     |\n",
      "|    value_loss         | 43.7     |\n",
      "------------------------------------\n",
      "------------------------------------\n",
      "| rollout/              |          |\n",
      "|    ep_len_mean        | 34.5     |\n",
      "|    ep_rew_mean        | 278      |\n",
      "| time/                 |          |\n",
      "|    fps                | 2        |\n",
      "|    iterations         | 700      |\n",
      "|    time_elapsed       | 1261     |\n",
      "|    total_timesteps    | 3500     |\n",
      "| train/                |          |\n",
      "|    entropy_loss       | -10.1    |\n",
      "|    explained_variance | 0.046    |\n",
      "|    learning_rate      | 0.00651  |\n",
      "|    n_updates          | 699      |\n",
      "|    policy_loss        | -70.6    |\n",
      "|    value_loss         | 54       |\n",
      "------------------------------------\n",
      "------------------------------------\n",
      "| rollout/              |          |\n",
      "|    ep_len_mean        | 36.5     |\n",
      "|    ep_rew_mean        | 296      |\n",
      "| time/                 |          |\n",
      "|    fps                | 2        |\n",
      "|    iterations         | 800      |\n",
      "|    time_elapsed       | 1441     |\n",
      "|    total_timesteps    | 4000     |\n",
      "| train/                |          |\n",
      "|    entropy_loss       | -0.472   |\n",
      "|    explained_variance | 0.762    |\n",
      "|    learning_rate      | 0.00601  |\n",
      "|    n_updates          | 799      |\n",
      "|    policy_loss        | -0.116   |\n",
      "|    value_loss         | 1.96     |\n",
      "------------------------------------\n",
      "------------------------------------\n",
      "| rollout/              |          |\n",
      "|    ep_len_mean        | 36.4     |\n",
      "|    ep_rew_mean        | 298      |\n",
      "| time/                 |          |\n",
      "|    fps                | 2        |\n",
      "|    iterations         | 900      |\n",
      "|    time_elapsed       | 1610     |\n",
      "|    total_timesteps    | 4500     |\n",
      "| train/                |          |\n",
      "|    entropy_loss       | -0.674   |\n",
      "|    explained_variance | -1.47    |\n",
      "|    learning_rate      | 0.00551  |\n",
      "|    n_updates          | 899      |\n",
      "|    policy_loss        | -1.57    |\n",
      "|    value_loss         | 18.5     |\n",
      "------------------------------------\n"
     ]
    },
    {
     "data": {
      "text/html": [
       "<pre style=\"white-space:pre;overflow-x:auto;line-height:normal;font-family:Menlo,'DejaVu Sans Mono',consolas,'Courier New',monospace\">Saving model checkpoint to \n",
       "/app/SUBERX/models/TheBloke_Llama-2-7b-Chat-GPTQ___2Shot_system_our___last_3___mind___small_mind_dataset___none___e\n",
       "xp_decay_time___42___cuda_0___0_975___32___0_01/rl_model_5000_steps\n",
       "</pre>\n"
      ],
      "text/plain": [
       "Saving model checkpoint to \n",
       "/app/SUBERX/models/TheBloke_Llama-2-7b-Chat-GPTQ___2Shot_system_our___last_3___mind___small_mind_dataset___none___e\n",
       "xp_decay_time___42___cuda_0___0_975___32___0_01/rl_model_5000_steps\n"
      ]
     },
     "metadata": {},
     "output_type": "display_data"
    },
    {
     "name": "stdout",
     "output_type": "stream",
     "text": [
      "------------------------------------\n",
      "| rollout/              |          |\n",
      "|    ep_len_mean        | 38.7     |\n",
      "|    ep_rew_mean        | 317      |\n",
      "| time/                 |          |\n",
      "|    fps                | 2        |\n",
      "|    iterations         | 1000     |\n",
      "|    time_elapsed       | 1873     |\n",
      "|    total_timesteps    | 5000     |\n",
      "| train/                |          |\n",
      "|    entropy_loss       | -0.434   |\n",
      "|    explained_variance | -0.7     |\n",
      "|    learning_rate      | 0.005    |\n",
      "|    n_updates          | 999      |\n",
      "|    policy_loss        | -77.9    |\n",
      "|    value_loss         | 1.75e+04 |\n",
      "------------------------------------\n",
      "------------------------------------\n",
      "| rollout/              |          |\n",
      "|    ep_len_mean        | 39.8     |\n",
      "|    ep_rew_mean        | 327      |\n",
      "| time/                 |          |\n",
      "|    fps                | 2        |\n",
      "|    iterations         | 1100     |\n",
      "|    time_elapsed       | 2041     |\n",
      "|    total_timesteps    | 5500     |\n",
      "| train/                |          |\n",
      "|    entropy_loss       | -0.864   |\n",
      "|    explained_variance | 0.543    |\n",
      "|    learning_rate      | 0.00451  |\n",
      "|    n_updates          | 1099     |\n",
      "|    policy_loss        | 2.09     |\n",
      "|    value_loss         | 12.6     |\n",
      "------------------------------------\n",
      "------------------------------------\n",
      "| rollout/              |          |\n",
      "|    ep_len_mean        | 40.7     |\n",
      "|    ep_rew_mean        | 337      |\n",
      "| time/                 |          |\n",
      "|    fps                | 2        |\n",
      "|    iterations         | 1200     |\n",
      "|    time_elapsed       | 2207     |\n",
      "|    total_timesteps    | 6000     |\n",
      "| train/                |          |\n",
      "|    entropy_loss       | -0.756   |\n",
      "|    explained_variance | -5.03    |\n",
      "|    learning_rate      | 0.004    |\n",
      "|    n_updates          | 1199     |\n",
      "|    policy_loss        | 8.66     |\n",
      "|    value_loss         | 67.7     |\n",
      "------------------------------------\n",
      "------------------------------------\n",
      "| rollout/              |          |\n",
      "|    ep_len_mean        | 39.4     |\n",
      "|    ep_rew_mean        | 329      |\n",
      "| time/                 |          |\n",
      "|    fps                | 2        |\n",
      "|    iterations         | 1300     |\n",
      "|    time_elapsed       | 2374     |\n",
      "|    total_timesteps    | 6500     |\n",
      "| train/                |          |\n",
      "|    entropy_loss       | -0.0695  |\n",
      "|    explained_variance | -2.5     |\n",
      "|    learning_rate      | 0.00351  |\n",
      "|    n_updates          | 1299     |\n",
      "|    policy_loss        | 0.00251  |\n",
      "|    value_loss         | 50.4     |\n",
      "------------------------------------\n",
      "------------------------------------\n",
      "| rollout/              |          |\n",
      "|    ep_len_mean        | 42.6     |\n",
      "|    ep_rew_mean        | 357      |\n",
      "| time/                 |          |\n",
      "|    fps                | 2        |\n",
      "|    iterations         | 1400     |\n",
      "|    time_elapsed       | 2550     |\n",
      "|    total_timesteps    | 7000     |\n",
      "| train/                |          |\n",
      "|    entropy_loss       | -0.339   |\n",
      "|    explained_variance | -0.928   |\n",
      "|    learning_rate      | 0.003    |\n",
      "|    n_updates          | 1399     |\n",
      "|    policy_loss        | -0.156   |\n",
      "|    value_loss         | 5.91     |\n",
      "------------------------------------\n"
     ]
    },
    {
     "data": {
      "text/html": [
       "<pre style=\"white-space:pre;overflow-x:auto;line-height:normal;font-family:Menlo,'DejaVu Sans Mono',consolas,'Courier New',monospace\">Saving model checkpoint to \n",
       "/app/SUBERX/models/TheBloke_Llama-2-7b-Chat-GPTQ___2Shot_system_our___last_3___mind___small_mind_dataset___none___e\n",
       "xp_decay_time___42___cuda_0___0_975___32___0_01/rl_model_7500_steps\n",
       "</pre>\n"
      ],
      "text/plain": [
       "Saving model checkpoint to \n",
       "/app/SUBERX/models/TheBloke_Llama-2-7b-Chat-GPTQ___2Shot_system_our___last_3___mind___small_mind_dataset___none___e\n",
       "xp_decay_time___42___cuda_0___0_975___32___0_01/rl_model_7500_steps\n"
      ]
     },
     "metadata": {},
     "output_type": "display_data"
    },
    {
     "name": "stdout",
     "output_type": "stream",
     "text": [
      "------------------------------------\n",
      "| rollout/              |          |\n",
      "|    ep_len_mean        | 42.9     |\n",
      "|    ep_rew_mean        | 362      |\n",
      "| time/                 |          |\n",
      "|    fps                | 2        |\n",
      "|    iterations         | 1500     |\n",
      "|    time_elapsed       | 2809     |\n",
      "|    total_timesteps    | 7500     |\n",
      "| train/                |          |\n",
      "|    entropy_loss       | -2.36    |\n",
      "|    explained_variance | -0.621   |\n",
      "|    learning_rate      | 0.0025   |\n",
      "|    n_updates          | 1499     |\n",
      "|    policy_loss        | -5.86    |\n",
      "|    value_loss         | 7.31     |\n",
      "------------------------------------\n",
      "------------------------------------\n",
      "| rollout/              |          |\n",
      "|    ep_len_mean        | 45.5     |\n",
      "|    ep_rew_mean        | 384      |\n",
      "| time/                 |          |\n",
      "|    fps                | 2        |\n",
      "|    iterations         | 1600     |\n",
      "|    time_elapsed       | 2984     |\n",
      "|    total_timesteps    | 8000     |\n",
      "| train/                |          |\n",
      "|    entropy_loss       | -0.695   |\n",
      "|    explained_variance | 0.461    |\n",
      "|    learning_rate      | 0.00201  |\n",
      "|    n_updates          | 1599     |\n",
      "|    policy_loss        | -5.85    |\n",
      "|    value_loss         | 16.9     |\n",
      "------------------------------------\n",
      "------------------------------------\n",
      "| rollout/              |          |\n",
      "|    ep_len_mean        | 46.2     |\n",
      "|    ep_rew_mean        | 391      |\n",
      "| time/                 |          |\n",
      "|    fps                | 2        |\n",
      "|    iterations         | 1700     |\n",
      "|    time_elapsed       | 3158     |\n",
      "|    total_timesteps    | 8500     |\n",
      "| train/                |          |\n",
      "|    entropy_loss       | -0.774   |\n",
      "|    explained_variance | 0.355    |\n",
      "|    learning_rate      | 0.0015   |\n",
      "|    n_updates          | 1699     |\n",
      "|    policy_loss        | 0.17     |\n",
      "|    value_loss         | 2.49     |\n",
      "------------------------------------\n",
      "------------------------------------\n",
      "| rollout/              |          |\n",
      "|    ep_len_mean        | 45.4     |\n",
      "|    ep_rew_mean        | 384      |\n",
      "| time/                 |          |\n",
      "|    fps                | 2        |\n",
      "|    iterations         | 1800     |\n",
      "|    time_elapsed       | 3334     |\n",
      "|    total_timesteps    | 9000     |\n",
      "| train/                |          |\n",
      "|    entropy_loss       | -1.83    |\n",
      "|    explained_variance | -0.221   |\n",
      "|    learning_rate      | 0.00101  |\n",
      "|    n_updates          | 1799     |\n",
      "|    policy_loss        | 5.61     |\n",
      "|    value_loss         | 7.19     |\n",
      "------------------------------------\n",
      "------------------------------------\n",
      "| rollout/              |          |\n",
      "|    ep_len_mean        | 43.4     |\n",
      "|    ep_rew_mean        | 370      |\n",
      "| time/                 |          |\n",
      "|    fps                | 2        |\n",
      "|    iterations         | 1900     |\n",
      "|    time_elapsed       | 3504     |\n",
      "|    total_timesteps    | 9500     |\n",
      "| train/                |          |\n",
      "|    entropy_loss       | -7.95    |\n",
      "|    explained_variance | -3.22    |\n",
      "|    learning_rate      | 0.000505 |\n",
      "|    n_updates          | 1899     |\n",
      "|    policy_loss        | -20.4    |\n",
      "|    value_loss         | 9.58     |\n",
      "------------------------------------\n"
     ]
    },
    {
     "data": {
      "text/html": [
       "<pre style=\"white-space:pre;overflow-x:auto;line-height:normal;font-family:Menlo,'DejaVu Sans Mono',consolas,'Courier New',monospace\">Saving model checkpoint to \n",
       "/app/SUBERX/models/TheBloke_Llama-2-7b-Chat-GPTQ___2Shot_system_our___last_3___mind___small_mind_dataset___none___e\n",
       "xp_decay_time___42___cuda_0___0_975___32___0_01/rl_model_10000_steps\n",
       "</pre>\n"
      ],
      "text/plain": [
       "Saving model checkpoint to \n",
       "/app/SUBERX/models/TheBloke_Llama-2-7b-Chat-GPTQ___2Shot_system_our___last_3___mind___small_mind_dataset___none___e\n",
       "xp_decay_time___42___cuda_0___0_975___32___0_01/rl_model_10000_steps\n"
      ]
     },
     "metadata": {},
     "output_type": "display_data"
    },
    {
     "name": "stdout",
     "output_type": "stream",
     "text": [
      "-------------------------------------\n",
      "| rollout/              |           |\n",
      "|    ep_len_mean        | 44.3      |\n",
      "|    ep_rew_mean        | 379       |\n",
      "| time/                 |           |\n",
      "|    fps                | 2         |\n",
      "|    iterations         | 2000      |\n",
      "|    time_elapsed       | 3752      |\n",
      "|    total_timesteps    | 10000     |\n",
      "| train/                |           |\n",
      "|    entropy_loss       | -0.00656  |\n",
      "|    explained_variance | 0.0673    |\n",
      "|    learning_rate      | 5e-06     |\n",
      "|    n_updates          | 1999      |\n",
      "|    policy_loss        | -0.000653 |\n",
      "|    value_loss         | 2.41e+04  |\n",
      "-------------------------------------\n"
     ]
    },
    {
     "data": {
      "text/html": [
       "<pre style=\"white-space:pre;overflow-x:auto;line-height:normal;font-family:Menlo,'DejaVu Sans Mono',consolas,'Courier New',monospace\"></pre>\n"
      ],
      "text/plain": []
     },
     "metadata": {},
     "output_type": "display_data"
    },
    {
     "name": "stdout",
     "output_type": "stream",
     "text": [
      "Model Ends Learning\n",
      "Reward information saved to /app/SUBERX/models/TheBloke_Llama-2-7b-Chat-GPTQ___2Shot_system_our___last_3___mind___small_mind_dataset___none___exp_decay_time___42___cuda_0___0_975___32___0_01/reward_282.80.txt\n",
      "Mean Reward: 282.8 +/- 215.26922678357906\n"
     ]
    }
   ],
   "source": [
    "\n",
    "if __name__ == \"__main__\":\n",
    "    args = parse_args()\n",
    "    #args.llm_model='llama3.2'\n",
    "    llm = load_LLM(args.llm_model)\n",
    "\n",
    "    dir_name = f\"{args.llm_model}___{args.llm_rater}___{args.items_retrieval}___{args.user_dataset}___{args.news_dataset}___{args.perturbator}___{args.reward_shaping}___{args.seed}___{args.model_device}___{args.gamma}___{args.embedding_dim}___{args.learning_rate}\"\n",
    "    sanitized_dir_name = dir_name.replace('/', '_').replace(':', '_').replace('.', '_')\n",
    "    save_path = f\"/app/SUBERX/models/{sanitized_dir_name}\"\n",
    "    wandb_path = f\"/app/wandb\"\n",
    "    os.makedirs(save_path, exist_ok=True)\n",
    "\n",
    "    train_env = get_enviroment_from_args(llm, args)\n",
    "    test_env = get_enviroment_from_args(llm, args, seed=args.seed + 600)\n",
    "\n",
    "    policy_kwargs = dict(features_extractor_class=ExtractPass)\n",
    "    train_env = StableBaselineWrapperNum(train_env)\n",
    "    test_env = Monitor(StableBaselineWrapperNum(test_env))\n",
    "    print(\"Checking training environment\")\n",
    "    check_env(train_env, warn=True)\n",
    "\n",
    "    print(\"Checking Test Environment\")\n",
    "    check_env(test_env)\n",
    "\n",
    "    print(\"Creating A2C Model\")\n",
    "    model = A2C(\n",
    "        CustomActorCriticPolicy,\n",
    "        train_env,\n",
    "        verbose=1,\n",
    "        policy_kwargs=policy_kwargs,\n",
    "        device=args.model_device,\n",
    "        learning_rate=linear_schedule(args.learning_rate),\n",
    "        tensorboard_log=save_path,\n",
    "        gamma=args.gamma,\n",
    "        ent_coef=0.001,\n",
    "    )\n",
    "    print(\"Callback being created\")\n",
    "    combined_callback = CombinedCallback(save_freq=2500, log_freq=500, save_path=save_path, name_prefix=\"rl_model\", verbose=1)\n",
    "    callback = CallbackList([combined_callback])\n",
    "\n",
    "    logger.info(\"Model starts learning\")\n",
    "    print(\"Model begining to learn\")\n",
    "    model.learn(total_timesteps=10000, progress_bar=True, callback=callback, tb_log_name=\"t_logs\")\n",
    "\n",
    "    logger.info(\"Model Ends Learning\")\n",
    "    print(\"Model Ends Learning\")\n",
    "    logger.info(\"Evaluating the Policy\")\n",
    "    mean_reward, std_reward = evaluate_policy(model, test_env, n_eval_episodes=50)\n",
    "    logger.info(f\"Mean reward: {mean_reward} +/- {std_reward}\")\n",
    "\n",
    "    reward_file_path = os.path.join(save_path, f\"reward_{mean_reward:.2f}.txt\")\n",
    "    with open(reward_file_path, 'w') as file:\n",
    "        file.write(f\"Mean reward: {mean_reward} +/- {std_reward}\\n\")\n",
    "\n",
    "    print(f\"Reward information saved to {reward_file_path}\")\n",
    "\n",
    "    print(f\"Mean Reward: {mean_reward} +/- {std_reward}\")\n",
    "    logger.info(f\"Mean Reward: {mean_reward} +/- {std_reward}\")\n"
   ]
  },
  {
   "cell_type": "code",
   "execution_count": null,
   "id": "b6e229ec-51b5-451f-a6b7-767ba1124a3c",
   "metadata": {},
   "outputs": [],
   "source": []
  },
  {
   "cell_type": "code",
   "execution_count": null,
   "id": "831e656d-ad86-45d6-99ab-ef86d237ef20",
   "metadata": {},
   "outputs": [],
   "source": []
  }
 ],
 "metadata": {
  "kernelspec": {
   "display_name": "Python 3 (ipykernel)",
   "language": "python",
   "name": "python3"
  },
  "language_info": {
   "codemirror_mode": {
    "name": "ipython",
    "version": 3
   },
   "file_extension": ".py",
   "mimetype": "text/x-python",
   "name": "python",
   "nbconvert_exporter": "python",
   "pygments_lexer": "ipython3",
   "version": "3.10.12"
  }
 },
 "nbformat": 4,
 "nbformat_minor": 5
}
