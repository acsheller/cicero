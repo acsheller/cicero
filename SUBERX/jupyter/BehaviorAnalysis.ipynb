{
 "cells": [
  {
   "cell_type": "markdown",
   "id": "08ab56d3-d5ea-486d-b125-15209716ae30",
   "metadata": {},
   "source": [
    "# User Behavior Analysis"
   ]
  },
  {
   "cell_type": "code",
   "execution_count": null,
   "id": "84dbf1f0-fb89-4352-8e77-e2b5dfec89a8",
   "metadata": {},
   "outputs": [],
   "source": [
    "import pandas as pd\n",
    "\n",
    "behaviors_file = \""
   ]
  }
 ],
 "metadata": {
  "kernelspec": {
   "display_name": "Python (sb3)",
   "language": "python",
   "name": "sb3"
  },
  "language_info": {
   "codemirror_mode": {
    "name": "ipython",
    "version": 3
   },
   "file_extension": ".py",
   "mimetype": "text/x-python",
   "name": "python",
   "nbconvert_exporter": "python",
   "pygments_lexer": "ipython3",
   "version": "3.10.12"
  }
 },
 "nbformat": 4,
 "nbformat_minor": 5
}
