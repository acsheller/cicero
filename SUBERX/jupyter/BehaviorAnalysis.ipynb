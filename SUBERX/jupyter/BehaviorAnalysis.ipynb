{
 "cells": [
  {
   "cell_type": "markdown",
   "id": "08ab56d3-d5ea-486d-b125-15209716ae30",
   "metadata": {},
   "source": [
    "# User Behavior Analysis"
   ]
  },
  {
   "cell_type": "code",
   "execution_count": 5,
   "id": "84dbf1f0-fb89-4352-8e77-e2b5dfec89a8",
   "metadata": {},
   "outputs": [
    {
     "name": "stdout",
     "output_type": "stream",
     "text": [
      "Behaviors File /app/SUBERX/datasets/MINDsmall/train/behaviors.tsv\n",
      "<class 'pandas.core.frame.DataFrame'>\n",
      "RangeIndex: 156965 entries, 0 to 156964\n",
      "Data columns (total 5 columns):\n",
      " #   Column         Non-Null Count   Dtype \n",
      "---  ------         --------------   ----- \n",
      " 0   impression_id  156965 non-null  int64 \n",
      " 1   user_id        156965 non-null  object\n",
      " 2   time           156965 non-null  object\n",
      " 3   history        153727 non-null  object\n",
      " 4   impressions    156965 non-null  object\n",
      "dtypes: int64(1), object(4)\n",
      "memory usage: 6.0+ MB\n",
      "None\n",
      "   impression_id user_id                   time  \\\n",
      "0              1  U13740  11/11/2019 9:05:58 AM   \n",
      "1              2  U91836  11/12/2019 6:11:30 PM   \n",
      "2              3  U73700  11/14/2019 7:01:48 AM   \n",
      "3              4  U34670  11/11/2019 5:28:05 AM   \n",
      "4              5   U8125  11/12/2019 4:11:21 PM   \n",
      "\n",
      "                                             history  \\\n",
      "0  N55189 N42782 N34694 N45794 N18445 N63302 N104...   \n",
      "1  N31739 N6072 N63045 N23979 N35656 N43353 N8129...   \n",
      "2  N10732 N25792 N7563 N21087 N41087 N5445 N60384...   \n",
      "3  N45729 N2203 N871 N53880 N41375 N43142 N33013 ...   \n",
      "4                        N10078 N56514 N14904 N33740   \n",
      "\n",
      "                                         impressions  \n",
      "0                                  N55689-1 N35729-0  \n",
      "1  N20678-0 N39317-0 N58114-0 N20495-0 N42977-0 N...  \n",
      "2  N50014-0 N23877-0 N35389-0 N49712-0 N16844-0 N...  \n",
      "3                N35729-0 N33632-0 N49685-1 N27581-0  \n",
      "4  N39985-0 N36050-0 N16096-0 N8400-1 N22407-0 N6...  \n"
     ]
    }
   ],
   "source": [
    "import pandas as pd\n",
    "\n",
    "\n",
    "MIND_type = 'MINDsmall'\n",
    "\n",
    "data_path_base=\"/app/SUBERX/datasets/\"\n",
    "data_path = data_path_base + MIND_type +\"/\"\n",
    "\n",
    "\n",
    "behaviors_file = data_path + \"train/behaviors.tsv\"\n",
    "print(f\"Behaviors File {behaviors_file}\")\n",
    "\n",
    "\n",
    "# Load the behaviors data\n",
    "columns = [\"impression_id\", \"user_id\", \"time\", \"history\", \"impressions\"]\n",
    "behaviors_df = pd.read_csv(behaviors_file, sep=\"\\t\", names=columns)\n",
    "\n",
    "# Display basic statistics and data sample\n",
    "print(behaviors_df.info())\n",
    "print(behaviors_df.head())"
   ]
  },
  {
   "cell_type": "markdown",
   "id": "58ce2ce3-e849-42dd-8aba-578064fb4940",
   "metadata": {},
   "source": [
    "## Statistics\n",
    "\n",
    "Calculate some statistics\n",
    "\n",
    "**Number of unique users**: There are 50,000 unique users in the *small* MIND dataset.\n",
    "**NUmber of sessions**: A session represents a single instance where a user interacts with the platform, such as browsing news or clicking on articles.\n",
    "**Average Session length**: A longer history provides more context for the recommendation system but can also increase computational complexity.\n",
    "**Average Impressions per session**: Impressions are the total number of recommendations or articles displayed to a user.\n"
   ]
  },
  {
   "cell_type": "code",
   "execution_count": 10,
   "id": "8c7c8d6f-6b87-4104-b46d-a4a401b2561f",
   "metadata": {},
   "outputs": [
    {
     "name": "stdout",
     "output_type": "stream",
     "text": [
      "Number of unique users: 50000\n",
      "Number of sessions: 156965\n",
      "Average session length (history length): 32.56\n",
      "Average impressions per session: 37.23\n",
      "Average CTR: 10.85%\n"
     ]
    }
   ],
   "source": [
    "num_users = behaviors_df[\"user_id\"].nunique()\n",
    "print(f\"Number of unique users: {num_users}\")\n",
    "\n",
    "\n",
    "num_sessions = len(behaviors_df)\n",
    "print(f\"Number of sessions: {num_sessions}\")\n",
    "\n",
    "behaviors_df[\"history_length\"] = behaviors_df[\"history\"].fillna(\"\").apply(lambda x: len(x.split(\" \")))\n",
    "avg_history_length = behaviors_df[\"history_length\"].mean()\n",
    "print(f\"Average session length (history length): {avg_history_length:.2f}\")\n",
    "\n",
    "behaviors_df[\"num_impressions\"] = behaviors_df[\"impressions\"].apply(lambda x: len(x.split(\" \")))\n",
    "avg_impressions = behaviors_df[\"num_impressions\"].mean()\n",
    "print(f\"Average impressions per session: {avg_impressions:.2f}\")\n",
    "\n",
    "\n",
    "def calculate_ctr(impressions):\n",
    "    clicks = sum([1 for impression in impressions.split(\" \") if impression.endswith(\"-1\")])\n",
    "    total = len(impressions.split(\" \"))\n",
    "    return clicks / total if total > 0 else 0\n",
    "\n",
    "behaviors_df[\"ctr\"] = behaviors_df[\"impressions\"].apply(calculate_ctr)\n",
    "avg_ctr = behaviors_df[\"ctr\"].mean()\n",
    "print(f\"Average CTR: {avg_ctr:.2%}\")\n",
    "\n"
   ]
  },
  {
   "cell_type": "code",
   "execution_count": null,
   "id": "9f16b135-dbd2-4d99-9244-894dd57c42d2",
   "metadata": {},
   "outputs": [],
   "source": []
  }
 ],
 "metadata": {
  "kernelspec": {
   "display_name": "Python (sb3)",
   "language": "python",
   "name": "sb3"
  },
  "language_info": {
   "codemirror_mode": {
    "name": "ipython",
    "version": 3
   },
   "file_extension": ".py",
   "mimetype": "text/x-python",
   "name": "python",
   "nbconvert_exporter": "python",
   "pygments_lexer": "ipython3",
   "version": "3.10.12"
  }
 },
 "nbformat": 4,
 "nbformat_minor": 5
}
