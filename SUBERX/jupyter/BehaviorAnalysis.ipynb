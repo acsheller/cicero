{
 "cells": [
  {
   "cell_type": "markdown",
   "id": "08ab56d3-d5ea-486d-b125-15209716ae30",
   "metadata": {},
   "source": [
    "# User Behavior Analysis"
   ]
  },
  {
   "cell_type": "code",
   "execution_count": 1,
   "id": "84dbf1f0-fb89-4352-8e77-e2b5dfec89a8",
   "metadata": {},
   "outputs": [
    {
     "name": "stdout",
     "output_type": "stream",
     "text": [
      "Behaviors File /app/datasets/MINDsmall/train/behaviors.tsv\n",
      "News file /app/datasets/MINDsmall/train/news.tsv\n"
     ]
    }
   ],
   "source": [
    "import pandas as pd\n",
    "import json\n",
    "from tqdm import tqdm\n",
    "from SPARQLWrapper import SPARQLWrapper, JSON\n",
    "import time\n",
    "\n",
    "MIND_type = 'MINDsmall'\n",
    "\n",
    "data_path_base=\"/app/datasets/\"\n",
    "data_path = data_path_base + MIND_type +\"/\"\n",
    "\n",
    "\n",
    "behaviors_file = data_path + \"train/behaviors.tsv\"\n",
    "print(f\"Behaviors File {behaviors_file}\")\n",
    "\n",
    "news_file = data_path + \"train/news.tsv\"\n",
    "news_df = pd.read_csv(news_file, sep=\"\\t\", names=[\"news_id\", \"category\", \"subcategory\", \"title\", \"abstract\", \"url\", \"title_entities\", \"abstract_entities\"])\n",
    "print(f\"News file {news_file}\")\n",
    "# Load the behaviors data\n",
    "columns = [\"impression_id\", \"user_id\", \"time\", \"history\", \"impressions\"]\n",
    "behaviors_df = pd.read_csv(behaviors_file, sep=\"\\t\", names=columns)\n",
    "\n",
    "# Display basic statistics and data sample\n",
    "#print(behaviors_df.info())\n",
    "#print(behaviors_df.head())"
   ]
  },
  {
   "cell_type": "markdown",
   "id": "58ce2ce3-e849-42dd-8aba-578064fb4940",
   "metadata": {},
   "source": [
    "## Statistics\n",
    "\n",
    "Calculate some statistics\n",
    "\n",
    "**Number of unique users**: There are 50,000 unique users in the *small* MIND dataset.\n",
    "**NUmber of sessions**: A session represents a single instance where a user interacts with the platform, such as browsing news or clicking on articles.\n",
    "**Average Session length**: A longer history provides more context for the recommendation system but can also increase computational complexity.\n",
    "**Average Impressions per session**: Impressions are the total number of recommendations or articles displayed to a user.\n"
   ]
  },
  {
   "cell_type": "code",
   "execution_count": null,
   "id": "8c7c8d6f-6b87-4104-b46d-a4a401b2561f",
   "metadata": {},
   "outputs": [],
   "source": [
    "num_users = behaviors_df[\"user_id\"].nunique()\n",
    "print(f\"Number of unique users: {num_users}\")\n",
    "\n",
    "\n",
    "num_sessions = len(behaviors_df)\n",
    "print(f\"Number of sessions: {num_sessions}\")\n",
    "\n",
    "behaviors_df[\"history_length\"] = behaviors_df[\"history\"].fillna(\"\").apply(lambda x: len(x.split(\" \")))\n",
    "avg_history_length = behaviors_df[\"history_length\"].mean()\n",
    "print(f\"Average session length (history length): {avg_history_length:.2f}\")\n",
    "\n",
    "behaviors_df[\"num_impressions\"] = behaviors_df[\"impressions\"].apply(lambda x: len(x.split(\" \")))\n",
    "avg_impressions = behaviors_df[\"num_impressions\"].mean()\n",
    "print(f\"Average impressions per session: {avg_impressions:.2f}\")\n",
    "\n",
    "\n",
    "\n",
    "\n",
    "def calculate_ctr(impressions):\n",
    "    clicks = sum([1 for impression in impressions.split(\" \") if impression.endswith(\"-1\")])\n",
    "    total = len(impressions.split(\" \"))\n",
    "    return clicks / total if total > 0 else 0\n",
    "\n",
    "behaviors_df[\"ctr\"] = behaviors_df[\"impressions\"].apply(calculate_ctr)\n",
    "avg_ctr = behaviors_df[\"ctr\"].mean()\n",
    "print(f\"Average CTR: {avg_ctr:.2%}\")\n",
    "\n"
   ]
  },
  {
   "cell_type": "markdown",
   "id": "a39c1bad-23e6-49a2-9b58-4d2f53650e8e",
   "metadata": {},
   "source": [
    "## Group Users into catagories based on engagement"
   ]
  },
  {
   "cell_type": "code",
   "execution_count": null,
   "id": "83c2c780-4a4c-4027-b2aa-e8031459ad7f",
   "metadata": {},
   "outputs": [],
   "source": [
    "def user_engagement_group(ctr):\n",
    "    if ctr > 0.75:\n",
    "        return \"Highly Engaged\"\n",
    "    elif ctr > 0.25:\n",
    "        return \"Moderately Engaged\"\n",
    "    else:\n",
    "        return \"Low Engagement\"\n",
    "\n",
    "user_ctr = behaviors_df.groupby(\"user_id\")[\"ctr\"].mean()\n",
    "engagement_groups = user_ctr.apply(user_engagement_group)\n",
    "\n",
    "engagement_summary = engagement_groups.value_counts()\n",
    "print(\"User Engagement Summary:\")\n",
    "print(engagement_summary)\n"
   ]
  },
  {
   "cell_type": "markdown",
   "id": "ff30f10f-ad2e-4412-8e59-702117b896cd",
   "metadata": {},
   "source": [
    "## Based on time\n",
    "\n"
   ]
  },
  {
   "cell_type": "code",
   "execution_count": null,
   "id": "8fe929c6-4931-4769-be5f-14f9b984d35d",
   "metadata": {},
   "outputs": [],
   "source": [
    "behaviors_df[\"time\"] = pd.to_datetime(behaviors_df[\"time\"])\n",
    "behaviors_df[\"hour\"] = behaviors_df[\"time\"].dt.hour\n",
    "\n",
    "hourly_behavior = behaviors_df.groupby(\"hour\")[\"ctr\"].mean()\n",
    "hourly_behavior.plot(kind=\"bar\", title=\"CTR by Hour of Day\", xlabel=\"Hour\", ylabel=\"CTR\")\n"
   ]
  },
  {
   "cell_type": "markdown",
   "id": "0d1ee48b-46a2-483e-98dc-ae6e03ae8459",
   "metadata": {},
   "source": [
    "## Visualize the results\n"
   ]
  },
  {
   "cell_type": "code",
   "execution_count": null,
   "id": "6263996c-0eca-4dc0-b31d-9934f07193c1",
   "metadata": {},
   "outputs": [],
   "source": [
    "import matplotlib.pyplot as plt\n",
    "\n",
    "plt.hist(behaviors_df[\"ctr\"], bins=50, color=\"blue\", alpha=0.7)\n",
    "plt.title(\"Distribution of CTR\")\n",
    "plt.xlabel(\"CTR\")\n",
    "plt.ylabel(\"Frequency\")\n",
    "plt.show()\n"
   ]
  },
  {
   "cell_type": "code",
   "execution_count": null,
   "id": "f802cb6f-bae6-4852-83fe-5b7e42c70e71",
   "metadata": {},
   "outputs": [],
   "source": [
    "import matplotlib.pyplot as plt\n",
    "\n",
    "# User engagement data\n",
    "labels = ['Low Engagement', 'Moderately Engaged']\n",
    "counts = [44627, 5373]\n",
    "colors = ['lightcoral', 'skyblue']\n",
    "\n",
    "# Pie chart\n",
    "plt.figure(figsize=(8, 8))\n",
    "plt.pie(counts, labels=labels, autopct='%1.1f%%', startangle=90, colors=colors, wedgeprops={'edgecolor': 'black'})\n",
    "plt.title('User Engagement Summary')\n",
    "plt.show()\n"
   ]
  },
  {
   "cell_type": "code",
   "execution_count": null,
   "id": "abe17cd7-38d3-4095-9957-376d7b6e5490",
   "metadata": {},
   "outputs": [],
   "source": [
    "## Distribution of session history lengths\n"
   ]
  },
  {
   "cell_type": "code",
   "execution_count": null,
   "id": "9f12b156-5ceb-44c9-a5b2-b52aad7eb3b3",
   "metadata": {},
   "outputs": [],
   "source": [
    "import matplotlib.pyplot as plt\n",
    "\n",
    "# Distribution of session history lengths\n",
    "plt.figure(figsize=(10, 6))\n",
    "plt.hist(behaviors_df['history_length'], bins=50, color='skyblue', edgecolor='black', alpha=0.7)\n",
    "plt.title('Distribution of Session History Lengths')\n",
    "plt.xlabel('History Length (Number of Articles)')\n",
    "plt.ylabel('Frequency')\n",
    "plt.show()\n"
   ]
  },
  {
   "cell_type": "code",
   "execution_count": null,
   "id": "2a7f40bf-9c38-47b7-adc9-101cf970bc21",
   "metadata": {},
   "outputs": [],
   "source": [
    "# Summary statistics for session history length\n",
    "history_stats = behaviors_df['history_length'].describe()\n",
    "print(history_stats)\n"
   ]
  },
  {
   "cell_type": "code",
   "execution_count": null,
   "id": "0d0ed1e5-14cd-4e31-a317-e46a78f0d228",
   "metadata": {},
   "outputs": [],
   "source": [
    "# Categorize sessions based on history length\n",
    "def categorize_history_length(length):\n",
    "    if length < 10:\n",
    "        return 'Short'\n",
    "    elif length < 50:\n",
    "        return 'Medium'\n",
    "    else:\n",
    "        return 'Long'\n",
    "\n",
    "behaviors_df['history_category'] = behaviors_df['history_length'].apply(categorize_history_length)\n",
    "\n",
    "# Count sessions in each category\n",
    "history_categories = behaviors_df['history_category'].value_counts()\n",
    "print(history_categories)\n"
   ]
  },
  {
   "cell_type": "code",
   "execution_count": null,
   "id": "9b8e7db5-f03a-43dc-8cfc-43b6488aa944",
   "metadata": {},
   "outputs": [],
   "source": [
    "# Average CTR by history category\n",
    "ctr_by_history_category = behaviors_df.groupby('history_category')['ctr'].mean()\n",
    "print(ctr_by_history_category)\n",
    "\n",
    "# Bar chart for visualization\n",
    "ctr_by_history_category.plot(kind='bar', color='coral', edgecolor='black', title='CTR by Session History Category')\n",
    "plt.xlabel('Session History Category')\n",
    "plt.ylabel('Average CTR')\n",
    "plt.show()\n"
   ]
  },
  {
   "cell_type": "code",
   "execution_count": null,
   "id": "2d743410-c14e-498c-a44d-46a0d85472cb",
   "metadata": {},
   "outputs": [],
   "source": [
    "# Average history length by hour of the day\n",
    "hourly_history = behaviors_df.groupby('hour')['history_length'].mean()\n",
    "hourly_history.plot(kind='line', title='Average Session History Length by Hour', xlabel='Hour', ylabel='Average History Length')\n",
    "plt.show()\n"
   ]
  },
  {
   "cell_type": "code",
   "execution_count": null,
   "id": "04c887e0-79bf-401d-891f-c8891583ae7a",
   "metadata": {},
   "outputs": [],
   "source": [
    "# Simulated data for 'history_category' counts\n",
    "history_category_counts = {\n",
    "    'Medium': 78667,\n",
    "    'Short': 46784,\n",
    "    'Long': 31514\n",
    "}\n",
    "\n",
    "# Pie chart for session history categories\n",
    "plt.figure(figsize=(8, 8))\n",
    "plt.pie(\n",
    "    history_category_counts.values(),\n",
    "    labels=history_category_counts.keys(),\n",
    "    autopct='%1.1f%%',\n",
    "    startangle=90,\n",
    "    colors=['skyblue', 'lightcoral', 'lightgreen'],\n",
    "    wedgeprops={'edgecolor': 'black'}\n",
    ")\n",
    "plt.title('Distribution of Session History Categories')\n",
    "plt.show()\n"
   ]
  },
  {
   "cell_type": "markdown",
   "id": "8d0a60ea-88c6-4826-bd7e-53f54dd22035",
   "metadata": {},
   "source": [
    "---"
   ]
  },
  {
   "cell_type": "markdown",
   "id": "dafaf49d-b1c2-4a5f-838f-bd4a45697722",
   "metadata": {},
   "source": [
    "## Summary so Far\n",
    "\n",
    "With the small MIND dataset we can see that most of the users are not engaged at all. \n",
    "\n",
    "There are 50,000 users and 156965 sesions. The majority of users, approximately 89% have low engagement suggesting either the recommendations are not aligning well with user interests or users are inherently less interactive and ignore recommendations, consumming news randomly.\n",
    "\n",
    "## The Flip side\n",
    "\n",
    "The flip side of this is that the user is drawn to recommendations because they are an expert in, say for example, *the Transylvania space program.* The recommendations are vital to focusing their attention on a specific area of analysis or research. \n",
    "\n",
    "## What would an analysts dataset look like\n",
    "\n",
    "Consider a dataset of behaviors based on analysts who need to view the most `relevent news` first.  Not the daily news but the daily news about a specific topic that they maintain expertise on.  What does that look like?  How can we create that?\n",
    "\n"
   ]
  },
  {
   "cell_type": "markdown",
   "id": "4bebcb08-df8d-4d10-a5ed-a529a7cf8e1c",
   "metadata": {},
   "source": [
    "---\n",
    "\n",
    "## First extract the entities/topics from the dataset"
   ]
  },
  {
   "cell_type": "code",
   "execution_count": null,
   "id": "d5e0c886-c42f-4eb7-9a95-335c8872a121",
   "metadata": {},
   "outputs": [],
   "source": [
    "\n",
    "# Function to extract entity IDs\n",
    "def extract_entity_ids(entities_str):\n",
    "    if pd.isna(entities_str):\n",
    "        return []\n",
    "    entities = json.loads(entities_str)\n",
    "    return [entity.get('WikidataId') for entity in entities if 'WikidataId' in entity]\n",
    "\n",
    "# Extract entities from title and abstract as lists\n",
    "news_df['title_entity_ids'] = news_df['title_entities'].apply(extract_entity_ids)\n",
    "news_df['abstract_entity_ids'] = news_df['abstract_entities'].apply(extract_entity_ids)\n",
    "\n",
    "# Combine all entity IDs into one column\n",
    "news_df['all_entity_ids'] = news_df['title_entity_ids'] + news_df['abstract_entity_ids']\n",
    "\n",
    "# Flatten and get unique entity IDs\n",
    "unique_entity_ids = set(entity for entities in news_df['all_entity_ids'] for entity in entities)\n",
    "print(f\"Unique entity IDs: {len(unique_entity_ids)}\")\n"
   ]
  },
  {
   "cell_type": "code",
   "execution_count": null,
   "id": "f115a51a-f62d-4354-943a-bd279eaba3ff",
   "metadata": {},
   "outputs": [],
   "source": [
    "import requests\n",
    "\n",
    "def fetch_entity_name_old(entity_id):\n",
    "    url = f\"https://www.wikidata.org/wiki/Special:EntityData/{entity_id}.json\"\n",
    "    try:\n",
    "        response = requests.get(url)\n",
    "        if response.status_code == 200:\n",
    "            data = response.json()\n",
    "            return data['entities'][entity_id]['labels']['en']['value']\n",
    "    except Exception as e:\n",
    "        print(f\"Error fetching {entity_id}: {e}\")\n",
    "    return \"Unknown\"\n",
    "\n",
    "# Map IDs to names\n",
    "#news_df['all_entity_names'] = news_df['all_entity_ids'].apply(lambda ids: [fetch_entity_name(eid) for eid in ids])\n"
   ]
  },
  {
   "cell_type": "code",
   "execution_count": null,
   "id": "3dbf9b7b-bd64-48bd-b48a-a605f00e2a63",
   "metadata": {},
   "outputs": [],
   "source": [
    "\n",
    "# Function to query Wikidata for entity names\n",
    "def fetch_entity_name(entity_id):\n",
    "    sparql = SPARQLWrapper(\"https://query.wikidata.org/sparql\")\n",
    "    query = f\"\"\"\n",
    "    SELECT ?entity ?label WHERE {{\n",
    "      VALUES ?entity {{ wd:{entity_id} }}\n",
    "      ?entity rdfs:label ?label .\n",
    "      FILTER(LANG(?label) = \"en\")\n",
    "    }}\n",
    "    \"\"\"\n",
    "    sparql.setQuery(query)\n",
    "    sparql.setReturnFormat(JSON)\n",
    "    try:\n",
    "        results = sparql.query().convert()\n",
    "        for result in results['results']['bindings']:\n",
    "            return result['label']['value']\n",
    "    except Exception as e:\n",
    "        print(f\"Error fetching {entity_id}: {e}\")\n",
    "        return \"Unknown\"\n"
   ]
  },
  {
   "cell_type": "code",
   "execution_count": null,
   "id": "9d800929-371e-401b-9789-a8938201cbad",
   "metadata": {},
   "outputs": [],
   "source": [
    "# Create the mapping DataFrame\n",
    "entity_mapping = []\n",
    "for entity_id in tqdm(unique_entity_ids, desc=\"Fetching entity names\", unit=\"entity\"):\n",
    "    name = fetch_entity_name(entity_id)\n",
    "    entity_mapping.append({\"entity_id\": entity_id, \"entity_name\": name})\n",
    "    time.sleep(0.2)  # Avoid overwhelming the API\n",
    "\n",
    "entity_mapping_df = pd.DataFrame(entity_mapping)\n",
    "\n",
    "# Save the mapping\n",
    "#entity_mapping_df.to_csv(\"entity_mapping.csv\", index=False)"
   ]
  },
  {
   "cell_type": "code",
   "execution_count": null,
   "id": "5f94c867-fcfe-4585-95ac-fc51f1609da2",
   "metadata": {},
   "outputs": [],
   "source": []
  }
 ],
 "metadata": {
  "kernelspec": {
   "display_name": "Python (sb3)",
   "language": "python",
   "name": "sb3"
  },
  "language_info": {
   "codemirror_mode": {
    "name": "ipython",
    "version": 3
   },
   "file_extension": ".py",
   "mimetype": "text/x-python",
   "name": "python",
   "nbconvert_exporter": "python",
   "pygments_lexer": "ipython3",
   "version": "3.10.12"
  }
 },
 "nbformat": 4,
 "nbformat_minor": 5
}
