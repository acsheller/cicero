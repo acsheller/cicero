{
 "cells": [
  {
   "cell_type": "markdown",
   "id": "d71aa47b-c9ab-48ef-bb06-a26b5dc6bc4c",
   "metadata": {},
   "source": [
    "# Integration of Synthetic data\n",
    "\n",
    "Now that we've created some synthetic data we can use."
   ]
  },
  {
   "cell_type": "markdown",
   "id": "a1eeef9e-276d-4b20-aa04-52308bbf0057",
   "metadata": {},
   "source": [
    "## Some Initial Checks\n",
    "Do some initial checks to validate things."
   ]
  },
  {
   "cell_type": "markdown",
   "id": "38e8732e-fc61-4dee-9e3a-b5e286f3cf24",
   "metadata": {},
   "source": [
    "---\n",
    "### Are all User IDs in history in synthetic data?"
   ]
  },
  {
   "cell_type": "code",
   "execution_count": 18,
   "id": "e1671ebf-68bd-4639-b2ae-78a35566ba55",
   "metadata": {},
   "outputs": [],
   "source": [
    "import pandas as pd\n",
    "import ast\n",
    "\n",
    "data_path_base = \"/app/datasets/\"\n",
    "MIND_type= \"MINDsmall\"\n",
    "data_path = data_path_base + MIND_type + \"/\"\n",
    "history_file = data_path + \"history.tsv\"\n",
    "new_behaviors_file = data_path + \"analysts_behavior.tsv\"\n",
    "\n",
    "news_df_file = data_path + \"train/news.tsv\"\n",
    "\n",
    "# Load files\n",
    "history_df = pd.read_csv(history_file, sep=\"\\t\")\n",
    "synthetic_df = pd.read_csv(new_behaviors_file, sep=\"\\t\")\n"
   ]
  },
  {
   "cell_type": "code",
   "execution_count": 2,
   "id": "5e194543-fb44-4db3-96bc-897750468484",
   "metadata": {},
   "outputs": [],
   "source": [
    "news_df = pd.read_csv(news_df_file, sep=\"\\t\", header=None)\n",
    "news_df.columns = [\"news_id\", \"category\", \"subcategory\", \"title\", \"abstract\", \"url\", \"title_entities\", \"abstract_entities\"]\n"
   ]
  },
  {
   "cell_type": "code",
   "execution_count": null,
   "id": "74f38478-1a17-46c7-bcb5-e74c1c8c4079",
   "metadata": {},
   "outputs": [],
   "source": []
  },
  {
   "cell_type": "code",
   "execution_count": 4,
   "id": "be453a8e-74e7-40ab-90d8-ebacae4f44e6",
   "metadata": {},
   "outputs": [
    {
     "data": {
      "text/plain": [
       "Index(['uid', 'history'], dtype='object')"
      ]
     },
     "metadata": {},
     "output_type": "display_data"
    },
    {
     "data": {
      "text/plain": [
       "Index(['impression_id', 'user_id', 'time', 'history', 'impressions'], dtype='object')"
      ]
     },
     "metadata": {},
     "output_type": "display_data"
    }
   ],
   "source": [
    "display(history_df.columns)\n",
    "display(synthetic_df.columns)"
   ]
  },
  {
   "cell_type": "code",
   "execution_count": 5,
   "id": "7f6c17a3-dc03-4020-b2f8-8de02cbfa175",
   "metadata": {},
   "outputs": [
    {
     "name": "stdout",
     "output_type": "stream",
     "text": [
      "Missing users in synthetic data: 0\n"
     ]
    }
   ],
   "source": [
    "# Check which users in history.tsv appear in synthetic data\n",
    "missing_users = set(history_df[\"uid\"]) - set(synthetic_df[\"user_id\"])\n",
    "\n",
    "print(f\"Missing users in synthetic data: {len(missing_users)}\")\n",
    "if missing_users:\n",
    "    print(\"Examples:\", list(missing_users)[:10])\n"
   ]
  },
  {
   "cell_type": "code",
   "execution_count": 6,
   "id": "bdaab772-3555-457e-b303-bdacd6e5cbc1",
   "metadata": {},
   "outputs": [
    {
     "name": "stdout",
     "output_type": "stream",
     "text": [
      "Missing users in history: 0\n"
     ]
    }
   ],
   "source": [
    "# Check which users in history.tsv appear in synthetic data\n",
    "missing_users = set(synthetic_df[\"user_id\"]) - set(history_df[\"uid\"])\n",
    "\n",
    "print(f\"Missing users in history: {len(missing_users)}\")\n",
    "if missing_users:\n",
    "    print(\"Examples:\", list(missing_users)[:10])\n"
   ]
  },
  {
   "cell_type": "markdown",
   "id": "3f92a92b-123f-4e1c-849c-98d09b50f83c",
   "metadata": {},
   "source": [
    "---\n",
    "### Do history values refer to valid News IDs?"
   ]
  },
  {
   "cell_type": "code",
   "execution_count": 7,
   "id": "f5741d4c-b65d-4d82-ae88-6f291612350d",
   "metadata": {},
   "outputs": [],
   "source": [
    "valid_news_ids = set(news_df.news_id.values)\n",
    "\n",
    "# Step 1: Parse and filter non-empty lists\n",
    "parsed_lists = [ast.literal_eval(s) for s in list(history_df['history'])]\n",
    "\n",
    "\n",
    "\n",
    "# Step 2: Validate\n",
    "for i, sublist in enumerate(parsed_lists):\n",
    "    invalid_items = [item for item in sublist if item not in valid_news_ids]\n",
    "    if invalid_items:\n",
    "        print(f\"List at index {i} has invalid items: {invalid_items}\")\n"
   ]
  },
  {
   "cell_type": "markdown",
   "id": "9ab398fe-5003-472b-aa8f-371941512fb7",
   "metadata": {},
   "source": [
    "---\n",
    "\n",
    "## Now let's combine some data "
   ]
  },
  {
   "cell_type": "code",
   "execution_count": 30,
   "id": "d287c9a6-cebc-4910-8fce-69b68f30fb3a",
   "metadata": {},
   "outputs": [
    {
     "name": "stdout",
     "output_type": "stream",
     "text": [
      "\n",
      "Users with mismatches: 0\n"
     ]
    }
   ],
   "source": [
    "import pandas as pd\n",
    "from collections import defaultdict\n",
    "import ast\n",
    "# Step 1: Collect clicked news IDs per user\n",
    "clicked_map = defaultdict(set)\n",
    "\n",
    "for _, row in synthetic_df.iterrows():\n",
    "    uid = row[\"user_id\"]\n",
    "    impressions = row[\"impressions\"]\n",
    "    if pd.notna(impressions):\n",
    "        for item in impressions.strip().split():\n",
    "            if \"-\" in item:\n",
    "                news_id, label = item.split(\"-\")\n",
    "                if label == \"1\":  # clicked\n",
    "                    clicked_map[uid].add(news_id)\n",
    "\n",
    "# Step 2: Compare against history.tsv\n",
    "mismatch_report = []\n",
    "\n",
    "for _, row in history_df.iterrows():\n",
    "    uid = row[\"uid\"]\n",
    "    try:\n",
    "        history_items = ast.literal_eval(row[\"history\"]) if row[\"history\"].startswith(\"[\") else row[\"history\"].split()\n",
    "    except Exception as e:\n",
    "        print(f\"Parse error for uid {uid}: {e}\")\n",
    "        continue\n",
    "\n",
    "    user_clicked = clicked_map.get(uid, set())\n",
    "    missing = [nid for nid in history_items if nid not in user_clicked]\n",
    "\n",
    "    if missing:\n",
    "        mismatch_report.append((uid, missing))\n",
    "\n",
    "# Step 3: Report\n",
    "print(f\"\\nUsers with mismatches: {len(mismatch_report)}\")\n",
    "for uid, missing in mismatch_report[:10]:\n",
    "    print(f\"User {uid} has {len(missing)} history items not found in their clicks: {missing}\")"
   ]
  },
  {
   "cell_type": "code",
   "execution_count": 29,
   "id": "dfd2579a-5756-4954-b3a5-21f65689c00e",
   "metadata": {},
   "outputs": [
    {
     "name": "stdout",
     "output_type": "stream",
     "text": [
      "\n",
      "Users with mismatches: 0\n"
     ]
    }
   ],
   "source": []
  },
  {
   "cell_type": "code",
   "execution_count": null,
   "id": "60fd6b94-37ae-4ad8-b508-d63adb847f47",
   "metadata": {},
   "outputs": [],
   "source": []
  }
 ],
 "metadata": {
  "kernelspec": {
   "display_name": "Python (sb3)",
   "language": "python",
   "name": "sb3"
  },
  "language_info": {
   "codemirror_mode": {
    "name": "ipython",
    "version": 3
   },
   "file_extension": ".py",
   "mimetype": "text/x-python",
   "name": "python",
   "nbconvert_exporter": "python",
   "pygments_lexer": "ipython3",
   "version": "3.10.12"
  }
 },
 "nbformat": 4,
 "nbformat_minor": 5
}
