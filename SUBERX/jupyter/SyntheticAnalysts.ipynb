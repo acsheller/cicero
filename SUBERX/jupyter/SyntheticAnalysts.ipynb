{
 "cells": [
  {
   "cell_type": "markdown",
   "id": "6d8b476d-3635-4ef6-9d86-cd4d1adb585b",
   "metadata": {},
   "source": [
    "# Generate Synthetic Analysts for SUBER\n"
   ]
  },
  {
   "cell_type": "code",
   "execution_count": null,
   "id": "31e4d522-8321-4ba2-baa4-0a692187a582",
   "metadata": {},
   "outputs": [],
   "source": []
  },
  {
   "cell_type": "code",
   "execution_count": 1,
   "id": "8e70a220-e823-4a00-a6ff-d40c881f60d3",
   "metadata": {
    "scrolled": true
   },
   "outputs": [],
   "source": [
    "import os,sys\n",
    "nb_dir = os.path.split(os.getcwd())[0]\n",
    "if nb_dir not in sys.path:\n",
    "    sys.path.append(nb_dir)\n",
    "\n",
    "import re, json, random, uuid\n",
    "import asyncio\n",
    "import pandas as pd\n",
    "from tqdm import tqdm\n",
    "# Imports for Pydantic AI\n",
    "from pydantic_ai import Agent\n",
    "from pydantic import BaseModel, Field, field_validator\n",
    "from pydantic_ai.models.ollama import OllamaModel\n",
    "from typing import Dict, Optional, List, ClassVar"
   ]
  },
  {
   "cell_type": "code",
   "execution_count": 2,
   "id": "2574ac89-ddfc-42a5-8929-9a91583b7f3e",
   "metadata": {},
   "outputs": [
    {
     "name": "stderr",
     "output_type": "stream",
     "text": [
      "/app/sb3/lib/python3.10/site-packages/sentence_transformers/cross_encoder/CrossEncoder.py:11: TqdmExperimentalWarning: Using `tqdm.autonotebook.tqdm` in notebook mode. Use `tqdm.tqdm` instead to force console mode (e.g. in jupyter console)\n",
      "  from tqdm.autonotebook import tqdm, trange\n",
      "/app/sb3/lib/python3.10/site-packages/huggingface_hub/file_download.py:896: FutureWarning: `resume_download` is deprecated and will be removed in version 1.0.0. Downloads always resume when possible. If you want to force a new download, use `force_download=True`.\n",
      "  warnings.warn(\n"
     ]
    }
   ],
   "source": [
    "## Look where these are at!.\n",
    "from environment.LLM.synthetic_analyst import AnalystProfile, SimulatedAnalystGenerator"
   ]
  },
  {
   "cell_type": "code",
   "execution_count": 3,
   "id": "e406c39c-f7b7-4a7e-866e-7164b68d9ad9",
   "metadata": {},
   "outputs": [],
   "source": [
    "# /app/datasets when running in container\n",
    "data_path_base = \"/app/datasets/\"\n",
    "\n",
    "#model_name = \"mistral:7b\"  # Replace with your preferred model\n",
    "model_name = \"cogito:8b\"   # Replace with your preferred model\n",
    "\n",
    "ollama_url = \"http://ollama:11434/v1/\"  # Ollama's default base URL\n"
   ]
  },
  {
   "cell_type": "code",
   "execution_count": null,
   "id": "ecab6990-0229-403e-b78f-a782baaf7542",
   "metadata": {},
   "outputs": [
    {
     "name": "stdout",
     "output_type": "stream",
     "text": [
      "10 Analysts Profiles Exist\n",
      "Connecting to Ollama at http://ollama:11434/v1/ with model cogito:8b\n"
     ]
    },
    {
     "name": "stderr",
     "output_type": "stream",
     "text": [
      "Generating Synthetic Analysts:  50% 5/10 [00:17<00:16,  3.32s/it]"
     ]
    }
   ],
   "source": [
    "if __name__ == '__main__':\n",
    "    analyst_file = data_path_base + \"synthetic_analysts3.csv\"\n",
    "    analyst_generator = SimulatedAnalystGenerator(analysts_file=analyst_file,num_profiles=10,ollama_url=ollama_url,model_name=model_name)\n",
    "    try:\n",
    "        reslt = await analyst_generator.generate_profiles(num_profiles=10)\n",
    "\n",
    "    except Exception as e:\n",
    "        print(f\"some sort of exeception {e}\")"
   ]
  },
  {
   "cell_type": "code",
   "execution_count": null,
   "id": "1e0e61e2-ca28-4279-a808-c96c799ef9af",
   "metadata": {},
   "outputs": [],
   "source": [
    "import inspect"
   ]
  },
  {
   "cell_type": "code",
   "execution_count": null,
   "id": "68e79969-4fa2-468d-8719-8b2c22a2dcf2",
   "metadata": {},
   "outputs": [],
   "source": [
    "print(inspect.getsource(AnalystProfile))"
   ]
  },
  {
   "cell_type": "code",
   "execution_count": null,
   "id": "a212ce5d-3d38-4bd1-94e9-0ebe6869529f",
   "metadata": {},
   "outputs": [],
   "source": []
  }
 ],
 "metadata": {
  "kernelspec": {
   "display_name": "Python (sb3)",
   "language": "python",
   "name": "sb3"
  },
  "language_info": {
   "codemirror_mode": {
    "name": "ipython",
    "version": 3
   },
   "file_extension": ".py",
   "mimetype": "text/x-python",
   "name": "python",
   "nbconvert_exporter": "python",
   "pygments_lexer": "ipython3",
   "version": "3.10.12"
  }
 },
 "nbformat": 4,
 "nbformat_minor": 5
}
