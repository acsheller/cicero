{
 "cells": [
  {
   "cell_type": "markdown",
   "id": "6d8b476d-3635-4ef6-9d86-cd4d1adb585b",
   "metadata": {},
   "source": [
    "# Generate Synthetic Analysts for SUBER\n"
   ]
  },
  {
   "cell_type": "code",
   "execution_count": 3,
   "id": "8e70a220-e823-4a00-a6ff-d40c881f60d3",
   "metadata": {},
   "outputs": [],
   "source": [
    "import os,sys\n",
    "nb_dir = os.path.split(os.getcwd())[0]\n",
    "if nb_dir not in sys.path:\n",
    "    sys.path.append(nb_dir)\n",
    "\n",
    "import re, json, random, uuid\n",
    "import asyncio\n",
    "import pandas as pd\n",
    "from tqdm import tqdm\n",
    "# Imports for Pydantic AI\n",
    "from pydantic_ai import Agent\n",
    "from pydantic import BaseModel, Field, field_validator\n",
    "from pydantic_ai.models.ollama import OllamaModel\n",
    "from typing import Dict, Optional, List, ClassVar"
   ]
  },
  {
   "cell_type": "code",
   "execution_count": 4,
   "id": "2574ac89-ddfc-42a5-8929-9a91583b7f3e",
   "metadata": {},
   "outputs": [
    {
     "name": "stderr",
     "output_type": "stream",
     "text": [
      "/app/sb3/lib/python3.10/site-packages/sentence_transformers/cross_encoder/CrossEncoder.py:11: TqdmExperimentalWarning: Using `tqdm.autonotebook.tqdm` in notebook mode. Use `tqdm.tqdm` instead to force console mode (e.g. in jupyter console)\n",
      "  from tqdm.autonotebook import tqdm, trange\n",
      "/app/sb3/lib/python3.10/site-packages/huggingface_hub/file_download.py:795: FutureWarning: `resume_download` is deprecated and will be removed in version 1.0.0. Downloads always resume when possible. If you want to force a new download, use `force_download=True`.\n",
      "  warnings.warn(\n"
     ]
    }
   ],
   "source": [
    "from environment.LLM.synthetic_analyst import AnalystProfile, SimulatedAnalystGenerator"
   ]
  },
  {
   "cell_type": "code",
   "execution_count": 3,
   "id": "e406c39c-f7b7-4a7e-866e-7164b68d9ad9",
   "metadata": {},
   "outputs": [],
   "source": [
    "# /app/datasets when running in container\n",
    "data_path_base = \"/app/datasets/\"\n",
    "\n",
    "#model_name = \"mistral:7b\"  # Replace with your preferred model\n",
    "model_name = \"llama3.2\"  # Replace with your preferred model\n",
    "\n",
    "ollama_url = \"http://ollama:11434/v1/\"  # Ollama's default base URL\n"
   ]
  },
  {
   "cell_type": "code",
   "execution_count": null,
   "id": "ecab6990-0229-403e-b78f-a782baaf7542",
   "metadata": {},
   "outputs": [
    {
     "name": "stdout",
     "output_type": "stream",
     "text": [
      "0 Analysts Profiles Exist\n"
     ]
    },
    {
     "name": "stderr",
     "output_type": "stream",
     "text": [
      "Generating Synthetic Analysts:   0% 0/10 [00:00<?, ?it/s]"
     ]
    }
   ],
   "source": [
    "if __name__ == '__main__':\n",
    "    analyst_file = data_path_base + \"synthetic_analysts2.csv\"\n",
    "    analyst_generator = SimulatedAnalystGenerator(analysts_file=analyst_file,num_profiles=1000)\n",
    "    try:\n",
    "        reslt = await analyst_generator.generate_profiles(num_profiles=10)\n",
    "\n",
    "    except Exception as e:\n",
    "        print(f\"some sort of exeception {e}\")"
   ]
  },
  {
   "cell_type": "code",
   "execution_count": 5,
   "id": "1e0e61e2-ca28-4279-a808-c96c799ef9af",
   "metadata": {},
   "outputs": [],
   "source": [
    "import inspect"
   ]
  },
  {
   "cell_type": "code",
   "execution_count": 7,
   "id": "68e79969-4fa2-468d-8719-8b2c22a2dcf2",
   "metadata": {},
   "outputs": [
    {
     "name": "stdout",
     "output_type": "stream",
     "text": [
      "class AnalystProfile(BaseModel):\n",
      "    \"\"\"\n",
      "    This is the structure the LLM will return.\n",
      "    \"\"\"\n",
      "    name: str = Field(description = 'A single unique name consisting of a first and last name.')\n",
      "    age: int = Field(description = 'Age of the analyst', ge=25, le = 65)\n",
      "    gender: str = Field(description= 'Gender: Male, Female, or Non-binary. With a distribution identicial to the real world population')\n",
      "    primary_news_interest: str = Field(description= 'Primary catagory of news Interest')\n",
      "    secondary_news_interest: str = Field(description= 'Secondary catagory of news Interest')\n",
      "    job: str = Field(description= 'Job title  e.g. Technology Analyst')\n",
      "    description: str = Field(description='The background of the analyst in their field of expertise')\n",
      "\n",
      "\n",
      "    # Validate name\n",
      "    @field_validator(\"name\")\n",
      "    @classmethod\n",
      "    def validate_name(cls, name):\n",
      "        # Validate the name format (first and last name, optionally a middle name)\n",
      "        if not re.fullmatch(r\"[A-Za-z.-]+( [A-Za-z.-]+){1,2}\", name):\n",
      "            raise ValueError(\"Name must have at least a first and last name, optionally a middle name.\")\n",
      "\n",
      "        # Check for duplicates in the existing names set\n",
      "        if name.strip() in cls.used_names:\n",
      "            raise ValueError(f\"Name '{name}' is already used.\")\n",
      "\n",
      "        return name.strip()  # Normalize the name (strip whitespace)\n",
      "\n",
      "\n",
      "    # Validate age\n",
      "    @field_validator(\"age\")\n",
      "    @classmethod\n",
      "    def validate_age(cls, age):\n",
      "        if not (25 <= age <= 65):\n",
      "            raise ValueError(\"Age must be between 25 and 65.\")\n",
      "        return age\n",
      "\n",
      "    # Validate gender\n",
      "    @field_validator(\"gender\")\n",
      "    @classmethod\n",
      "    def validate_gender(cls, gender):\n",
      "        gender = gender.upper()\n",
      "        if gender == 'MALE':\n",
      "            gender = 'M'\n",
      "        elif gender == \"FEMALE\":\n",
      "            gender = 'F'\n",
      "        if gender not in {\"M\", \"F\"}:\n",
      "            raise ValueError(\"Gender must be 'M' or 'F'.\")\n",
      "        return gender\n",
      "\n",
      "\n",
      "    @classmethod\n",
      "    def set_used_names(cls, names: set):\n",
      "        \"\"\"Set the existing names from a set.\"\"\"\n",
      "        cls.used_names = names\n",
      "\n",
      "\n",
      "    def __str__(self):\n",
      "        return (\n",
      "            f\"AnalystProfile:\\n\"\n",
      "            f\"  Name: {self.name}\\n\"\n",
      "            f\"  Age: {self.age}\\n\"\n",
      "            f\"  Gender: {self.gender}\\n\"\n",
      "            f\"  Primary News Interest: {self.primary_news_interest}\\n\"\n",
      "            f\"  Secondary News Interest: {self.secondary_news_interest}\\n\"\n",
      "            f\"  Job: {self.job}\\n\"\n",
      "            f\"  Description: {self.description}\\n\"\n",
      "        )\n",
      "    \n",
      "    def __repr__(self):\n",
      "        return self.__str__()\n",
      "\n"
     ]
    }
   ],
   "source": [
    "print(inspect.getsource(AnalystProfile))"
   ]
  }
 ],
 "metadata": {
  "kernelspec": {
   "display_name": "Python (sb3)",
   "language": "python",
   "name": "sb3"
  },
  "language_info": {
   "codemirror_mode": {
    "name": "ipython",
    "version": 3
   },
   "file_extension": ".py",
   "mimetype": "text/x-python",
   "name": "python",
   "nbconvert_exporter": "python",
   "pygments_lexer": "ipython3",
   "version": "3.10.12"
  }
 },
 "nbformat": 4,
 "nbformat_minor": 5
}
