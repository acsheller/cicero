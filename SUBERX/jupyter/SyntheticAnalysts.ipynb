{
 "cells": [
  {
   "cell_type": "markdown",
   "id": "6d8b476d-3635-4ef6-9d86-cd4d1adb585b",
   "metadata": {},
   "source": [
    "# Generate Synthetic Analysts for SUBER\n"
   ]
  },
  {
   "cell_type": "code",
   "execution_count": null,
   "id": "8ac23c57-eb20-4a5a-8e7b-42312fc3b62b",
   "metadata": {},
   "outputs": [],
   "source": [
    "pai.models."
   ]
  },
  {
   "cell_type": "code",
   "execution_count": 1,
   "id": "a39a9c30-8867-47d3-9801-a63470f06c06",
   "metadata": {},
   "outputs": [
    {
     "ename": "ModuleNotFoundError",
     "evalue": "No module named 'pydantic_ai'",
     "output_type": "error",
     "traceback": [
      "\u001b[0;31m---------------------------------------------------------------------------\u001b[0m",
      "\u001b[0;31mModuleNotFoundError\u001b[0m                       Traceback (most recent call last)",
      "Cell \u001b[0;32mIn[1], line 1\u001b[0m\n\u001b[0;32m----> 1\u001b[0m \u001b[38;5;28;01mimport\u001b[39;00m\u001b[38;5;250m \u001b[39m\u001b[38;5;21;01mpydantic_ai\u001b[39;00m\u001b[38;5;250m \u001b[39m\u001b[38;5;28;01mas\u001b[39;00m\u001b[38;5;250m \u001b[39m\u001b[38;5;21;01mpai\u001b[39;00m\n",
      "\u001b[0;31mModuleNotFoundError\u001b[0m: No module named 'pydantic_ai'"
     ]
    }
   ],
   "source": [
    "import pydantic_ai as pai\n"
   ]
  },
  {
   "cell_type": "code",
   "execution_count": null,
   "id": "8e70a220-e823-4a00-a6ff-d40c881f60d3",
   "metadata": {
    "scrolled": true
   },
   "outputs": [],
   "source": [
    "import os,sys\n",
    "nb_dir = os.path.split(os.getcwd())[0]\n",
    "if nb_dir not in sys.path:\n",
    "    sys.path.append(nb_dir)\n",
    "\n",
    "import re, json, random, uuid\n",
    "import asyncio\n",
    "import pandas as pd\n",
    "from tqdm import tqdm\n",
    "# Imports for Pydantic AI\n",
    "from pydantic_ai import Agent\n",
    "from pydantic import BaseModel, Field, field_validator\n",
    "from pydantic_ai.models.ollama import OllamaModel\n",
    "from typing import Dict, Optional, List, ClassVar"
   ]
  },
  {
   "cell_type": "code",
   "execution_count": null,
   "id": "2574ac89-ddfc-42a5-8929-9a91583b7f3e",
   "metadata": {},
   "outputs": [],
   "source": [
    "## Look where these are at!.\n",
    "from environment.LLM.synthetic_analyst import AnalystProfile, SimulatedAnalystGenerator"
   ]
  },
  {
   "cell_type": "code",
   "execution_count": null,
   "id": "e406c39c-f7b7-4a7e-866e-7164b68d9ad9",
   "metadata": {},
   "outputs": [],
   "source": [
    "# /app/datasets when running in container\n",
    "data_path_base = \"/app/datasets/\"\n",
    "\n",
    "#model_name = \"mistral:7b\"  # Replace with your preferred model\n",
    "model_name = \"llama3.2\"  # Replace with your preferred model\n",
    "\n",
    "ollama_url = \"http://ollama:11434/v1/\"  # Ollama's default base URL\n"
   ]
  },
  {
   "cell_type": "code",
   "execution_count": null,
   "id": "ecab6990-0229-403e-b78f-a782baaf7542",
   "metadata": {},
   "outputs": [],
   "source": [
    "if __name__ == '__main__':\n",
    "    analyst_file = data_path_base + \"synthetic_analysts2.csv\"\n",
    "    analyst_generator = SimulatedAnalystGenerator(analysts_file=analyst_file,num_profiles=1000)\n",
    "    try:\n",
    "        reslt = await analyst_generator.generate_profiles(num_profiles=10)\n",
    "\n",
    "    except Exception as e:\n",
    "        print(f\"some sort of exeception {e}\")"
   ]
  },
  {
   "cell_type": "code",
   "execution_count": null,
   "id": "1e0e61e2-ca28-4279-a808-c96c799ef9af",
   "metadata": {},
   "outputs": [],
   "source": [
    "import inspect"
   ]
  },
  {
   "cell_type": "code",
   "execution_count": null,
   "id": "68e79969-4fa2-468d-8719-8b2c22a2dcf2",
   "metadata": {},
   "outputs": [],
   "source": [
    "print(inspect.getsource(AnalystProfile))"
   ]
  }
 ],
 "metadata": {
  "kernelspec": {
   "display_name": "Python (sb3)",
   "language": "python",
   "name": "sb3"
  },
  "language_info": {
   "codemirror_mode": {
    "name": "ipython",
    "version": 3
   },
   "file_extension": ".py",
   "mimetype": "text/x-python",
   "name": "python",
   "nbconvert_exporter": "python",
   "pygments_lexer": "ipython3",
   "version": "3.10.12"
  }
 },
 "nbformat": 4,
 "nbformat_minor": 5
}
