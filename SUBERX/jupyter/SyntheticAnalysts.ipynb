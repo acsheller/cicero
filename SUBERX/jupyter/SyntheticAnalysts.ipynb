{
 "cells": [
  {
   "cell_type": "markdown",
   "id": "6d8b476d-3635-4ef6-9d86-cd4d1adb585b",
   "metadata": {},
   "source": [
    "# Generate Synthetic Analysts for SUBER\n"
   ]
  },
  {
   "cell_type": "code",
   "execution_count": 2,
   "id": "a39a9c30-8867-47d3-9801-a63470f06c06",
   "metadata": {},
   "outputs": [],
   "source": [
    "import pydantic_ai"
   ]
  },
  {
   "cell_type": "code",
   "execution_count": 1,
   "id": "8e70a220-e823-4a00-a6ff-d40c881f60d3",
   "metadata": {
    "scrolled": true
   },
   "outputs": [
    {
     "ename": "ModuleNotFoundError",
     "evalue": "No module named 'pydantic_ai.models.ollama'",
     "output_type": "error",
     "traceback": [
      "\u001b[0;31m---------------------------------------------------------------------------\u001b[0m",
      "\u001b[0;31mModuleNotFoundError\u001b[0m                       Traceback (most recent call last)",
      "Cell \u001b[0;32mIn[1], line 13\u001b[0m\n\u001b[1;32m     11\u001b[0m \u001b[38;5;28;01mfrom\u001b[39;00m\u001b[38;5;250m \u001b[39m\u001b[38;5;21;01mpydantic_ai\u001b[39;00m\u001b[38;5;250m \u001b[39m\u001b[38;5;28;01mimport\u001b[39;00m Agent\n\u001b[1;32m     12\u001b[0m \u001b[38;5;28;01mfrom\u001b[39;00m\u001b[38;5;250m \u001b[39m\u001b[38;5;21;01mpydantic\u001b[39;00m\u001b[38;5;250m \u001b[39m\u001b[38;5;28;01mimport\u001b[39;00m BaseModel, Field, field_validator\n\u001b[0;32m---> 13\u001b[0m \u001b[38;5;28;01mfrom\u001b[39;00m\u001b[38;5;250m \u001b[39m\u001b[38;5;21;01mpydantic_ai\u001b[39;00m\u001b[38;5;21;01m.\u001b[39;00m\u001b[38;5;21;01mmodels\u001b[39;00m\u001b[38;5;21;01m.\u001b[39;00m\u001b[38;5;21;01mollama\u001b[39;00m\u001b[38;5;250m \u001b[39m\u001b[38;5;28;01mimport\u001b[39;00m OllamaModel\n\u001b[1;32m     14\u001b[0m \u001b[38;5;28;01mfrom\u001b[39;00m\u001b[38;5;250m \u001b[39m\u001b[38;5;21;01mtyping\u001b[39;00m\u001b[38;5;250m \u001b[39m\u001b[38;5;28;01mimport\u001b[39;00m Dict, Optional, List, ClassVar\n",
      "\u001b[0;31mModuleNotFoundError\u001b[0m: No module named 'pydantic_ai.models.ollama'"
     ]
    }
   ],
   "source": [
    "import os,sys\n",
    "nb_dir = os.path.split(os.getcwd())[0]\n",
    "if nb_dir not in sys.path:\n",
    "    sys.path.append(nb_dir)\n",
    "\n",
    "import re, json, random, uuid\n",
    "import asyncio\n",
    "import pandas as pd\n",
    "from tqdm import tqdm\n",
    "# Imports for Pydantic AI\n",
    "from pydantic_ai import Agent\n",
    "from pydantic import BaseModel, Field, field_validator\n",
    "from pydantic_ai.models.ollama import OllamaModel\n",
    "from typing import Dict, Optional, List, ClassVar"
   ]
  },
  {
   "cell_type": "code",
   "execution_count": 3,
   "id": "2574ac89-ddfc-42a5-8929-9a91583b7f3e",
   "metadata": {},
   "outputs": [
    {
     "name": "stderr",
     "output_type": "stream",
     "text": [
      "/app/sb3/lib/python3.10/site-packages/sentence_transformers/cross_encoder/CrossEncoder.py:11: TqdmExperimentalWarning: Using `tqdm.autonotebook.tqdm` in notebook mode. Use `tqdm.tqdm` instead to force console mode (e.g. in jupyter console)\n",
      "  from tqdm.autonotebook import tqdm, trange\n"
     ]
    },
    {
     "data": {
      "application/vnd.jupyter.widget-view+json": {
       "model_id": "9c6d2e1321f44233ab101632d2900023",
       "version_major": 2,
       "version_minor": 0
      },
      "text/plain": [
       "modules.json:   0%|          | 0.00/461 [00:00<?, ?B/s]"
      ]
     },
     "metadata": {},
     "output_type": "display_data"
    },
    {
     "data": {
      "application/vnd.jupyter.widget-view+json": {
       "model_id": "4d55a822e8c34bfd9e6161b356478c30",
       "version_major": 2,
       "version_minor": 0
      },
      "text/plain": [
       "config_sentence_transformers.json:   0%|          | 0.00/122 [00:00<?, ?B/s]"
      ]
     },
     "metadata": {},
     "output_type": "display_data"
    },
    {
     "data": {
      "application/vnd.jupyter.widget-view+json": {
       "model_id": "de956b6a03f248f6a921333200ee0e50",
       "version_major": 2,
       "version_minor": 0
      },
      "text/plain": [
       "README.md:   0%|          | 0.00/1.78k [00:00<?, ?B/s]"
      ]
     },
     "metadata": {},
     "output_type": "display_data"
    },
    {
     "data": {
      "application/vnd.jupyter.widget-view+json": {
       "model_id": "d6f74b0bc8874f149958735268ab1c5f",
       "version_major": 2,
       "version_minor": 0
      },
      "text/plain": [
       "sentence_bert_config.json:   0%|          | 0.00/53.0 [00:00<?, ?B/s]"
      ]
     },
     "metadata": {},
     "output_type": "display_data"
    },
    {
     "name": "stderr",
     "output_type": "stream",
     "text": [
      "/app/sb3/lib/python3.10/site-packages/huggingface_hub/file_download.py:896: FutureWarning: `resume_download` is deprecated and will be removed in version 1.0.0. Downloads always resume when possible. If you want to force a new download, use `force_download=True`.\n",
      "  warnings.warn(\n"
     ]
    },
    {
     "data": {
      "application/vnd.jupyter.widget-view+json": {
       "model_id": "26d324925ffb43208ac0cc8fc3dd651d",
       "version_major": 2,
       "version_minor": 0
      },
      "text/plain": [
       "config.json:   0%|          | 0.00/1.39k [00:00<?, ?B/s]"
      ]
     },
     "metadata": {},
     "output_type": "display_data"
    },
    {
     "name": "stderr",
     "output_type": "stream",
     "text": [
      "Xet Storage is enabled for this repo, but the 'hf_xet' package is not installed. Falling back to regular HTTP download. For better performance, install the package with: `pip install huggingface_hub[hf_xet]` or `pip install hf_xet`\n"
     ]
    },
    {
     "data": {
      "application/vnd.jupyter.widget-view+json": {
       "model_id": "f692277fec0947339c7a4a1d16e2054c",
       "version_major": 2,
       "version_minor": 0
      },
      "text/plain": [
       "model.safetensors:   0%|          | 0.00/219M [00:00<?, ?B/s]"
      ]
     },
     "metadata": {},
     "output_type": "display_data"
    },
    {
     "data": {
      "application/vnd.jupyter.widget-view+json": {
       "model_id": "be3d7d30f1f04236bf911ae46d0dc977",
       "version_major": 2,
       "version_minor": 0
      },
      "text/plain": [
       "tokenizer_config.json:   0%|          | 0.00/1.92k [00:00<?, ?B/s]"
      ]
     },
     "metadata": {},
     "output_type": "display_data"
    },
    {
     "name": "stderr",
     "output_type": "stream",
     "text": [
      "Xet Storage is enabled for this repo, but the 'hf_xet' package is not installed. Falling back to regular HTTP download. For better performance, install the package with: `pip install huggingface_hub[hf_xet]` or `pip install hf_xet`\n"
     ]
    },
    {
     "data": {
      "application/vnd.jupyter.widget-view+json": {
       "model_id": "94c9de41316b48e2a3fac0f084476b50",
       "version_major": 2,
       "version_minor": 0
      },
      "text/plain": [
       "spiece.model:   0%|          | 0.00/792k [00:00<?, ?B/s]"
      ]
     },
     "metadata": {},
     "output_type": "display_data"
    },
    {
     "data": {
      "application/vnd.jupyter.widget-view+json": {
       "model_id": "383f8fce1f42465ca292ce9d00c565eb",
       "version_major": 2,
       "version_minor": 0
      },
      "text/plain": [
       "tokenizer.json:   0%|          | 0.00/1.39M [00:00<?, ?B/s]"
      ]
     },
     "metadata": {},
     "output_type": "display_data"
    },
    {
     "data": {
      "application/vnd.jupyter.widget-view+json": {
       "model_id": "9b2646d64e01453cb5dcb1bc008f76ae",
       "version_major": 2,
       "version_minor": 0
      },
      "text/plain": [
       "special_tokens_map.json:   0%|          | 0.00/1.79k [00:00<?, ?B/s]"
      ]
     },
     "metadata": {},
     "output_type": "display_data"
    },
    {
     "data": {
      "application/vnd.jupyter.widget-view+json": {
       "model_id": "7947c45354124d26bb1853fa98b18377",
       "version_major": 2,
       "version_minor": 0
      },
      "text/plain": [
       "config.json:   0%|          | 0.00/190 [00:00<?, ?B/s]"
      ]
     },
     "metadata": {},
     "output_type": "display_data"
    },
    {
     "data": {
      "application/vnd.jupyter.widget-view+json": {
       "model_id": "4cd494fd814b491d9d4ba50abd139f54",
       "version_major": 2,
       "version_minor": 0
      },
      "text/plain": [
       "config.json:   0%|          | 0.00/115 [00:00<?, ?B/s]"
      ]
     },
     "metadata": {},
     "output_type": "display_data"
    },
    {
     "name": "stderr",
     "output_type": "stream",
     "text": [
      "Xet Storage is enabled for this repo, but the 'hf_xet' package is not installed. Falling back to regular HTTP download. For better performance, install the package with: `pip install huggingface_hub[hf_xet]` or `pip install hf_xet`\n",
      "Xet Storage is enabled for this repo, but the 'hf_xet' package is not installed. Falling back to regular HTTP download. For better performance, install the package with: `pip install huggingface_hub[hf_xet]` or `pip install hf_xet`\n",
      "Xet Storage is enabled for this repo, but the 'hf_xet' package is not installed. Falling back to regular HTTP download. For better performance, install the package with: `pip install huggingface_hub[hf_xet]` or `pip install hf_xet`\n"
     ]
    },
    {
     "data": {
      "application/vnd.jupyter.widget-view+json": {
       "model_id": "15a4fa3c9fe54378b306710b974f8385",
       "version_major": 2,
       "version_minor": 0
      },
      "text/plain": [
       "rust_model.ot:   0%|          | 0.00/2.36M [00:00<?, ?B/s]"
      ]
     },
     "metadata": {},
     "output_type": "display_data"
    },
    {
     "data": {
      "application/vnd.jupyter.widget-view+json": {
       "model_id": "2fb9d158389f4ce7927644ce913c7de5",
       "version_major": 2,
       "version_minor": 0
      },
      "text/plain": [
       "pytorch_model.bin:   0%|          | 0.00/2.36M [00:00<?, ?B/s]"
      ]
     },
     "metadata": {},
     "output_type": "display_data"
    },
    {
     "data": {
      "application/vnd.jupyter.widget-view+json": {
       "model_id": "f09ad3fa80c94f68887ca0eca2d3b1f0",
       "version_major": 2,
       "version_minor": 0
      },
      "text/plain": [
       "model.safetensors:   0%|          | 0.00/2.36M [00:00<?, ?B/s]"
      ]
     },
     "metadata": {},
     "output_type": "display_data"
    },
    {
     "ename": "ModuleNotFoundError",
     "evalue": "No module named 'pydantic_ai.models.ollama'",
     "output_type": "error",
     "traceback": [
      "\u001b[0;31m---------------------------------------------------------------------------\u001b[0m",
      "\u001b[0;31mModuleNotFoundError\u001b[0m                       Traceback (most recent call last)",
      "Cell \u001b[0;32mIn[3], line 2\u001b[0m\n\u001b[1;32m      1\u001b[0m \u001b[38;5;66;03m## Look where these are at!.\u001b[39;00m\n\u001b[0;32m----> 2\u001b[0m \u001b[38;5;28;01mfrom\u001b[39;00m\u001b[38;5;250m \u001b[39m\u001b[38;5;21;01menvironment\u001b[39;00m\u001b[38;5;21;01m.\u001b[39;00m\u001b[38;5;21;01mLLM\u001b[39;00m\u001b[38;5;21;01m.\u001b[39;00m\u001b[38;5;21;01msynthetic_analyst\u001b[39;00m\u001b[38;5;250m \u001b[39m\u001b[38;5;28;01mimport\u001b[39;00m AnalystProfile, SimulatedAnalystGenerator\n",
      "File \u001b[0;32m/app/SUBERX/environment/LLM/synthetic_analyst.py:13\u001b[0m\n\u001b[1;32m     11\u001b[0m \u001b[38;5;28;01mfrom\u001b[39;00m\u001b[38;5;250m \u001b[39m\u001b[38;5;21;01mpydantic_ai\u001b[39;00m\u001b[38;5;250m \u001b[39m\u001b[38;5;28;01mimport\u001b[39;00m Agent\n\u001b[1;32m     12\u001b[0m \u001b[38;5;28;01mfrom\u001b[39;00m\u001b[38;5;250m \u001b[39m\u001b[38;5;21;01mpydantic\u001b[39;00m\u001b[38;5;250m \u001b[39m\u001b[38;5;28;01mimport\u001b[39;00m BaseModel, Field, field_validator\n\u001b[0;32m---> 13\u001b[0m \u001b[38;5;28;01mfrom\u001b[39;00m\u001b[38;5;250m \u001b[39m\u001b[38;5;21;01mpydantic_ai\u001b[39;00m\u001b[38;5;21;01m.\u001b[39;00m\u001b[38;5;21;01mmodels\u001b[39;00m\u001b[38;5;21;01m.\u001b[39;00m\u001b[38;5;21;01mollama\u001b[39;00m\u001b[38;5;250m \u001b[39m\u001b[38;5;28;01mimport\u001b[39;00m OllamaModel\n\u001b[1;32m     14\u001b[0m \u001b[38;5;28;01mfrom\u001b[39;00m\u001b[38;5;250m \u001b[39m\u001b[38;5;21;01mtyping\u001b[39;00m\u001b[38;5;250m \u001b[39m\u001b[38;5;28;01mimport\u001b[39;00m Dict, Optional, List, ClassVar\n\u001b[1;32m     17\u001b[0m \u001b[38;5;66;03m# This should be mounted into the contaainer when it runs\u001b[39;00m\n\u001b[1;32m     18\u001b[0m \u001b[38;5;66;03m# /app/datasets when running in container\u001b[39;00m\n",
      "\u001b[0;31mModuleNotFoundError\u001b[0m: No module named 'pydantic_ai.models.ollama'"
     ]
    }
   ],
   "source": [
    "## Look where these are at!.\n",
    "from environment.LLM.synthetic_analyst import AnalystProfile, SimulatedAnalystGenerator"
   ]
  },
  {
   "cell_type": "code",
   "execution_count": 3,
   "id": "e406c39c-f7b7-4a7e-866e-7164b68d9ad9",
   "metadata": {},
   "outputs": [],
   "source": [
    "# /app/datasets when running in container\n",
    "data_path_base = \"/app/datasets/\"\n",
    "\n",
    "#model_name = \"mistral:7b\"  # Replace with your preferred model\n",
    "model_name = \"llama3.2\"  # Replace with your preferred model\n",
    "\n",
    "ollama_url = \"http://ollama:11434/v1/\"  # Ollama's default base URL\n"
   ]
  },
  {
   "cell_type": "code",
   "execution_count": null,
   "id": "ecab6990-0229-403e-b78f-a782baaf7542",
   "metadata": {},
   "outputs": [
    {
     "name": "stdout",
     "output_type": "stream",
     "text": [
      "0 Analysts Profiles Exist\n"
     ]
    },
    {
     "name": "stderr",
     "output_type": "stream",
     "text": [
      "Generating Synthetic Analysts:   0% 0/10 [00:00<?, ?it/s]"
     ]
    }
   ],
   "source": [
    "if __name__ == '__main__':\n",
    "    analyst_file = data_path_base + \"synthetic_analysts2.csv\"\n",
    "    analyst_generator = SimulatedAnalystGenerator(analysts_file=analyst_file,num_profiles=1000)\n",
    "    try:\n",
    "        reslt = await analyst_generator.generate_profiles(num_profiles=10)\n",
    "\n",
    "    except Exception as e:\n",
    "        print(f\"some sort of exeception {e}\")"
   ]
  },
  {
   "cell_type": "code",
   "execution_count": 5,
   "id": "1e0e61e2-ca28-4279-a808-c96c799ef9af",
   "metadata": {},
   "outputs": [],
   "source": [
    "import inspect"
   ]
  },
  {
   "cell_type": "code",
   "execution_count": 7,
   "id": "68e79969-4fa2-468d-8719-8b2c22a2dcf2",
   "metadata": {},
   "outputs": [
    {
     "name": "stdout",
     "output_type": "stream",
     "text": [
      "class AnalystProfile(BaseModel):\n",
      "    \"\"\"\n",
      "    This is the structure the LLM will return.\n",
      "    \"\"\"\n",
      "    name: str = Field(description = 'A single unique name consisting of a first and last name.')\n",
      "    age: int = Field(description = 'Age of the analyst', ge=25, le = 65)\n",
      "    gender: str = Field(description= 'Gender: Male, Female, or Non-binary. With a distribution identicial to the real world population')\n",
      "    primary_news_interest: str = Field(description= 'Primary catagory of news Interest')\n",
      "    secondary_news_interest: str = Field(description= 'Secondary catagory of news Interest')\n",
      "    job: str = Field(description= 'Job title  e.g. Technology Analyst')\n",
      "    description: str = Field(description='The background of the analyst in their field of expertise')\n",
      "\n",
      "\n",
      "    # Validate name\n",
      "    @field_validator(\"name\")\n",
      "    @classmethod\n",
      "    def validate_name(cls, name):\n",
      "        # Validate the name format (first and last name, optionally a middle name)\n",
      "        if not re.fullmatch(r\"[A-Za-z.-]+( [A-Za-z.-]+){1,2}\", name):\n",
      "            raise ValueError(\"Name must have at least a first and last name, optionally a middle name.\")\n",
      "\n",
      "        # Check for duplicates in the existing names set\n",
      "        if name.strip() in cls.used_names:\n",
      "            raise ValueError(f\"Name '{name}' is already used.\")\n",
      "\n",
      "        return name.strip()  # Normalize the name (strip whitespace)\n",
      "\n",
      "\n",
      "    # Validate age\n",
      "    @field_validator(\"age\")\n",
      "    @classmethod\n",
      "    def validate_age(cls, age):\n",
      "        if not (25 <= age <= 65):\n",
      "            raise ValueError(\"Age must be between 25 and 65.\")\n",
      "        return age\n",
      "\n",
      "    # Validate gender\n",
      "    @field_validator(\"gender\")\n",
      "    @classmethod\n",
      "    def validate_gender(cls, gender):\n",
      "        gender = gender.upper()\n",
      "        if gender == 'MALE':\n",
      "            gender = 'M'\n",
      "        elif gender == \"FEMALE\":\n",
      "            gender = 'F'\n",
      "        if gender not in {\"M\", \"F\"}:\n",
      "            raise ValueError(\"Gender must be 'M' or 'F'.\")\n",
      "        return gender\n",
      "\n",
      "\n",
      "    @classmethod\n",
      "    def set_used_names(cls, names: set):\n",
      "        \"\"\"Set the existing names from a set.\"\"\"\n",
      "        cls.used_names = names\n",
      "\n",
      "\n",
      "    def __str__(self):\n",
      "        return (\n",
      "            f\"AnalystProfile:\\n\"\n",
      "            f\"  Name: {self.name}\\n\"\n",
      "            f\"  Age: {self.age}\\n\"\n",
      "            f\"  Gender: {self.gender}\\n\"\n",
      "            f\"  Primary News Interest: {self.primary_news_interest}\\n\"\n",
      "            f\"  Secondary News Interest: {self.secondary_news_interest}\\n\"\n",
      "            f\"  Job: {self.job}\\n\"\n",
      "            f\"  Description: {self.description}\\n\"\n",
      "        )\n",
      "    \n",
      "    def __repr__(self):\n",
      "        return self.__str__()\n",
      "\n"
     ]
    }
   ],
   "source": [
    "print(inspect.getsource(AnalystProfile))"
   ]
  }
 ],
 "metadata": {
  "kernelspec": {
   "display_name": "Python (sb3)",
   "language": "python",
   "name": "sb3"
  },
  "language_info": {
   "codemirror_mode": {
    "name": "ipython",
    "version": 3
   },
   "file_extension": ".py",
   "mimetype": "text/x-python",
   "name": "python",
   "nbconvert_exporter": "python",
   "pygments_lexer": "ipython3",
   "version": "3.10.12"
  }
 },
 "nbformat": 4,
 "nbformat_minor": 5
}
