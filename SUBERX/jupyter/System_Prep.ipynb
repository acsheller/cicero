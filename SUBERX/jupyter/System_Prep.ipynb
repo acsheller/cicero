{
 "cells": [
  {
   "cell_type": "markdown",
   "id": "f3f90f37-d975-49cc-9ff8-e118b25232ae",
   "metadata": {},
   "source": [
    "# System Preparation \n",
    "\n",
    "This notebook serves as notes for reference to getting setup to develop with SUBER.\n",
    "\n",
    "- [GPU Preparation](#gpu_prep)\n",
    "- [PyTorch Installation](#torch_install)\n",
    "- [Pytorch Examples]()\n",
    "- [Transformers and Tokenizers]()\n"
   ]
  },
  {
   "cell_type": "code",
   "execution_count": 1,
   "id": "9ed9f27e-d2b1-4613-8d06-c06b088ecca9",
   "metadata": {},
   "outputs": [
    {
     "name": "stdout",
     "output_type": "stream",
     "text": [
      "Is Cuda available? True.\n",
      "Torch Cuda Version is 2.4.1+cu118.\n"
     ]
    }
   ],
   "source": [
    "\n",
    "import torch\n",
    "print(f\"Is Cuda available? {torch.cuda.is_available()}.\")  # Should return True\n",
    "print(f\"Torch Cuda Version is {torch.__version__}.\")  # Should return '12.1'\n",
    "\n",
    "import time"
   ]
  },
  {
   "cell_type": "code",
   "execution_count": 2,
   "id": "4d74b6bd-748d-4de1-9d9f-cd3e453d3781",
   "metadata": {},
   "outputs": [
    {
     "name": "stdout",
     "output_type": "stream",
     "text": [
      "CUDA is available! PyTorch can use the GPU\n"
     ]
    }
   ],
   "source": [
    "if torch.cuda.is_available():\n",
    "    print(\"CUDA is available! PyTorch can use the GPU\")\n"
   ]
  },
  {
   "cell_type": "code",
   "execution_count": 3,
   "id": "737d4e6d-a533-4b7b-8f43-3063a5e016f9",
   "metadata": {},
   "outputs": [
    {
     "name": "stdout",
     "output_type": "stream",
     "text": [
      "Current GPU Device: NVIDIA GeForce RTX 4070 Laptop GPU\n"
     ]
    }
   ],
   "source": [
    "print(\"Current GPU Device:\", torch.cuda.get_device_name())"
   ]
  },
  {
   "cell_type": "code",
   "execution_count": 4,
   "id": "d0a3b4e7-7610-448c-8989-f527582c15b1",
   "metadata": {},
   "outputs": [
    {
     "name": "stdout",
     "output_type": "stream",
     "text": [
      "PyTorch version: 2.4.1+cu118\n",
      "CUDA is available! PyTorch can use the GPU.\n",
      "Current GPU Device: NVIDIA GeForce RTX 4070 Laptop GPU\n",
      "Number of GPUs available: 1\n",
      "Current CUDA version: 2.4.1+cu118\n"
     ]
    }
   ],
   "source": [
    "import torch\n",
    "\n",
    "# Check PyTorch version\n",
    "print(\"PyTorch version:\", torch.__version__)\n",
    "\n",
    "# Check if CUDA is available\n",
    "if torch.cuda.is_available():\n",
    "    print(\"CUDA is available! PyTorch can use the GPU.\")\n",
    "    print(\"Current GPU Device:\", torch.cuda.get_device_name(0))\n",
    "    print(\"Number of GPUs available:\", torch.cuda.device_count())\n",
    "    print(\"Current CUDA version:\", torch.__version__)\n",
    "else:\n",
    "    print(\"CUDA is NOT available. PyTorch is using the CPU.\")\n"
   ]
  },
  {
   "cell_type": "markdown",
   "id": "8fc4729f-6f5c-4154-9465-ddc6c117b774",
   "metadata": {},
   "source": [
    "### Torch Examples\n",
    "\n",
    "Here are some examples showing that it works."
   ]
  },
  {
   "cell_type": "code",
   "execution_count": 5,
   "id": "ddc3da4c-9a5b-433e-a7f4-c8a2c6fdfb8a",
   "metadata": {},
   "outputs": [
    {
     "name": "stdout",
     "output_type": "stream",
     "text": [
      "Matrix multiplication on CPU took: 4.9324 seconds\n",
      "Result tensor size on CPU: torch.Size([10000, 10000])\n",
      "Matrix multiplication on GPU took: 0.2474 seconds\n",
      "Result tensor size on GPU: torch.Size([10000, 10000])\n"
     ]
    }
   ],
   "source": [
    "import torch\n",
    "import time\n",
    "\n",
    "# Define the size of the tensors\n",
    "size = 10000\n",
    "\n",
    "# Create two large random tensors for CPU\n",
    "tensor1_cpu = torch.randn(size, size)\n",
    "tensor2_cpu = torch.randn(size, size)\n",
    "\n",
    "# Perform matrix multiplication on the CPU and time it\n",
    "start_time = time.time()\n",
    "result_cpu = torch.matmul(tensor1_cpu, tensor2_cpu)\n",
    "end_time = time.time()\n",
    "\n",
    "print(f\"Matrix multiplication on CPU took: {end_time - start_time:.4f} seconds\")\n",
    "print(f\"Result tensor size on CPU: {result_cpu.size()}\")\n",
    "\n",
    "# Check if CUDA is available and perform the same test on the GPU\n",
    "if torch.cuda.is_available():\n",
    "    device = torch.device(\"cuda\")\n",
    "    \n",
    "    # Create two large random tensors for GPU\n",
    "    tensor1_gpu = tensor1_cpu.to(device)\n",
    "    tensor2_gpu = tensor2_cpu.to(device)\n",
    "\n",
    "    # Perform matrix multiplication on the GPU and time it\n",
    "    torch.cuda.synchronize()  # Ensure all CUDA operations are finished\n",
    "    start_time = time.time()\n",
    "    result_gpu = torch.matmul(tensor1_gpu, tensor2_gpu)\n",
    "    torch.cuda.synchronize()  # Ensure the GPU has finished the computation\n",
    "    end_time = time.time()\n",
    "\n",
    "    print(f\"Matrix multiplication on GPU took: {end_time - start_time:.4f} seconds\")\n",
    "    print(f\"Result tensor size on GPU: {result_gpu.size()}\")\n",
    "else:\n",
    "    print(\"CUDA is not available on this system.\")\n"
   ]
  },
  {
   "cell_type": "markdown",
   "id": "e1abb85a-a959-4938-b317-4c502d6b3ae4",
   "metadata": {},
   "source": [
    "## Stable Baselines 3 \n"
   ]
  },
  {
   "cell_type": "code",
   "execution_count": 6,
   "id": "ef6ed398-a51b-42b5-a509-a1fd94599c0e",
   "metadata": {},
   "outputs": [
    {
     "name": "stdout",
     "output_type": "stream",
     "text": [
      "2.4.1\n"
     ]
    }
   ],
   "source": [
    "import os\n",
    "# Suppress TensorFlow warnings\n",
    "os.environ['TF_CPP_MIN_LOG_LEVEL'] = '3'  # Suppresses INFO, WARNING, and ERROR messages\n",
    "\n",
    "import stable_baselines3\n",
    "import stable_baselines3\n",
    "print(stable_baselines3.__version__)"
   ]
  },
  {
   "cell_type": "markdown",
   "id": "5c2812c9-78a9-44a2-b997-431bc8498d51",
   "metadata": {},
   "source": [
    "### SB3 Example\n",
    "\n",
    "Note, it takes many iteraitons and the proper algorithm to get good results; this just shows it working.  "
   ]
  },
  {
   "cell_type": "code",
   "execution_count": 7,
   "id": "066b6955-d608-4996-9f99-cba81995e69b",
   "metadata": {},
   "outputs": [
    {
     "name": "stdout",
     "output_type": "stream",
     "text": [
      "Using cuda device\n",
      "Wrapping the env with a `Monitor` wrapper\n",
      "Wrapping the env in a DummyVecEnv.\n"
     ]
    },
    {
     "name": "stderr",
     "output_type": "stream",
     "text": [
      "/app/sb3/lib/python3.10/site-packages/stable_baselines3/common/on_policy_algorithm.py:150: UserWarning: You are trying to run PPO on the GPU, but it is primarily intended to run on the CPU when not using a CNN policy (you are using ActorCriticPolicy which should be a MlpPolicy). See https://github.com/DLR-RM/stable-baselines3/issues/1245 for more info. You can pass `device='cpu'` or `export CUDA_VISIBLE_DEVICES=` to force using the CPU.Note: The model will train, but the GPU utilization will be poor and the training might take longer than on CPU.\n",
      "  warnings.warn(\n"
     ]
    },
    {
     "name": "stdout",
     "output_type": "stream",
     "text": [
      "---------------------------------\n",
      "| rollout/           |          |\n",
      "|    ep_len_mean     | 23.3     |\n",
      "|    ep_rew_mean     | 23.3     |\n",
      "| time/              |          |\n",
      "|    fps             | 435      |\n",
      "|    iterations      | 1        |\n",
      "|    time_elapsed    | 4        |\n",
      "|    total_timesteps | 2048     |\n",
      "---------------------------------\n",
      "-----------------------------------------\n",
      "| rollout/                |             |\n",
      "|    ep_len_mean          | 27.9        |\n",
      "|    ep_rew_mean          | 27.9        |\n",
      "| time/                   |             |\n",
      "|    fps                  | 364         |\n",
      "|    iterations           | 2           |\n",
      "|    time_elapsed         | 11          |\n",
      "|    total_timesteps      | 4096        |\n",
      "| train/                  |             |\n",
      "|    approx_kl            | 0.009641813 |\n",
      "|    clip_fraction        | 0.122       |\n",
      "|    clip_range           | 0.2         |\n",
      "|    entropy_loss         | -0.685      |\n",
      "|    explained_variance   | -0.0254     |\n",
      "|    learning_rate        | 0.0003      |\n",
      "|    loss                 | 8.08        |\n",
      "|    n_updates            | 10          |\n",
      "|    policy_gradient_loss | -0.0217     |\n",
      "|    value_loss           | 56          |\n",
      "-----------------------------------------\n",
      "-----------------------------------------\n",
      "| rollout/                |             |\n",
      "|    ep_len_mean          | 37.8        |\n",
      "|    ep_rew_mean          | 37.8        |\n",
      "| time/                   |             |\n",
      "|    fps                  | 358         |\n",
      "|    iterations           | 3           |\n",
      "|    time_elapsed         | 17          |\n",
      "|    total_timesteps      | 6144        |\n",
      "| train/                  |             |\n",
      "|    approx_kl            | 0.009776332 |\n",
      "|    clip_fraction        | 0.0706      |\n",
      "|    clip_range           | 0.2         |\n",
      "|    entropy_loss         | -0.663      |\n",
      "|    explained_variance   | 0.0908      |\n",
      "|    learning_rate        | 0.0003      |\n",
      "|    loss                 | 13.4        |\n",
      "|    n_updates            | 20          |\n",
      "|    policy_gradient_loss | -0.0175     |\n",
      "|    value_loss           | 36.8        |\n",
      "-----------------------------------------\n",
      "-----------------------------------------\n",
      "| rollout/                |             |\n",
      "|    ep_len_mean          | 52.3        |\n",
      "|    ep_rew_mean          | 52.3        |\n",
      "| time/                   |             |\n",
      "|    fps                  | 354         |\n",
      "|    iterations           | 4           |\n",
      "|    time_elapsed         | 23          |\n",
      "|    total_timesteps      | 8192        |\n",
      "| train/                  |             |\n",
      "|    approx_kl            | 0.010136329 |\n",
      "|    clip_fraction        | 0.101       |\n",
      "|    clip_range           | 0.2         |\n",
      "|    entropy_loss         | -0.626      |\n",
      "|    explained_variance   | 0.282       |\n",
      "|    learning_rate        | 0.0003      |\n",
      "|    loss                 | 22.4        |\n",
      "|    n_updates            | 30          |\n",
      "|    policy_gradient_loss | -0.0204     |\n",
      "|    value_loss           | 51.9        |\n",
      "-----------------------------------------\n",
      "-----------------------------------------\n",
      "| rollout/                |             |\n",
      "|    ep_len_mean          | 68.3        |\n",
      "|    ep_rew_mean          | 68.3        |\n",
      "| time/                   |             |\n",
      "|    fps                  | 356         |\n",
      "|    iterations           | 5           |\n",
      "|    time_elapsed         | 28          |\n",
      "|    total_timesteps      | 10240       |\n",
      "| train/                  |             |\n",
      "|    approx_kl            | 0.006868124 |\n",
      "|    clip_fraction        | 0.0422      |\n",
      "|    clip_range           | 0.2         |\n",
      "|    entropy_loss         | -0.611      |\n",
      "|    explained_variance   | 0.235       |\n",
      "|    learning_rate        | 0.0003      |\n",
      "|    loss                 | 23.8        |\n",
      "|    n_updates            | 40          |\n",
      "|    policy_gradient_loss | -0.011      |\n",
      "|    value_loss           | 73.7        |\n",
      "-----------------------------------------\n"
     ]
    }
   ],
   "source": [
    "import gymnasium as gym\n",
    "from stable_baselines3 import PPO\n",
    "import matplotlib.pyplot as plt\n",
    "from IPython import display\n",
    "import time\n",
    "\n",
    "# Create the CartPole-v1 environment with the \"rgb_array\" render mode\n",
    "env = gym.make(\"CartPole-v1\", render_mode=\"rgb_array\")\n",
    "\n",
    "# Create the PPO model (you can replace PPO with other algorithms if you want)\n",
    "model = PPO(\"MlpPolicy\", env, verbose=1)\n",
    "\n",
    "# Train the agent for 10,000 steps\n",
    "model.learn(total_timesteps=10000)\n",
    "\n",
    "# Test the trained agent and render in the notebook\n",
    "obs, info = env.reset()\n",
    "\n",
    "# Set up the plot for dynamic updates\n",
    "#plt.ion()  # Turn on interactive mode for matplotlib\n",
    "#fig, ax = plt.subplots()\n",
    "\n",
    "for _ in range(1000):\n",
    "    action, _states = model.predict(obs)\n",
    "    obs, reward, done, truncated, info = env.step(action)\n",
    "\n",
    "\n",
    "    if done or truncated:\n",
    "        obs, info = env.reset()\n",
    "\n",
    "env.close()\n"
   ]
  },
  {
   "cell_type": "markdown",
   "id": "b1f81773-c448-463c-a43c-bef0665dd203",
   "metadata": {},
   "source": [
    "## Tensorflow example\n",
    "\n",
    "Does Tensorflow work as well?"
   ]
  },
  {
   "cell_type": "code",
   "execution_count": 8,
   "id": "6c023ef8-6da2-4807-92f7-d498ec070679",
   "metadata": {},
   "outputs": [
    {
     "name": "stdout",
     "output_type": "stream",
     "text": [
      "TensorFlow version: 2.15.1\n",
      "Available devices:\n",
      "PhysicalDevice(name='/physical_device:CPU:0', device_type='CPU')\n",
      "PhysicalDevice(name='/physical_device:GPU:0', device_type='GPU')\n",
      "GPU is available and TensorFlow is using it.\n"
     ]
    }
   ],
   "source": [
    "import tensorflow as tf\n",
    "print(\"TensorFlow version:\", tf.__version__)\n",
    "\n",
    "# List available devices\n",
    "print(\"Available devices:\")\n",
    "for device in tf.config.list_physical_devices():\n",
    "    print(device)\n",
    "\n",
    "# Check if a GPU is detected\n",
    "if tf.config.list_physical_devices('GPU'):\n",
    "    print(\"GPU is available and TensorFlow is using it.\")\n",
    "else:\n",
    "    print(\"GPU is NOT available. TensorFlow is using the CPU.\")\n"
   ]
  },
  {
   "cell_type": "code",
   "execution_count": 9,
   "id": "0d73aead-44ec-4bc8-81b4-c3ec77eb611d",
   "metadata": {},
   "outputs": [
    {
     "name": "stdout",
     "output_type": "stream",
     "text": [
      "Num GPUs Available:  1\n",
      "WARNING:tensorflow:From /tmp/ipykernel_66/1680262756.py:9: is_gpu_available (from tensorflow.python.framework.test_util) is deprecated and will be removed in a future version.\n",
      "Instructions for updating:\n",
      "Use `tf.config.list_physical_devices('GPU')` instead.\n",
      "Using GPU: /device:GPU:0\n",
      "Downloading data from https://storage.googleapis.com/tensorflow/tf-keras-datasets/mnist.npz\n",
      "11490434/11490434 [==============================] - 0s 0us/step\n",
      "Epoch 1/5\n"
     ]
    },
    {
     "name": "stderr",
     "output_type": "stream",
     "text": [
      "WARNING: All log messages before absl::InitializeLog() is called are written to STDERR\n",
      "I0000 00:00:1737409716.674191     180 device_compiler.h:186] Compiled cluster using XLA!  This line is logged at most once for the lifetime of the process.\n"
     ]
    },
    {
     "name": "stdout",
     "output_type": "stream",
     "text": [
      "1875/1875 [==============================] - 16s 6ms/step - loss: 0.1451 - accuracy: 0.9556 - val_loss: 0.0536 - val_accuracy: 0.9830\n",
      "Epoch 2/5\n",
      "1875/1875 [==============================] - 11s 6ms/step - loss: 0.0455 - accuracy: 0.9859 - val_loss: 0.0437 - val_accuracy: 0.9862\n",
      "Epoch 3/5\n",
      "1875/1875 [==============================] - 12s 6ms/step - loss: 0.0323 - accuracy: 0.9897 - val_loss: 0.0354 - val_accuracy: 0.9877\n",
      "Epoch 4/5\n",
      "1875/1875 [==============================] - 14s 7ms/step - loss: 0.0234 - accuracy: 0.9923 - val_loss: 0.0365 - val_accuracy: 0.9885\n",
      "Epoch 5/5\n",
      "1875/1875 [==============================] - 13s 7ms/step - loss: 0.0176 - accuracy: 0.9944 - val_loss: 0.0355 - val_accuracy: 0.9881\n",
      "313/313 - 1s - loss: 0.0355 - accuracy: 0.9881 - 1s/epoch - 5ms/step\n",
      "Test Accuracy: 0.99\n"
     ]
    },
    {
     "data": {
      "image/png": "[encoded data removed]",
      "text/plain": [
       "<Figure size 640x480 with 1 Axes>"
      ]
     },
     "metadata": {},
     "output_type": "display_data"
    },
    {
     "name": "stdout",
     "output_type": "stream",
     "text": [
      "1/1 [==============================] - 0s 188ms/step\n"
     ]
    },
    {
     "data": {
      "image/png": "[encoded data removed]",
      "text/plain": [
       "<Figure size 640x480 with 1 Axes>"
      ]
     },
     "metadata": {},
     "output_type": "display_data"
    },
    {
     "data": {
      "image/png": "[encoded data removed]",
      "text/plain": [
       "<Figure size 640x480 with 1 Axes>"
      ]
     },
     "metadata": {},
     "output_type": "display_data"
    },
    {
     "data": {
      "image/png": "[encoded data removed]",
      "text/plain": [
       "<Figure size 640x480 with 1 Axes>"
      ]
     },
     "metadata": {},
     "output_type": "display_data"
    },
    {
     "data": {
      "image/png": "[encoded data removed]",
      "text/plain": [
       "<Figure size 640x480 with 1 Axes>"
      ]
     },
     "metadata": {},
     "output_type": "display_data"
    },
    {
     "data": {
      "image/png": "[encoded data removed]",
      "text/plain": [
       "<Figure size 640x480 with 1 Axes>"
      ]
     },
     "metadata": {},
     "output_type": "display_data"
    }
   ],
   "source": [
    "# Import necessary libraries\n",
    "import tensorflow as tf\n",
    "from tensorflow.keras import layers, models\n",
    "from tensorflow.keras.datasets import mnist\n",
    "import matplotlib.pyplot as plt\n",
    "\n",
    "# Check if TensorFlow is using GPU\n",
    "print(\"Num GPUs Available: \", len(tf.config.experimental.list_physical_devices('GPU')))\n",
    "if tf.test.is_gpu_available():\n",
    "    print(\"Using GPU:\", tf.test.gpu_device_name())\n",
    "else:\n",
    "    print(\"Using CPU. No GPU detected.\")\n",
    "\n",
    "# Load MNIST dataset\n",
    "(x_train, y_train), (x_test, y_test) = mnist.load_data()\n",
    "\n",
    "# Normalize the data to scale between 0 and 1\n",
    "x_train = x_train / 255.0\n",
    "x_test = x_test / 255.0\n",
    "\n",
    "# Add a channel dimension to the data\n",
    "x_train = x_train[..., tf.newaxis]\n",
    "x_test = x_test[..., tf.newaxis]\n",
    "\n",
    "# Build a simple neural network model\n",
    "model = models.Sequential([\n",
    "    layers.Conv2D(32, (3, 3), activation='relu', input_shape=(28, 28, 1)),\n",
    "    layers.MaxPooling2D((2, 2)),\n",
    "    layers.Conv2D(64, (3, 3), activation='relu'),\n",
    "    layers.MaxPooling2D((2, 2)),\n",
    "    layers.Flatten(),\n",
    "    layers.Dense(64, activation='relu'),\n",
    "    layers.Dense(10, activation='softmax')  # Output layer for 10 classes\n",
    "])\n",
    "\n",
    "# Compile the model\n",
    "model.compile(optimizer='adam',\n",
    "              loss='sparse_categorical_crossentropy',\n",
    "              metrics=['accuracy'])\n",
    "\n",
    "# Train the model\n",
    "history = model.fit(x_train, y_train, epochs=5, validation_data=(x_test, y_test))\n",
    "\n",
    "# Evaluate the model\n",
    "test_loss, test_acc = model.evaluate(x_test, y_test, verbose=2)\n",
    "print(f\"Test Accuracy: {test_acc:.2f}\")\n",
    "\n",
    "# Plot training history\n",
    "plt.plot(history.history['accuracy'], label='Accuracy')\n",
    "plt.plot(history.history['val_accuracy'], label='Validation Accuracy')\n",
    "plt.xlabel('Epoch')\n",
    "plt.ylabel('Accuracy')\n",
    "plt.legend()\n",
    "plt.show()\n",
    "\n",
    "# Make predictions\n",
    "predictions = model.predict(x_test[:5])\n",
    "for i in range(5):\n",
    "    plt.imshow(x_test[i].reshape(28, 28), cmap='gray')\n",
    "    plt.title(f\"Predicted: {tf.argmax(predictions[i]).numpy()}, True: {y_test[i]}\")\n",
    "    plt.show()\n"
   ]
  },
  {
   "cell_type": "markdown",
   "id": "b8825337-4ecb-483b-aff1-f649ee0d4f07",
   "metadata": {},
   "source": [
    "### Transformer and Tokenizer Example"
   ]
  },
  {
   "cell_type": "code",
   "execution_count": 10,
   "id": "63b96fc0-bb19-4440-88f6-23db75f85940",
   "metadata": {},
   "outputs": [
    {
     "name": "stderr",
     "output_type": "stream",
     "text": [
      "/app/sb3/lib/python3.10/site-packages/huggingface_hub/file_download.py:795: FutureWarning: `resume_download` is deprecated and will be removed in version 1.0.0. Downloads always resume when possible. If you want to force a new download, use `force_download=True`.\n",
      "  warnings.warn(\n"
     ]
    },
    {
     "data": {
      "application/vnd.jupyter.widget-view+json": {
       "model_id": "f586332000864d36946a6fff68972d23",
       "version_major": 2,
       "version_minor": 0
      },
      "text/plain": [
       "tokenizer_config.json:   0%|          | 0.00/48.0 [00:00<?, ?B/s]"
      ]
     },
     "metadata": {},
     "output_type": "display_data"
    },
    {
     "data": {
      "application/vnd.jupyter.widget-view+json": {
       "model_id": "cba77992e2744b37bcb6578cef2a4f7c",
       "version_major": 2,
       "version_minor": 0
      },
      "text/plain": [
       "vocab.txt:   0%|          | 0.00/232k [00:00<?, ?B/s]"
      ]
     },
     "metadata": {},
     "output_type": "display_data"
    },
    {
     "data": {
      "application/vnd.jupyter.widget-view+json": {
       "model_id": "fdfb08bc85184e2d897938f463a73167",
       "version_major": 2,
       "version_minor": 0
      },
      "text/plain": [
       "tokenizer.json:   0%|          | 0.00/466k [00:00<?, ?B/s]"
      ]
     },
     "metadata": {},
     "output_type": "display_data"
    },
    {
     "data": {
      "application/vnd.jupyter.widget-view+json": {
       "model_id": "8af7fdc543274e10ad23b6281109b9b8",
       "version_major": 2,
       "version_minor": 0
      },
      "text/plain": [
       "config.json:   0%|          | 0.00/570 [00:00<?, ?B/s]"
      ]
     },
     "metadata": {},
     "output_type": "display_data"
    },
    {
     "data": {
      "application/vnd.jupyter.widget-view+json": {
       "model_id": "6690768b86684a108b9bf0b06c565901",
       "version_major": 2,
       "version_minor": 0
      },
      "text/plain": [
       "model.safetensors:   0%|          | 0.00/440M [00:00<?, ?B/s]"
      ]
     },
     "metadata": {},
     "output_type": "display_data"
    },
    {
     "name": "stdout",
     "output_type": "stream",
     "text": [
      "Original Text: Transformers are amazing for NLP tasks.\n",
      "Tokenized Input IDs: tensor([[  101, 19081,  2024,  6429,  2005, 17953,  2361,  8518,  1012,   102]])\n",
      "Decoded Text: transformers are amazing for nlp tasks.\n"
     ]
    }
   ],
   "source": [
    "import tqdm\n",
    "from transformers import BertTokenizer, BertModel\n",
    "import torch\n",
    "\n",
    "# Load pre-trained BERT tokenizer and model\n",
    "tokenizer = BertTokenizer.from_pretrained('bert-base-uncased',quiet=True)\n",
    "model = BertModel.from_pretrained('bert-base-uncased')\n",
    "\n",
    "# Sample text\n",
    "text = \"Transformers are amazing for NLP tasks.\"\n",
    "\n",
    "# Tokenize the input text\n",
    "inputs = tokenizer(text, return_tensors=\"pt\")\n",
    "\n",
    "# Get the tokenized input IDs\n",
    "input_ids = inputs[\"input_ids\"]\n",
    "\n",
    "# Decode the token IDs back to text\n",
    "decoded_text = tokenizer.decode(input_ids[0], skip_special_tokens=True)\n",
    "\n",
    "# Print original text, tokenized input, and decoded text\n",
    "print(\"Original Text:\", text)\n",
    "print(\"Tokenized Input IDs:\", input_ids)\n",
    "print(\"Decoded Text:\", decoded_text)\n"
   ]
  },
  {
   "cell_type": "markdown",
   "id": "e9af7930-6087-4db5-82f9-ae56de146383",
   "metadata": {},
   "source": [
    "## Sentence Transformers\n",
    "\n",
    "```/bash\n",
    "pip install sentence-transformers\n",
    "\n",
    "```\n",
    "\n",
    "Need this as well."
   ]
  },
  {
   "cell_type": "markdown",
   "id": "254201e2-3fb5-4f0f-a346-dfed1abb0264",
   "metadata": {},
   "source": [
    "### Sentence Transformers Example"
   ]
  },
  {
   "cell_type": "code",
   "execution_count": 11,
   "id": "62f76f3b-253d-4df7-af11-cac9ee1bd986",
   "metadata": {},
   "outputs": [
    {
     "data": {
      "application/vnd.jupyter.widget-view+json": {
       "model_id": "022193a90c5447efb26790ca1f0754e1",
       "version_major": 2,
       "version_minor": 0
      },
      "text/plain": [
       "modules.json:   0%|          | 0.00/349 [00:00<?, ?B/s]"
      ]
     },
     "metadata": {},
     "output_type": "display_data"
    },
    {
     "data": {
      "application/vnd.jupyter.widget-view+json": {
       "model_id": "9cd7d0ef90af4b39af8ec544abf505a4",
       "version_major": 2,
       "version_minor": 0
      },
      "text/plain": [
       "config_sentence_transformers.json:   0%|          | 0.00/116 [00:00<?, ?B/s]"
      ]
     },
     "metadata": {},
     "output_type": "display_data"
    },
    {
     "data": {
      "application/vnd.jupyter.widget-view+json": {
       "model_id": "6f24a1f67d954a52bf73e5d1207c63e7",
       "version_major": 2,
       "version_minor": 0
      },
      "text/plain": [
       "README.md:   0%|          | 0.00/10.7k [00:00<?, ?B/s]"
      ]
     },
     "metadata": {},
     "output_type": "display_data"
    },
    {
     "data": {
      "application/vnd.jupyter.widget-view+json": {
       "model_id": "39386bbb5ee2456eaf14fdd44892e43a",
       "version_major": 2,
       "version_minor": 0
      },
      "text/plain": [
       "sentence_bert_config.json:   0%|          | 0.00/53.0 [00:00<?, ?B/s]"
      ]
     },
     "metadata": {},
     "output_type": "display_data"
    },
    {
     "name": "stderr",
     "output_type": "stream",
     "text": [
      "/app/sb3/lib/python3.10/site-packages/huggingface_hub/file_download.py:795: FutureWarning: `resume_download` is deprecated and will be removed in version 1.0.0. Downloads always resume when possible. If you want to force a new download, use `force_download=True`.\n",
      "  warnings.warn(\n"
     ]
    },
    {
     "data": {
      "application/vnd.jupyter.widget-view+json": {
       "model_id": "62e44fd2dfec464b8293f7dd24ff34ad",
       "version_major": 2,
       "version_minor": 0
      },
      "text/plain": [
       "config.json:   0%|          | 0.00/612 [00:00<?, ?B/s]"
      ]
     },
     "metadata": {},
     "output_type": "display_data"
    },
    {
     "data": {
      "application/vnd.jupyter.widget-view+json": {
       "model_id": "0fcaf9a4d5ac42d78696937725666816",
       "version_major": 2,
       "version_minor": 0
      },
      "text/plain": [
       "model.safetensors:   0%|          | 0.00/90.9M [00:00<?, ?B/s]"
      ]
     },
     "metadata": {},
     "output_type": "display_data"
    },
    {
     "data": {
      "application/vnd.jupyter.widget-view+json": {
       "model_id": "3ae82a5ee2054d4e995cc0de9afbf784",
       "version_major": 2,
       "version_minor": 0
      },
      "text/plain": [
       "tokenizer_config.json:   0%|          | 0.00/350 [00:00<?, ?B/s]"
      ]
     },
     "metadata": {},
     "output_type": "display_data"
    },
    {
     "data": {
      "application/vnd.jupyter.widget-view+json": {
       "model_id": "4fbff39d71564f9a930f3a92fa6565d3",
       "version_major": 2,
       "version_minor": 0
      },
      "text/plain": [
       "vocab.txt:   0%|          | 0.00/232k [00:00<?, ?B/s]"
      ]
     },
     "metadata": {},
     "output_type": "display_data"
    },
    {
     "data": {
      "application/vnd.jupyter.widget-view+json": {
       "model_id": "398a209b774a4b21ae875767a1110179",
       "version_major": 2,
       "version_minor": 0
      },
      "text/plain": [
       "tokenizer.json:   0%|          | 0.00/466k [00:00<?, ?B/s]"
      ]
     },
     "metadata": {},
     "output_type": "display_data"
    },
    {
     "data": {
      "application/vnd.jupyter.widget-view+json": {
       "model_id": "d553e1afdfa64aefa67b13a9597318a9",
       "version_major": 2,
       "version_minor": 0
      },
      "text/plain": [
       "special_tokens_map.json:   0%|          | 0.00/112 [00:00<?, ?B/s]"
      ]
     },
     "metadata": {},
     "output_type": "display_data"
    },
    {
     "data": {
      "application/vnd.jupyter.widget-view+json": {
       "model_id": "e5dae705c898419ebe5d1eb97d16d2ad",
       "version_major": 2,
       "version_minor": 0
      },
      "text/plain": [
       "1_Pooling/config.json:   0%|          | 0.00/190 [00:00<?, ?B/s]"
      ]
     },
     "metadata": {},
     "output_type": "display_data"
    },
    {
     "name": "stdout",
     "output_type": "stream",
     "text": [
      "[[-9.13389698e-02 -2.08391622e-02  3.78195606e-02 -1.00276191e-02\n",
      "  -2.18986645e-02  6.64145453e-03 -4.42282967e-02  4.97135557e-02\n",
      "   2.80648284e-02  1.45602450e-02  2.62471978e-02  8.02668780e-02\n",
      "   4.97587118e-03  8.78880695e-02  4.61270213e-02  3.79769318e-02\n",
      "   3.22095677e-02  1.52603313e-02 -4.78855856e-02 -8.71268958e-02\n",
      "   1.09329328e-01  8.22059661e-02  1.47923678e-02 -5.11702821e-02\n",
      "   5.15240021e-02  6.55859262e-02 -5.36913089e-02 -4.96964306e-02\n",
      "   3.65458950e-02 -9.47065558e-03 -4.13955748e-02  5.72569109e-02\n",
      "  -6.83492124e-02  5.84685132e-02 -6.26850128e-02  7.58528262e-02\n",
      "   1.44350221e-02  1.83786154e-02  1.41707836e-02 -5.39688952e-02\n",
      "  -3.47521268e-02 -1.90681908e-02  1.80511642e-02 -2.25276705e-02\n",
      "   4.55971360e-02 -3.47322859e-02 -2.73609310e-02 -1.98490713e-02\n",
      "  -8.14879895e-04 -2.79270392e-02 -3.95562723e-02 -5.84855080e-02\n",
      "   5.34983650e-02  1.18243910e-01 -1.34978034e-02  2.81568728e-02\n",
      "   8.00181646e-03 -5.52489311e-02  1.07748415e-02 -8.26784745e-02\n",
      "  -7.50691593e-02 -7.26947212e-04 -1.14284828e-02 -3.15912627e-02\n",
      "  -2.56440099e-02 -8.93283170e-03  2.13976838e-02 -1.95717369e-03\n",
      "  -3.98999117e-02  1.71870403e-02 -9.86917391e-02  4.32079621e-02\n",
      "   2.14145612e-02  7.41939843e-02  8.17541108e-02  1.30179850e-02\n",
      "   3.96499559e-02 -1.12352632e-01  1.61439944e-02 -4.75933179e-02\n",
      "   7.10801408e-02 -2.49395743e-02 -1.67709738e-02  1.02371074e-01\n",
      "   6.00532144e-02 -3.79599743e-02 -8.91839620e-04 -1.67397726e-02\n",
      "  -8.11639354e-02 -2.96587730e-03 -8.68671909e-02 -9.48273018e-02\n",
      "   8.75561535e-02  7.51264766e-03 -4.40817252e-02  2.50664633e-02\n",
      "  -4.81076278e-02 -7.26852939e-02  4.49803192e-03  3.30109522e-02\n",
      "  -9.52917896e-03 -2.88514290e-02  2.91740652e-02 -9.59848911e-02\n",
      "  -1.13295600e-01 -7.04405904e-02 -1.06133530e-02  1.11098168e-02\n",
      "  -3.91736720e-03 -4.05783467e-02  3.17186601e-02 -2.89384518e-02\n",
      "  -1.91743076e-02 -4.31948155e-02  6.17150292e-02 -8.93388763e-02\n",
      "   8.42686929e-03 -1.18960878e-02 -2.79276967e-02  3.27752233e-02\n",
      "   1.35773951e-02  7.54369721e-02 -4.16411646e-02  7.63626695e-02\n",
      "   2.60961875e-02 -3.30173522e-02  9.69682559e-02 -2.01159703e-33\n",
      "   8.41615349e-03  9.49249938e-02  4.12810929e-02  3.72696556e-02\n",
      "  -9.30484664e-03  3.43328272e-03 -2.14503724e-02  5.93383200e-02\n",
      "  -3.82257514e-02 -3.54569801e-03 -5.11288643e-02  8.00575390e-02\n",
      "  -1.72845069e-02 -1.36367115e-03 -1.50901480e-02 -6.47914186e-02\n",
      "  -3.30008343e-02  4.24927995e-02 -3.90296690e-02  3.09745967e-02\n",
      "  -6.61238562e-03  4.67417836e-02  3.62695381e-02 -2.47308388e-02\n",
      "  -3.20474058e-02 -3.44661018e-03 -1.98128354e-03 -6.16287030e-02\n",
      "   4.73358072e-02 -1.84988454e-02 -3.48375551e-02  5.97697757e-02\n",
      "  -5.21449000e-02  2.64986008e-02  5.34055335e-03  2.45022168e-03\n",
      "  -2.50871722e-02 -9.50678140e-02 -1.16135739e-02 -1.79991685e-02\n",
      "  -2.73288079e-02  5.74762300e-02 -1.10659622e-01  7.15813180e-03\n",
      "   7.70750046e-02  7.02132434e-02  2.04945193e-03 -4.28030789e-02\n",
      "   2.79471781e-02  1.98839582e-03  3.78897265e-02  5.34533970e-02\n",
      "  -5.07847108e-02  1.97706441e-03  1.83810994e-01 -7.26303551e-03\n",
      "   3.04948706e-02 -4.95862728e-03  1.00949399e-01  2.92117838e-02\n",
      "  -1.23772174e-02  3.00229378e-02  1.59176774e-02 -3.04648429e-02\n",
      "   4.33325805e-02 -2.02232935e-02  5.77009916e-02 -3.25590209e-03\n",
      "  -3.42541491e-04 -1.16551463e-02 -2.14824919e-02 -3.31575833e-02\n",
      "  -8.43164686e-04 -3.40885855e-02  1.86595339e-02  1.45057635e-02\n",
      "   2.44679535e-03 -4.46445458e-02  4.31090370e-02  5.86922020e-02\n",
      "  -4.85014766e-02 -1.19012088e-01  2.97994111e-02 -4.78464626e-02\n",
      "   2.59547066e-02 -4.82602790e-02 -3.18483561e-02 -9.71546024e-02\n",
      "   4.57093725e-03 -9.06094629e-03 -8.83243221e-04  2.50313636e-02\n",
      "  -2.26742476e-02  4.16880799e-03  5.73514402e-03  9.56814657e-34\n",
      "  -3.73278633e-02 -1.25536034e-02 -1.03082262e-01  9.87608060e-02\n",
      "  -2.94563528e-02 -1.43612847e-02 -3.82837243e-02  2.79907994e-02\n",
      "   2.47576591e-02  5.60509153e-02 -8.17172695e-03 -3.16256694e-02\n",
      "  -3.93590741e-02 -2.18429212e-02  1.09794050e-01 -6.70883283e-02\n",
      "   4.63267937e-02 -1.40530281e-02  4.11658995e-02  8.68672207e-02\n",
      "   1.58836003e-02  1.58808187e-01 -1.29776880e-01  4.66320924e-02\n",
      "  -9.48793255e-03  6.40924945e-02 -1.15770914e-01  7.14270025e-03\n",
      "   1.17837749e-02  9.03237704e-03 -4.31012660e-02 -1.03710433e-02\n",
      "  -1.86151396e-02 -2.15607546e-02 -5.08089662e-02 -1.17473714e-02\n",
      "  -2.72203125e-02 -1.23247206e-02 -2.62996089e-02  1.65909547e-02\n",
      "   3.03094592e-02  3.99106145e-02 -2.81111114e-02  2.47760750e-02\n",
      "  -9.52601284e-02 -6.82688728e-02 -3.33690718e-02 -4.25384082e-02\n",
      "  -2.54372228e-03  7.71383941e-02 -3.54083404e-02  1.09947165e-02\n",
      "  -1.12818211e-01 -1.21028446e-01 -1.52590331e-02 -5.44914417e-02\n",
      "   5.40056005e-02 -1.03101254e-01  2.88094301e-02 -1.97711941e-02\n",
      "  -9.30150598e-02  2.82325298e-02  8.50701630e-02 -5.99852428e-02\n",
      "   2.28141937e-02 -3.07087135e-02  1.59087665e-02 -2.78399121e-02\n",
      "  -2.87901121e-03 -2.72179078e-02  6.62282705e-02  3.70688662e-02\n",
      "   2.64303070e-02 -3.94685045e-02 -1.07483389e-02 -1.19047603e-02\n",
      "   4.18200605e-02  7.88504165e-03 -2.53780708e-02 -6.98991567e-02\n",
      "   3.05061974e-02  8.73473380e-03  5.21765128e-02  2.98741478e-02\n",
      "   1.51348310e-02  8.98343399e-02 -1.84008684e-02  1.12342625e-03\n",
      "   3.24809067e-02  6.21275604e-02 -3.42305973e-02  3.46833542e-02\n",
      "   2.67563332e-02  1.13286532e-01  1.31214103e-02 -1.58217173e-08\n",
      "  -5.14111221e-02  5.96944168e-02 -3.73664312e-02 -1.06354514e-02\n",
      "  -1.42139317e-02 -4.84035723e-02  3.31888013e-02  8.29869956e-02\n",
      "  -3.32707390e-02 -3.35272838e-04  9.80553180e-02 -4.55461442e-02\n",
      "   9.90808103e-03  4.91861105e-02  1.17603973e-01  1.87714323e-02\n",
      "   7.86552727e-02 -6.34169579e-03 -3.67030278e-02  8.07172712e-03\n",
      "  -8.98503407e-04  8.72058421e-02 -5.00192754e-02  8.99782870e-03\n",
      "  -2.44703405e-02  2.10707206e-02 -3.14436257e-02 -4.93638478e-02\n",
      "   2.44295504e-02 -1.39967483e-02  3.58100445e-03  4.92438972e-02\n",
      "  -2.20063049e-02  4.35395315e-02  5.47413677e-02  2.43604779e-02\n",
      "   7.40203708e-02 -7.40141273e-02 -1.90981701e-02 -3.42055410e-02\n",
      "   7.88777322e-02  7.65522569e-02 -9.69668254e-02  3.22016999e-02\n",
      "   4.90539297e-02 -2.78659817e-03  4.22286652e-02 -1.70268387e-01\n",
      "  -3.40080671e-02  3.91162885e-03  7.40143238e-03 -2.76136771e-02\n",
      "  -4.57474366e-02  2.54089534e-02  7.90525675e-02  3.73700447e-02\n",
      "   4.22542989e-02 -7.54245669e-02 -5.92881665e-02  7.13606626e-02\n",
      "   1.18064908e-02  7.82025307e-02  1.94492210e-02  4.77532186e-02]\n",
      " [-3.65064689e-03 -4.02566381e-02  5.37925512e-02  1.87592730e-02\n",
      "   4.36548926e-02  1.07265882e-01  1.37051940e-02  5.64765930e-02\n",
      "   3.83178107e-02 -3.81296277e-02  4.78521734e-02  4.42149453e-02\n",
      "   2.23990697e-02  6.06395714e-02  2.15431433e-02  3.58680040e-02\n",
      "   8.68860185e-02  9.80533361e-02 -7.73597136e-02 -8.74792710e-02\n",
      "  -4.10939530e-02  2.51762830e-02  6.71608448e-02 -6.30397052e-02\n",
      "   7.63509702e-03 -9.63678304e-03 -6.72210306e-02  3.96241946e-03\n",
      "   6.95275813e-02  2.14077253e-02 -2.73868768e-03 -4.66555730e-03\n",
      "  -2.08296701e-02  2.78403647e-02 -1.73365138e-02  2.82478910e-02\n",
      "   4.42461595e-02  1.06463172e-01 -4.13178951e-02 -2.04074774e-02\n",
      "   8.36505741e-03  2.78143324e-02  5.13444170e-02  6.12559542e-02\n",
      "   5.86420000e-02 -5.18059991e-02 -6.59484640e-02 -2.18247492e-02\n",
      "  -4.19921614e-02  4.15930264e-02 -6.09701909e-02 -2.82707773e-02\n",
      "  -3.88227962e-02  2.98456214e-02  2.10315324e-02 -6.47071656e-03\n",
      "  -3.32621336e-02 -1.17579307e-02  1.10785421e-02 -9.81175154e-02\n",
      "   1.67630147e-02 -5.59938550e-02 -3.41848657e-02  4.53319289e-02\n",
      "   3.42978910e-02 -6.97385101e-03  3.40203918e-03  5.35050295e-02\n",
      "  -5.67048416e-02  1.18010849e-01 -3.72043364e-02  2.63291039e-02\n",
      "  -8.92801508e-02  3.48124132e-02 -7.75280893e-02  4.94074933e-02\n",
      "   5.68245687e-02 -1.02483280e-01  6.50745481e-02 -2.24783868e-02\n",
      "  -3.21006291e-02 -2.35491972e-02  1.46478256e-02 -1.28406659e-03\n",
      "   1.17351912e-01 -1.12274783e-02  7.39701241e-02 -6.42865598e-02\n",
      "  -6.89552426e-02  2.77737007e-02  8.26349296e-03 -7.05972388e-02\n",
      "   4.64272387e-02 -6.82025868e-03  9.92724020e-03 -1.55898435e-02\n",
      "  -3.29161622e-02 -2.54919939e-02  1.22037884e-02  6.56327978e-02\n",
      "   3.29815298e-02  2.29996983e-02  7.80922398e-02  3.18650063e-03\n",
      "  -4.98883240e-02 -3.59912179e-02 -2.51076426e-02  1.59665942e-02\n",
      "   3.59950191e-03 -7.74265975e-02 -1.08642370e-01  4.89926003e-02\n",
      "  -2.34071705e-02  1.15038455e-02  5.48987351e-02 -2.53492910e-02\n",
      "   1.77408941e-02 -5.13560362e-02  4.09484804e-02 -1.90766901e-02\n",
      "  -2.71398071e-02  5.08160964e-02 -4.04529385e-02  4.74189967e-02\n",
      "   1.87084321e-02 -7.64883086e-02  1.77136306e-02 -3.10000746e-33\n",
      "  -1.21809216e-02  2.59609912e-02 -1.91357825e-02  6.19516447e-02\n",
      "   9.14469641e-03  1.42611265e-02 -4.55985069e-02  6.13453500e-02\n",
      "  -8.51536393e-02 -3.42709795e-02 -3.82091850e-02  5.97606823e-02\n",
      "   1.83344595e-02  1.04791038e-02  5.01672141e-02  1.86542626e-02\n",
      "  -2.31891405e-02  1.37787824e-02  1.65509339e-03  2.48640589e-02\n",
      "  -5.38350232e-02 -1.85125992e-02 -2.82223569e-03 -3.37435715e-02\n",
      "  -3.69313434e-02 -2.38055624e-02  1.20403022e-01 -6.21039495e-02\n",
      "  -4.12108898e-02  2.42502764e-02 -5.59023432e-02 -3.04966997e-02\n",
      "  -6.82481825e-02 -1.79481413e-02  2.20058905e-03  1.10732801e-02\n",
      "   1.02063618e-03 -3.48261483e-02  1.49891553e-02 -8.75048060e-03\n",
      "  -5.40851802e-03 -2.03851145e-02 -9.91616864e-03  2.04787566e-03\n",
      "   1.04809320e-02  1.72011100e-03 -9.23036225e-03 -3.43419015e-02\n",
      "   1.65516362e-02 -4.56563570e-02  1.09757567e-02  2.34714635e-02\n",
      "  -3.89111415e-03 -1.08842544e-01  1.05601929e-01 -2.06440184e-02\n",
      "  -1.60452146e-02  1.41883232e-02  2.73804627e-02 -4.69093807e-02\n",
      "  -1.50368372e-02  1.98541824e-02  9.58695933e-02 -3.54821458e-02\n",
      "  -3.42408083e-02  7.78523833e-02 -5.04240952e-02 -2.30546910e-02\n",
      "   1.91291869e-02  2.52683517e-02 -6.17241524e-02  3.61112580e-02\n",
      "  -2.04769000e-02 -6.49495889e-03 -4.58281301e-02  6.94495067e-02\n",
      "  -5.43259270e-02 -1.00172490e-01  3.08690388e-02  1.17122829e-01\n",
      "  -3.66335036e-03 -1.84244603e-01  1.39171705e-02 -1.40380878e-02\n",
      "  -3.96210402e-02 -1.41388044e-01  5.43647073e-02 -8.71689543e-02\n",
      "   6.75088167e-02  2.89072599e-02 -1.67964231e-02 -9.78569034e-03\n",
      "  -4.55208831e-02 -1.96132273e-03 -2.68604085e-02  1.68949928e-33\n",
      "  -3.31909619e-02  1.94348786e-02 -6.68849051e-02  6.47821203e-02\n",
      "  -8.55549052e-03  2.43361033e-02 -6.32420331e-02  1.61888245e-02\n",
      "  -2.44752727e-02 -1.50398444e-02 -8.92010257e-02  1.34051973e-02\n",
      "   4.28511575e-02 -4.46366221e-02  2.76253391e-02  5.50352130e-03\n",
      "  -4.14503589e-02  2.03786567e-02 -1.62264090e-02  4.22022641e-02\n",
      "   1.41471752e-03  9.94223729e-02 -5.71460091e-02  7.38420188e-02\n",
      "   4.14964780e-02  8.90614912e-02 -6.04642034e-02 -7.20138326e-02\n",
      "  -1.31157130e-01 -5.55766821e-02 -3.43460888e-02 -4.77558561e-02\n",
      "  -3.85389403e-02 -4.77392524e-02 -5.84640056e-02  3.23132090e-02\n",
      "   7.33683333e-02 -4.08573560e-02 -1.83145441e-02 -3.50779667e-02\n",
      "   5.94206490e-02  5.31808883e-02 -1.55666247e-02  2.80934833e-02\n",
      "  -1.04945535e-02 -1.43888472e-02 -7.55967945e-02 -1.17197577e-02\n",
      "   7.57965371e-02  5.81873991e-02 -4.25755940e-02  3.81851308e-02\n",
      "  -8.37944895e-02 -5.61070405e-02 -1.72014628e-02 -5.63367307e-02\n",
      "   2.60049012e-03 -1.02772839e-01 -1.26564980e-03 -1.56448036e-02\n",
      "  -1.09514169e-01 -3.83284572e-03  3.97503488e-02 -4.62057590e-02\n",
      "   5.93802184e-02 -1.39045313e-01 -3.16912681e-02  6.14067763e-02\n",
      "  -2.19794572e-03 -9.27407891e-02  1.07508078e-02 -3.91482143e-03\n",
      "  -3.00360657e-02  5.58332764e-02 -3.05787940e-02 -2.35125981e-02\n",
      "   3.72293033e-02  1.56597346e-02 -6.71998113e-02 -6.47743940e-02\n",
      "   8.87672007e-02 -7.48190433e-02  6.93876445e-02 -3.46382931e-02\n",
      "   3.34317870e-02  7.62093887e-02  3.34793366e-02 -2.96907430e-03\n",
      "   2.07741577e-02 -8.93891789e-03 -6.33103251e-02 -1.24690970e-02\n",
      "  -1.75032131e-02  1.17574811e-01  3.06493025e-02 -1.57105990e-08\n",
      "  -6.15324341e-02 -2.43087634e-02  5.48809133e-02  3.30632962e-02\n",
      "  -7.56444335e-02 -7.11502060e-02 -2.29836758e-02  6.43548295e-02\n",
      "  -5.09497635e-02 -3.36611574e-03  5.79673052e-02  2.19356325e-02\n",
      "  -6.35055080e-02  1.38764307e-02  4.74085957e-02  4.33154367e-02\n",
      "   5.74718183e-03 -1.79616231e-02 -3.80586484e-03  2.26669852e-02\n",
      "   5.74051253e-02  1.11191213e-01 -6.37346506e-03  4.52824384e-02\n",
      "  -1.78188998e-02  3.89134660e-02  1.69905312e-02  3.40933651e-02\n",
      "   2.54978500e-02  2.16917433e-02  5.06390557e-02  8.18909779e-02\n",
      "  -9.80567560e-03  4.50543966e-03  4.65276614e-02  1.29042029e-01\n",
      "   7.15280324e-02 -1.00725025e-01 -2.45627481e-04 -3.17356153e-03\n",
      "   5.04630208e-02  6.68728277e-02 -8.23084116e-02  3.21189873e-02\n",
      "   1.00300275e-01  4.13457491e-03  2.14018952e-02 -4.83180732e-02\n",
      "  -4.03572954e-02  3.44823650e-03  3.83811779e-02 -5.31095937e-02\n",
      "   5.30550675e-03  1.54014556e-02  3.79170366e-02  3.94546054e-02\n",
      "   3.25820930e-02 -2.72933934e-02 -5.38103422e-03  3.48102674e-02\n",
      "  -9.61134303e-03  1.74200371e-01  3.71564589e-02 -4.88809263e-03]]\n"
     ]
    }
   ],
   "source": [
    "from sentence_transformers import SentenceTransformer\n",
    "\n",
    "# Load a pre-trained model\n",
    "model = SentenceTransformer('all-MiniLM-L6-v2')\n",
    "\n",
    "# Encode a list of sentences\n",
    "sentences = [\"Transformers are amazing for NLP tasks.\", \"Sentence embeddings are useful.\"]\n",
    "embeddings = model.encode(sentences)\n",
    "\n",
    "# Print the sentence embeddings\n",
    "print(embeddings)\n"
   ]
  },
  {
   "cell_type": "markdown",
   "id": "3727ee5a-377c-42ed-95f0-01cc268afd01",
   "metadata": {},
   "source": [
    "## Setup Summary -- \n",
    "\n",
    "More notes can be added here but Pytorch, and Stable Baselines 3 are the two main modules.  Extras required from both will come up but should not be a huge issue.  "
   ]
  }
 ],
 "metadata": {
  "kernelspec": {
   "display_name": "Python 3 (ipykernel)",
   "language": "python",
   "name": "python3"
  },
  "language_info": {
   "codemirror_mode": {
    "name": "ipython",
    "version": 3
   },
   "file_extension": ".py",
   "mimetype": "text/x-python",
   "name": "python",
   "nbconvert_exporter": "python",
   "pygments_lexer": "ipython3",
   "version": "3.10.12"
  }
 },
 "nbformat": 4,
 "nbformat_minor": 5
}
