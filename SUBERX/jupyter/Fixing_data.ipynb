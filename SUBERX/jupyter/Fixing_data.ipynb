{
 "cells": [
  {
   "cell_type": "markdown",
   "id": "327eade1-2fe2-4ed1-bfd6-ff04c29ba488",
   "metadata": {},
   "source": [
    "# Scrap Notebook I used for fixing some data.  \n",
    "\n",
    "This notebook can be safely ignored or deleted.  "
   ]
  },
  {
   "cell_type": "code",
   "execution_count": 1,
   "id": "8d91f465-f021-46ec-ab1b-3402b2bedf7d",
   "metadata": {},
   "outputs": [],
   "source": [
    "import pandas as pd\n",
    "SYN_PATH = \"/app/datasets/MINDsmall/analysts_behavior.tsv\"\n",
    "df = pd.read_csv(SYN_PATH, sep=\"\\t\")\n",
    "SYN_PATH2 = \"/app/datasets/MINDsmall/train/behavior.tsv\"\n",
    "# Define the column names explicitly (from MIND dataset spec or previous TSV)\n",
    "columns = [\"impression_id\", \"user_id\", \"time\", \"history\", \"impressions\"]\n",
    "orig_df = pd.read_csv(SYN_PATH, sep=\"\\t\", header=None, names=columns)"
   ]
  },
  {
   "cell_type": "code",
   "execution_count": 2,
   "id": "16240125-d442-4fa3-9895-90246901d54f",
   "metadata": {},
   "outputs": [
    {
     "data": {
      "text/html": [
       "<div>\n",
       "<style scoped>\n",
       "    .dataframe tbody tr th:only-of-type {\n",
       "        vertical-align: middle;\n",
       "    }\n",
       "\n",
       "    .dataframe tbody tr th {\n",
       "        vertical-align: top;\n",
       "    }\n",
       "\n",
       "    .dataframe thead th {\n",
       "        text-align: right;\n",
       "    }\n",
       "</style>\n",
       "<table border=\"1\" class=\"dataframe\">\n",
       "  <thead>\n",
       "    <tr style=\"text-align: right;\">\n",
       "      <th></th>\n",
       "      <th>impression_id</th>\n",
       "      <th>user_id</th>\n",
       "      <th>time</th>\n",
       "      <th>history</th>\n",
       "      <th>impressions</th>\n",
       "    </tr>\n",
       "  </thead>\n",
       "  <tbody>\n",
       "    <tr>\n",
       "      <th>0</th>\n",
       "      <td>156967</td>\n",
       "      <td>A3570</td>\n",
       "      <td>02/18/2025 05:44:09 PM</td>\n",
       "      <td>NaN</td>\n",
       "      <td>N5659-0 N29217-0 N29799-1 N60098-1</td>\n",
       "    </tr>\n",
       "    <tr>\n",
       "      <th>1</th>\n",
       "      <td>156968</td>\n",
       "      <td>A6185</td>\n",
       "      <td>02/18/2025 05:44:23 PM</td>\n",
       "      <td>NaN</td>\n",
       "      <td>N13336-0 N3364-1 N52343-0 N64408-0 N4003-0</td>\n",
       "    </tr>\n",
       "    <tr>\n",
       "      <th>2</th>\n",
       "      <td>156969</td>\n",
       "      <td>A5385</td>\n",
       "      <td>02/18/2025 05:44:26 PM</td>\n",
       "      <td>NaN</td>\n",
       "      <td>N42791-1 N52381-0</td>\n",
       "    </tr>\n",
       "    <tr>\n",
       "      <th>3</th>\n",
       "      <td>156970</td>\n",
       "      <td>A2340</td>\n",
       "      <td>02/18/2025 05:44:27 PM</td>\n",
       "      <td>NaN</td>\n",
       "      <td>N2993-1</td>\n",
       "    </tr>\n",
       "    <tr>\n",
       "      <th>4</th>\n",
       "      <td>156971</td>\n",
       "      <td>A4182</td>\n",
       "      <td>02/18/2025 05:44:30 PM</td>\n",
       "      <td>NaN</td>\n",
       "      <td>N42024-1 N29961-0</td>\n",
       "    </tr>\n",
       "  </tbody>\n",
       "</table>\n",
       "</div>"
      ],
      "text/plain": [
       "   impression_id user_id                    time history  \\\n",
       "0         156967   A3570  02/18/2025 05:44:09 PM     NaN   \n",
       "1         156968   A6185  02/18/2025 05:44:23 PM     NaN   \n",
       "2         156969   A5385  02/18/2025 05:44:26 PM     NaN   \n",
       "3         156970   A2340  02/18/2025 05:44:27 PM     NaN   \n",
       "4         156971   A4182  02/18/2025 05:44:30 PM     NaN   \n",
       "\n",
       "                                  impressions  \n",
       "0          N5659-0 N29217-0 N29799-1 N60098-1  \n",
       "1  N13336-0 N3364-1 N52343-0 N64408-0 N4003-0  \n",
       "2                           N42791-1 N52381-0  \n",
       "3                                     N2993-1  \n",
       "4                           N42024-1 N29961-0  "
      ]
     },
     "execution_count": 2,
     "metadata": {},
     "output_type": "execute_result"
    }
   ],
   "source": [
    "df.head()"
   ]
  },
  {
   "cell_type": "code",
   "execution_count": 3,
   "id": "778a6f5f-1909-42e2-85f0-3624b5392ec9",
   "metadata": {},
   "outputs": [
    {
     "data": {
      "text/html": [
       "<div>\n",
       "<style scoped>\n",
       "    .dataframe tbody tr th:only-of-type {\n",
       "        vertical-align: middle;\n",
       "    }\n",
       "\n",
       "    .dataframe tbody tr th {\n",
       "        vertical-align: top;\n",
       "    }\n",
       "\n",
       "    .dataframe thead th {\n",
       "        text-align: right;\n",
       "    }\n",
       "</style>\n",
       "<table border=\"1\" class=\"dataframe\">\n",
       "  <thead>\n",
       "    <tr style=\"text-align: right;\">\n",
       "      <th></th>\n",
       "      <th>impression_id</th>\n",
       "      <th>user_id</th>\n",
       "      <th>time</th>\n",
       "      <th>history</th>\n",
       "      <th>impressions</th>\n",
       "    </tr>\n",
       "  </thead>\n",
       "  <tbody>\n",
       "    <tr>\n",
       "      <th>2590</th>\n",
       "      <td>159557</td>\n",
       "      <td>A3267</td>\n",
       "      <td>04/19/2025 06:10:43 PM</td>\n",
       "      <td>N47938</td>\n",
       "      <td>N35950-1 N29502-1 N46292-1 N16676-1</td>\n",
       "    </tr>\n",
       "    <tr>\n",
       "      <th>2591</th>\n",
       "      <td>159558</td>\n",
       "      <td>A8957</td>\n",
       "      <td>04/19/2025 06:10:54 PM</td>\n",
       "      <td>N8931</td>\n",
       "      <td>N14127-1 N62754-1 N41469-1</td>\n",
       "    </tr>\n",
       "    <tr>\n",
       "      <th>2592</th>\n",
       "      <td>159559</td>\n",
       "      <td>A7457</td>\n",
       "      <td>04/19/2025 06:10:55 PM</td>\n",
       "      <td>N22433 N31035</td>\n",
       "      <td>N4571-0</td>\n",
       "    </tr>\n",
       "    <tr>\n",
       "      <th>2593</th>\n",
       "      <td>159560</td>\n",
       "      <td>A2366</td>\n",
       "      <td>04/19/2025 06:11:04 PM</td>\n",
       "      <td>N35432</td>\n",
       "      <td>N32899-1 N49390-1 N26028-0 N9393-1 N26746-0</td>\n",
       "    </tr>\n",
       "    <tr>\n",
       "      <th>2594</th>\n",
       "      <td>159561</td>\n",
       "      <td>A9859</td>\n",
       "      <td>04/19/2025 06:11:05 PM</td>\n",
       "      <td>NaN</td>\n",
       "      <td>N57838-1</td>\n",
       "    </tr>\n",
       "  </tbody>\n",
       "</table>\n",
       "</div>"
      ],
      "text/plain": [
       "      impression_id user_id                    time        history  \\\n",
       "2590         159557   A3267  04/19/2025 06:10:43 PM         N47938   \n",
       "2591         159558   A8957  04/19/2025 06:10:54 PM          N8931   \n",
       "2592         159559   A7457  04/19/2025 06:10:55 PM  N22433 N31035   \n",
       "2593         159560   A2366  04/19/2025 06:11:04 PM         N35432   \n",
       "2594         159561   A9859  04/19/2025 06:11:05 PM            NaN   \n",
       "\n",
       "                                      impressions  \n",
       "2590          N35950-1 N29502-1 N46292-1 N16676-1  \n",
       "2591                   N14127-1 N62754-1 N41469-1  \n",
       "2592                                      N4571-0  \n",
       "2593  N32899-1 N49390-1 N26028-0 N9393-1 N26746-0  \n",
       "2594                                     N57838-1  "
      ]
     },
     "execution_count": 3,
     "metadata": {},
     "output_type": "execute_result"
    }
   ],
   "source": [
    "df.tail()"
   ]
  },
  {
   "cell_type": "code",
   "execution_count": null,
   "id": "f4b391e0-026e-47c0-8a60-c1f09d75c832",
   "metadata": {},
   "outputs": [],
   "source": [
    "## Increment the impression id by one starting from the 0th sample\n",
    "df.loc[1:, 'impression_id'] = df.loc[0, 'impression_id'] + range(1, len(df))"
   ]
  },
  {
   "cell_type": "code",
   "execution_count": null,
   "id": "b11cfb8d-0369-4924-a626-510763b6c172",
   "metadata": {},
   "outputs": [],
   "source": []
  },
  {
   "cell_type": "code",
   "execution_count": null,
   "id": "9f5eaaae-6655-4d00-a5af-ce46576c6307",
   "metadata": {},
   "outputs": [],
   "source": [
    "## Last impression id in the behaviors.tsv file\n",
    "max_original_id = 156966 "
   ]
  },
  {
   "cell_type": "code",
   "execution_count": null,
   "id": "e793b684-8b47-429e-8104-b5a3bb1fc8f9",
   "metadata": {},
   "outputs": [],
   "source": [
    "\n",
    "# I made a mistake so need to incrment them all by one again.  :-)\n",
    "df['impression_id'] = range(max_original_id + 1, max_original_id + 1 + len(df))"
   ]
  },
  {
   "cell_type": "code",
   "execution_count": null,
   "id": "db99434e-01b3-4a4d-8b59-390e25f39978",
   "metadata": {},
   "outputs": [],
   "source": [
    "df.head()"
   ]
  },
  {
   "cell_type": "code",
   "execution_count": null,
   "id": "dfb664e2-6905-4733-b733-761c1274dc74",
   "metadata": {},
   "outputs": [],
   "source": [
    "df.tail()"
   ]
  },
  {
   "cell_type": "code",
   "execution_count": null,
   "id": "92c6d58d-c666-42a7-9296-d95503dbda6c",
   "metadata": {},
   "outputs": [],
   "source": []
  },
  {
   "cell_type": "code",
   "execution_count": null,
   "id": "d3036fd5-91e6-490b-9dcc-07913af9721c",
   "metadata": {},
   "outputs": [],
   "source": [
    "import csv"
   ]
  },
  {
   "cell_type": "code",
   "execution_count": null,
   "id": "c74f488c-475e-4f86-80e2-b8f02e9beac4",
   "metadata": {},
   "outputs": [],
   "source": [
    "df.to_csv(SYN_PATH,sep=\"\\t\",index=False,header=True,quoting=csv.QUOTE_MINIMAL,encoding=\"utf-8\")"
   ]
  },
  {
   "cell_type": "code",
   "execution_count": null,
   "id": "10c3618b-78bf-40f6-a081-05894360c269",
   "metadata": {},
   "outputs": [],
   "source": []
  }
 ],
 "metadata": {
  "kernelspec": {
   "display_name": "Python (sb3)",
   "language": "python",
   "name": "sb3"
  },
  "language_info": {
   "codemirror_mode": {
    "name": "ipython",
    "version": 3
   },
   "file_extension": ".py",
   "mimetype": "text/x-python",
   "name": "python",
   "nbconvert_exporter": "python",
   "pygments_lexer": "ipython3",
   "version": "3.10.12"
  }
 },
 "nbformat": 4,
 "nbformat_minor": 5
}
