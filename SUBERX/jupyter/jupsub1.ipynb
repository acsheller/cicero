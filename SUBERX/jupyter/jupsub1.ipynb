{
 "cells": [
  {
   "cell_type": "markdown",
   "id": "97d8cb1d-899a-49d8-a041-cf216e8bb186",
   "metadata": {},
   "source": [
    "# Getting Started with SUBER\n",
    "\n",
    "SUBER is complex so we will take it one module at a time. The entry point for suber is [algorithms.mind.CFTrain2](https://github.com/acsheller/SUBER/blob/main/algorithms/mind/CF_train_A2C2.py).  One can review this file and simply get started. "
   ]
  },
  {
   "cell_type": "code",
   "execution_count": 1,
   "id": "73354ceb-617e-435a-8119-874dc10f2ac0",
   "metadata": {},
   "outputs": [],
   "source": [
    "#!pip install datasets"
   ]
  },
  {
   "cell_type": "code",
   "execution_count": 2,
   "id": "531f245e-fadd-4903-affa-c71011f9a2ed",
   "metadata": {},
   "outputs": [
    {
     "name": "stderr",
     "output_type": "stream",
     "text": [
      "/app/sb3/lib/python3.10/site-packages/sentence_transformers/cross_encoder/CrossEncoder.py:11: TqdmExperimentalWarning: Using `tqdm.autonotebook.tqdm` in notebook mode. Use `tqdm.tqdm` instead to force console mode (e.g. in jupyter console)\n",
      "  from tqdm.autonotebook import tqdm, trange\n"
     ]
    },
    {
     "data": {
      "application/vnd.jupyter.widget-view+json": {
       "model_id": "d6974aee1e4e4c7bb5e06080b13dd68e",
       "version_major": 2,
       "version_minor": 0
      },
      "text/plain": [
       "modules.json:   0%|          | 0.00/461 [00:00<?, ?B/s]"
      ]
     },
     "metadata": {},
     "output_type": "display_data"
    },
    {
     "data": {
      "application/vnd.jupyter.widget-view+json": {
       "model_id": "4f1a5c5913ee406094f5d0574da3e028",
       "version_major": 2,
       "version_minor": 0
      },
      "text/plain": [
       "config_sentence_transformers.json:   0%|          | 0.00/122 [00:00<?, ?B/s]"
      ]
     },
     "metadata": {},
     "output_type": "display_data"
    },
    {
     "data": {
      "application/vnd.jupyter.widget-view+json": {
       "model_id": "054732e5eca949fbbe6b2e4768e629e2",
       "version_major": 2,
       "version_minor": 0
      },
      "text/plain": [
       "README.md:   0%|          | 0.00/1.98k [00:00<?, ?B/s]"
      ]
     },
     "metadata": {},
     "output_type": "display_data"
    },
    {
     "data": {
      "application/vnd.jupyter.widget-view+json": {
       "model_id": "89dc1a5e07a647ed93c648b95ed33fe2",
       "version_major": 2,
       "version_minor": 0
      },
      "text/plain": [
       "sentence_bert_config.json:   0%|          | 0.00/53.0 [00:00<?, ?B/s]"
      ]
     },
     "metadata": {},
     "output_type": "display_data"
    },
    {
     "name": "stderr",
     "output_type": "stream",
     "text": [
      "/app/sb3/lib/python3.10/site-packages/huggingface_hub/file_download.py:797: FutureWarning: `resume_download` is deprecated and will be removed in version 1.0.0. Downloads always resume when possible. If you want to force a new download, use `force_download=True`.\n",
      "  warnings.warn(\n"
     ]
    },
    {
     "data": {
      "application/vnd.jupyter.widget-view+json": {
       "model_id": "7fa36f15c5b34119aa0aff44d23709a5",
       "version_major": 2,
       "version_minor": 0
      },
      "text/plain": [
       "config.json:   0%|          | 0.00/1.39k [00:00<?, ?B/s]"
      ]
     },
     "metadata": {},
     "output_type": "display_data"
    },
    {
     "data": {
      "application/vnd.jupyter.widget-view+json": {
       "model_id": "f68c2dee2b85435a95a01dae3ccf370f",
       "version_major": 2,
       "version_minor": 0
      },
      "text/plain": [
       "model.safetensors:   0%|          | 0.00/219M [00:00<?, ?B/s]"
      ]
     },
     "metadata": {},
     "output_type": "display_data"
    },
    {
     "data": {
      "application/vnd.jupyter.widget-view+json": {
       "model_id": "3374dcfd4ea64f958edbb2656e7049d6",
       "version_major": 2,
       "version_minor": 0
      },
      "text/plain": [
       "tokenizer_config.json:   0%|          | 0.00/1.92k [00:00<?, ?B/s]"
      ]
     },
     "metadata": {},
     "output_type": "display_data"
    },
    {
     "data": {
      "application/vnd.jupyter.widget-view+json": {
       "model_id": "48081423aab84d7c9fc9e928c4f5b251",
       "version_major": 2,
       "version_minor": 0
      },
      "text/plain": [
       "spiece.model:   0%|          | 0.00/792k [00:00<?, ?B/s]"
      ]
     },
     "metadata": {},
     "output_type": "display_data"
    },
    {
     "data": {
      "application/vnd.jupyter.widget-view+json": {
       "model_id": "334c5cfd2eed4daf969f67ffd5ba64bc",
       "version_major": 2,
       "version_minor": 0
      },
      "text/plain": [
       "tokenizer.json:   0%|          | 0.00/1.39M [00:00<?, ?B/s]"
      ]
     },
     "metadata": {},
     "output_type": "display_data"
    },
    {
     "data": {
      "application/vnd.jupyter.widget-view+json": {
       "model_id": "d9c113e5e38e42a5af0c511b31015e27",
       "version_major": 2,
       "version_minor": 0
      },
      "text/plain": [
       "special_tokens_map.json:   0%|          | 0.00/1.79k [00:00<?, ?B/s]"
      ]
     },
     "metadata": {},
     "output_type": "display_data"
    },
    {
     "data": {
      "application/vnd.jupyter.widget-view+json": {
       "model_id": "6d592b32bf3a4d7bb6869ae55ba7c168",
       "version_major": 2,
       "version_minor": 0
      },
      "text/plain": [
       "1_Pooling/config.json:   0%|          | 0.00/190 [00:00<?, ?B/s]"
      ]
     },
     "metadata": {},
     "output_type": "display_data"
    },
    {
     "data": {
      "application/vnd.jupyter.widget-view+json": {
       "model_id": "91fa2c7f16be484dac06431f392b44b0",
       "version_major": 2,
       "version_minor": 0
      },
      "text/plain": [
       "2_Dense/config.json:   0%|          | 0.00/115 [00:00<?, ?B/s]"
      ]
     },
     "metadata": {},
     "output_type": "display_data"
    },
    {
     "data": {
      "application/vnd.jupyter.widget-view+json": {
       "model_id": "66af5a1351cb4c1888ecf57a14d44311",
       "version_major": 2,
       "version_minor": 0
      },
      "text/plain": [
       "rust_model.ot:   0%|          | 0.00/2.36M [00:00<?, ?B/s]"
      ]
     },
     "metadata": {},
     "output_type": "display_data"
    },
    {
     "data": {
      "application/vnd.jupyter.widget-view+json": {
       "model_id": "18d9ab75cd4d4aeda590cd98036d3a0c",
       "version_major": 2,
       "version_minor": 0
      },
      "text/plain": [
       "model.safetensors:   0%|          | 0.00/2.36M [00:00<?, ?B/s]"
      ]
     },
     "metadata": {},
     "output_type": "display_data"
    },
    {
     "data": {
      "application/vnd.jupyter.widget-view+json": {
       "model_id": "e106a888077a4713b402714c2ca94876",
       "version_major": 2,
       "version_minor": 0
      },
      "text/plain": [
       "pytorch_model.bin:   0%|          | 0.00/2.36M [00:00<?, ?B/s]"
      ]
     },
     "metadata": {},
     "output_type": "display_data"
    }
   ],
   "source": [
    "import os\n",
    "import sys\n",
    "import numpy as np\n",
    "nb_dir = os.path.split(os.getcwd())[0]\n",
    "if nb_dir not in sys.path:\n",
    "    sys.path.append(nb_dir)\n",
    "\n",
    "from algorithms.wrappers import StableBaselineWrapperNum\n",
    "from environment.mind.configs import get_enviroment_from_args, get_base_parser\n",
    "from environment import load_LLM\n",
    "from algorithms.logging_config import get_logger\n",
    "\n",
    "from stable_baselines3.common.callbacks import BaseCallback, CallbackList\n",
    "from stable_baselines3.common.distributions import CategoricalDistribution\n",
    "from stable_baselines3.common.evaluation import evaluate_policy\n",
    "from stable_baselines3.common.policies import ActorCriticPolicy\n",
    "from stable_baselines3 import A2C\n",
    "from stable_baselines3.common.preprocessing import get_flattened_obs_dim\n",
    "from stable_baselines3.common.torch_layers import BaseFeaturesExtractor\n",
    "from stable_baselines3.common.type_aliases import TensorDict\n",
    "\n",
    "import torch\n",
    "import torch.nn as nn\n",
    "import gymnasium as gym\n",
    "from gymnasium import spaces\n",
    "from typing import Callable, Tuple\n",
    "from stable_baselines3.common.env_checker import check_env\n",
    "from stable_baselines3.common.monitor import Monitor\n",
    "\n",
    "import argparse\n",
    "import tqdm\n",
    "logger = get_logger(\"suber_logger\")\n",
    "\n",
    "# Set environment variable to avoid tokenizer parallelism issues\n",
    "os.environ[\"TOKENIZERS_PARALLELISM\"] = \"false\""
   ]
  },
  {
   "cell_type": "markdown",
   "id": "8624771a-cff1-4481-867b-e9d899049e99",
   "metadata": {},
   "source": [
    "## This is an example call to the system.  \n",
    "\n",
    "python3 -m algorithms.mind.CF_train_A2C2 --llm_model=TheBloke/Llama-2-13B-chat-GPTQ --llm_rater=2Shot_system_our --perturbator=gaussian --items_retrieval=most_similar_3_title --reward_shaping=exp_decay_time --embedding-dim=512 --gamma=0.95 --seed=42 --news_dataset=mind_dataset\n",
    "\n"
   ]
  },
  {
   "cell_type": "code",
   "execution_count": 3,
   "id": "4ea7fded-c0cd-4804-8d9e-6eeae3c25bc0",
   "metadata": {},
   "outputs": [],
   "source": [
    "def parse_args():\n",
    "    parser = get_base_parser()\n",
    "    parser.add_argument(\"--model_device\", type=str, default=\"cuda:0\")\n",
    "    parser.add_argument(\"--gamma\", type=float, default=0.975)\n",
    "    parser.add_argument(\"--embedding_dim\", type=int, default=32)\n",
    "    parser.add_argument(\"--learning_rate\", type=float, default=0.01)\n",
    "    parser\n",
    "\n",
    "    parser.add_argument(\n",
    "        '--news_dataset', \n",
    "        choices=['mind_dataset', 'small_mind_dataset'], \n",
    "        help='Specify the news dataset to use',\n",
    "        default='small_mind_dataset'\n",
    "    )\n",
    "    # TODO Parser arguments should be here -- need to consider as most of them are \n",
    "    # in config.py\n",
    "\n",
    "    args, unknown = parser.parse_known_args()\n",
    "    return args"
   ]
  },
  {
   "cell_type": "code",
   "execution_count": 4,
   "id": "ffab37ae-8e18-49ac-8170-80bc45de4fa9",
   "metadata": {},
   "outputs": [],
   "source": [
    "# Linear schedule function\n",
    "def linear_schedule(initial_value: float):\n",
    "    def func(progress_remaining: float) -> float:\n",
    "        current_value = initial_value * progress_remaining\n",
    "        #print(f\"Linear schedule called: progress_remaining={progress_remaining}, learning_rate={current_value}\")\n",
    "        #logger.info(f\"Linear schedule called: progress_remaining={progress_remaining}, learning_rate={current_value}\")\n",
    "        return current_value\n",
    "    return func\n",
    "\n",
    "class CombinedCallback(BaseCallback):\n",
    "    def __init__(self, save_freq=50000, log_freq=5000, save_path=\"./tmp/models/\", name_prefix=\"rl_model\", verbose=0):\n",
    "        super(CombinedCallback, self).__init__(verbose)\n",
    "        self.save_freq = save_freq\n",
    "        self.log_freq = log_freq\n",
    "        self.save_path = save_path\n",
    "        self.name_prefix = name_prefix\n",
    "        self.metrics = []\n",
    "\n",
    "    def _on_step(self) -> bool:\n",
    "        if self.n_calls % self.log_freq == 0:\n",
    "            rewards = self.locals['rewards']\n",
    "            episode_length = self.locals.get('episode_lengths', None)\n",
    "            value_loss = self.locals.get('value_loss', None)\n",
    "            policy_loss = self.locals.get('policy_loss', None)\n",
    "            if value_loss is not None:\n",
    "                log_message = {\n",
    "                    \"step\": self.num_timesteps,\n",
    "                    \"reward\": rewards,\n",
    "                    \"episode_length\": episode_length,\n",
    "                    \"value_loss\": value_loss,\n",
    "                    \"policy_loss\": policy_loss\n",
    "                }\n",
    "                self.metrics.append(log_message)\n",
    "                self.logger.info(log_message)\n",
    "\n",
    "\n",
    "        if self.n_calls % self.save_freq == 0:\n",
    "            model_path = f\"{self.save_path}/{self.name_prefix}_{self.num_timesteps}_steps\"\n",
    "            self.model.save(model_path)\n",
    "            if self.verbose > 0:\n",
    "                print(f\"Saving model checkpoint to {model_path}\")\n",
    "        return True\n"
   ]
  },
  {
   "cell_type": "code",
   "execution_count": null,
   "id": "7e6f698f-ca7c-4e4c-85a2-c69f8296061f",
   "metadata": {},
   "outputs": [],
   "source": []
  },
  {
   "cell_type": "code",
   "execution_count": 5,
   "id": "5dcad418-a757-4ccd-8ca6-1b61d7afdaaa",
   "metadata": {},
   "outputs": [],
   "source": [
    "class Net(nn.Module):\n",
    "    def __init__(self, obs_space: gym.spaces.Space, num_users: int, num_items: int, learning_rate: float = 0.001):\n",
    "        super().__init__()\n",
    "        embedding_dim = args.embedding_dim\n",
    "        self.latent_dim_pi = embedding_dim * 2\n",
    "        self.latent_dim_vf = embedding_dim * 2\n",
    "\n",
    "        self.user_embedding = nn.Embedding(num_users, embedding_dim)\n",
    "        self.user_bias = nn.Embedding(num_users, 1)\n",
    "\n",
    "        self.policy_net = nn.Sequential(\n",
    "            nn.Linear(self.user_embedding.embedding_dim, embedding_dim * 2),\n",
    "            nn.ReLU(),\n",
    "            nn.Linear(embedding_dim * 2, embedding_dim * 4),\n",
    "            nn.ReLU(),\n",
    "            nn.Linear(embedding_dim * 4, num_items)\n",
    "        )\n",
    "\n",
    "        self.value_net = nn.Sequential(\n",
    "            nn.Linear(self.user_embedding.embedding_dim + num_items, self.latent_dim_vf * 2),\n",
    "            nn.ReLU(),\n",
    "            nn.Linear(self.latent_dim_vf * 2, embedding_dim * 4),\n",
    "            nn.ReLU(),\n",
    "            nn.Linear(embedding_dim * 4, self.latent_dim_vf),\n",
    "            nn.ReLU()\n",
    "        )\n",
    "\n",
    "    def forward(self, features: TensorDict) -> Tuple[torch.Tensor, torch.Tensor]:\n",
    "        user_id = features[\"user_id\"].squeeze(1)\n",
    "        news_seen = features[\"items_interact\"]\n",
    "\n",
    "        user_embedding = self.user_embedding(user_id)\n",
    "        user_embedding_value = torch.cat([user_embedding, news_seen], dim=1)\n",
    "        user_bias = self.user_bias(user_id)\n",
    "\n",
    "        mask = features[\"items_interact\"].to(dtype=torch.bool)\n",
    "        logits = self.policy_net(user_embedding) + user_bias\n",
    "        logits[mask] = -torch.inf\n",
    "        return logits, self.value_net(user_embedding_value)\n",
    "\n",
    "    def forward_actor(self, features: TensorDict) -> torch.Tensor:\n",
    "        user_id = features[\"user_id\"].squeeze(1)\n",
    "        user_embedding = self.user_embedding(user_id)\n",
    "        user_bias = self.user_bias(user_id)\n",
    "\n",
    "        mask = features[\"items_interact\"].to(dtype=torch.bool)\n",
    "        logits = self.policy_net(user_embedding) + user_bias\n",
    "        logits[mask] = -torch.inf\n",
    "        return logits\n",
    "\n",
    "    def forward_critic(self, features: TensorDict) -> torch.Tensor:\n",
    "        user_id = features[\"user_id\"].squeeze(1)\n",
    "        news_seen = features[\"items_interact\"]\n",
    "\n",
    "        user_embedding = self.user_embedding(user_id)\n",
    "        user_embedding_value = torch.cat([user_embedding, news_seen], dim=1)\n",
    "        return self.value_net(user_embedding_value)\n",
    "\n",
    "class DistributionUseLogitsDirectly(CategoricalDistribution):\n",
    "    def __init__(self, action_dim: int):\n",
    "        super().__init__(action_dim)\n",
    "\n",
    "    def proba_distribution_net(self, latent_dim: int) -> nn.Module:\n",
    "        return nn.Identity(latent_dim)\n",
    "\n",
    "class CustomActorCriticPolicy(ActorCriticPolicy):\n",
    "    def __init__(self, observation_space: spaces.Space, action_space: spaces.Space, lr_schedule: Callable[[float], float], *args, **kwargs):\n",
    "        kwargs[\"ortho_init\"] = True\n",
    "        super().__init__(observation_space, action_space, lr_schedule, *args, **kwargs)\n",
    "\n",
    "        self.action_dist = DistributionUseLogitsDirectly(action_space.n)\n",
    "        self._build(lr_schedule)\n",
    "\n",
    "    def _build_mlp_extractor(self) -> None:\n",
    "        default_lr = 0.01\n",
    "        num_users = train_env.get_wrapper_attr('num_users')\n",
    "        num_items = train_env.get_wrapper_attr('num_items')\n",
    "        self.mlp_extractor = Net(self.observation_space, num_users, num_items, learning_rate=default_lr)\n",
    "\n",
    "class ExtractPass(BaseFeaturesExtractor):\n",
    "    def __init__(self, observation_space: gym.Space) -> None:\n",
    "        super().__init__(observation_space, get_flattened_obs_dim(observation_space))\n",
    "        self.flatten = nn.Flatten()\n",
    "\n",
    "    def forward(self, observations: torch.Tensor) -> torch.Tensor:\n",
    "        observations[\"user_id\"] = observations[\"user_id\"].int()\n",
    "        return observations\n"
   ]
  },
  {
   "cell_type": "code",
   "execution_count": 6,
   "id": "d37f9008-d456-43ae-a0ac-ab27b6fcad71",
   "metadata": {},
   "outputs": [],
   "source": [
    "#args = parse_args()\n",
    "#args.llm_model='llama3.2'\n",
    "#llm = load_LLM(args.llm_model)\n"
   ]
  },
  {
   "cell_type": "code",
   "execution_count": null,
   "id": "1e7f1bb6-528b-4187-853d-0329a73b0e7c",
   "metadata": {},
   "outputs": [],
   "source": []
  },
  {
   "cell_type": "code",
   "execution_count": null,
   "id": "0320e1e3-58d5-46c3-8a13-e34a67dd9a55",
   "metadata": {},
   "outputs": [],
   "source": []
  },
  {
   "cell_type": "code",
   "execution_count": null,
   "id": "981e6718-d51b-4cfd-9662-2388fc2e2c86",
   "metadata": {},
   "outputs": [],
   "source": []
  },
  {
   "cell_type": "raw",
   "id": "601d07d1-cebf-4acc-aa71-8fe7eae9b5b3",
   "metadata": {},
   "source": [
    "# Example Usage of Ollama\n",
    "from environment.LLM.ollama import OllamaLLM\n",
    "\n",
    "if __name__ == \"__main__\":\n",
    "    ollama = OllamaLLM(\"llama3.2\")\n",
    "    prompt = \"Hello, how can you assist me today?\"\n",
    "    dialog = [\n",
    "        {\"role\": \"user\", \"content\": prompt}\n",
    "    ]\n",
    "    system_prompt = (\n",
    "        \"You are a helpful, respectful and honest assistant. Always answer as helpfully as possible, \"\n",
    "        \"while being safe and unbiased. Please do not include any harmful or unethical content.\"\n",
    "    )\n",
    "    encoded_prompt = f\"{system_prompt}\\n\\n\" + \"\\n\".join(f\"{d['role']}: {d['content']}\" for d in dialog)\n",
    "\n",
    "    response = ollama._query_ollama(encoded_prompt)\n",
    "    #print(\"Prompt Sent:\", prompt)\n",
    "    print(\"Response Received:\", response)\n"
   ]
  },
  {
   "cell_type": "code",
   "execution_count": null,
   "id": "16d8e41a-5f3c-4b61-a38b-839ae8e12862",
   "metadata": {},
   "outputs": [],
   "source": []
  },
  {
   "cell_type": "code",
   "execution_count": null,
   "id": "3ada295f-4c90-4f42-a1c9-b7e0be03cdae",
   "metadata": {},
   "outputs": [
    {
     "name": "stdout",
     "output_type": "stream",
     "text": [
      "name is TheBloke/Llama-2-7b-Chat-GPTQ\n"
     ]
    },
    {
     "data": {
      "application/vnd.jupyter.widget-view+json": {
       "model_id": "a55c9229fac748dab7a81a21012bd204",
       "version_major": 2,
       "version_minor": 0
      },
      "text/plain": [
       "Fetching 13 files:   0%|          | 0/13 [00:00<?, ?it/s]"
      ]
     },
     "metadata": {},
     "output_type": "display_data"
    },
    {
     "data": {
      "application/vnd.jupyter.widget-view+json": {
       "model_id": "a82fd1340a404ea8a914ef9ce250ffb5",
       "version_major": 2,
       "version_minor": 0
      },
      "text/plain": [
       "Notice:   0%|          | 0.00/112 [00:00<?, ?B/s]"
      ]
     },
     "metadata": {},
     "output_type": "display_data"
    },
    {
     "data": {
      "application/vnd.jupyter.widget-view+json": {
       "model_id": "5ecc24f2705e4a8ea09f5de341bf01f1",
       "version_major": 2,
       "version_minor": 0
      },
      "text/plain": [
       "LICENSE:   0%|          | 0.00/7.02k [00:00<?, ?B/s]"
      ]
     },
     "metadata": {},
     "output_type": "display_data"
    },
    {
     "data": {
      "application/vnd.jupyter.widget-view+json": {
       "model_id": "583b23dcc01a41b1b67b5f207c50a95a",
       "version_major": 2,
       "version_minor": 0
      },
      "text/plain": [
       ".gitattributes:   0%|          | 0.00/1.52k [00:00<?, ?B/s]"
      ]
     },
     "metadata": {},
     "output_type": "display_data"
    },
    {
     "data": {
      "application/vnd.jupyter.widget-view+json": {
       "model_id": "5f0e529309c2463c964d143f5b23498f",
       "version_major": 2,
       "version_minor": 0
      },
      "text/plain": [
       "USE_POLICY.md:   0%|          | 0.00/4.77k [00:00<?, ?B/s]"
      ]
     },
     "metadata": {},
     "output_type": "display_data"
    },
    {
     "data": {
      "application/vnd.jupyter.widget-view+json": {
       "model_id": "4e2d4877573942fa99abeea7af98f3d7",
       "version_major": 2,
       "version_minor": 0
      },
      "text/plain": [
       "generation_config.json:   0%|          | 0.00/137 [00:00<?, ?B/s]"
      ]
     },
     "metadata": {},
     "output_type": "display_data"
    },
    {
     "data": {
      "application/vnd.jupyter.widget-view+json": {
       "model_id": "32c0b3e208c54f48a9e63c9d94bdcc2e",
       "version_major": 2,
       "version_minor": 0
      },
      "text/plain": [
       "README.md:   0%|          | 0.00/25.0k [00:00<?, ?B/s]"
      ]
     },
     "metadata": {},
     "output_type": "display_data"
    },
    {
     "data": {
      "application/vnd.jupyter.widget-view+json": {
       "model_id": "a5a5ccf5434c4bb5a1235f4a16c8473c",
       "version_major": 2,
       "version_minor": 0
      },
      "text/plain": [
       "config.json:   0%|          | 0.00/789 [00:00<?, ?B/s]"
      ]
     },
     "metadata": {},
     "output_type": "display_data"
    },
    {
     "data": {
      "application/vnd.jupyter.widget-view+json": {
       "model_id": "260787675d7d4dffbd7871c6e9a0bc59",
       "version_major": 2,
       "version_minor": 0
      },
      "text/plain": [
       "quantize_config.json:   0%|          | 0.00/188 [00:00<?, ?B/s]"
      ]
     },
     "metadata": {},
     "output_type": "display_data"
    },
    {
     "data": {
      "application/vnd.jupyter.widget-view+json": {
       "model_id": "c10523d19b754736a42d0323d11a0459",
       "version_major": 2,
       "version_minor": 0
      },
      "text/plain": [
       "special_tokens_map.json:   0%|          | 0.00/411 [00:00<?, ?B/s]"
      ]
     },
     "metadata": {},
     "output_type": "display_data"
    },
    {
     "data": {
      "application/vnd.jupyter.widget-view+json": {
       "model_id": "d1f9ce4b6ad84dce93c683d292065bdd",
       "version_major": 2,
       "version_minor": 0
      },
      "text/plain": [
       "model.safetensors:   0%|          | 0.00/3.90G [00:00<?, ?B/s]"
      ]
     },
     "metadata": {},
     "output_type": "display_data"
    },
    {
     "data": {
      "application/vnd.jupyter.widget-view+json": {
       "model_id": "aa8889d4320943f38a0838e6de1b4e65",
       "version_major": 2,
       "version_minor": 0
      },
      "text/plain": [
       "tokenizer.json:   0%|          | 0.00/1.84M [00:00<?, ?B/s]"
      ]
     },
     "metadata": {},
     "output_type": "display_data"
    },
    {
     "data": {
      "application/vnd.jupyter.widget-view+json": {
       "model_id": "83305a6ea40d47f6918822c5119e3470",
       "version_major": 2,
       "version_minor": 0
      },
      "text/plain": [
       "tokenizer_config.json:   0%|          | 0.00/727 [00:00<?, ?B/s]"
      ]
     },
     "metadata": {},
     "output_type": "display_data"
    },
    {
     "data": {
      "application/vnd.jupyter.widget-view+json": {
       "model_id": "0df88c9307e74c7d85544c1511dc4587",
       "version_major": 2,
       "version_minor": 0
      },
      "text/plain": [
       "tokenizer.model:   0%|          | 0.00/500k [00:00<?, ?B/s]"
      ]
     },
     "metadata": {},
     "output_type": "display_data"
    }
   ],
   "source": [
    "\n",
    "if __name__ == \"__main__\":\n",
    "    args = parse_args()\n",
    "    #args.llm_model='llama3.2'\n",
    "    llm = load_LLM(args.llm_model)\n",
    "\n",
    "    dir_name = f\"{args.llm_model}___{args.llm_rater}___{args.items_retrieval}___{args.user_dataset}___{args.news_dataset}___{args.perturbator}___{args.reward_shaping}___{args.seed}___{args.model_device}___{args.gamma}___{args.embedding_dim}___{args.learning_rate}\"\n",
    "    sanitized_dir_name = dir_name.replace('/', '_').replace(':', '_').replace('.', '_')\n",
    "    save_path = f\"/app/SUBERX/models/{sanitized_dir_name}\"\n",
    "    wandb_path = f\"/app/wandb\"\n",
    "    os.makedirs(save_path, exist_ok=True)\n",
    "\n",
    "    train_env = get_enviroment_from_args(llm, args)\n",
    "    test_env = get_enviroment_from_args(llm, args, seed=args.seed + 600)\n",
    "\n",
    "    policy_kwargs = dict(features_extractor_class=ExtractPass)\n",
    "    train_env = StableBaselineWrapperNum(train_env)\n",
    "    test_env = Monitor(StableBaselineWrapperNum(test_env))\n",
    "    print(\"Checking training environment\")\n",
    "    check_env(train_env, warn=True)\n",
    "\n",
    "    print(\"Checking Test Environment\")\n",
    "    check_env(test_env)\n",
    "\n",
    "    print(\"Creating A2C Model\")\n",
    "    model = A2C(\n",
    "        CustomActorCriticPolicy,\n",
    "        train_env,\n",
    "        verbose=1,\n",
    "        policy_kwargs=policy_kwargs,\n",
    "        device=args.model_device,\n",
    "        learning_rate=linear_schedule(args.learning_rate),\n",
    "        tensorboard_log=save_path,\n",
    "        gamma=args.gamma,\n",
    "        ent_coef=0.001,\n",
    "    )\n",
    "    print(\"Callback being created\")\n",
    "    combined_callback = CombinedCallback(save_freq=2500, log_freq=500, save_path=save_path, name_prefix=\"rl_model\", verbose=1)\n",
    "    callback = CallbackList([combined_callback])\n",
    "\n",
    "    logger.info(\"Model starts learning\")\n",
    "    print(\"Model begining to learn\")\n",
    "    model.learn(total_timesteps=10000, progress_bar=True, callback=callback, tb_log_name=\"t_logs\")\n",
    "\n",
    "    logger.info(\"Model Ends Learning\")\n",
    "    print(\"Model Ends Learning\")\n",
    "    logger.info(\"Evaluating the Policy\")\n",
    "    mean_reward, std_reward = evaluate_policy(model, test_env, n_eval_episodes=50)\n",
    "    logger.info(f\"Mean reward: {mean_reward} +/- {std_reward}\")\n",
    "\n",
    "    reward_file_path = os.path.join(save_path, f\"reward_{mean_reward:.2f}.txt\")\n",
    "    with open(reward_file_path, 'w') as file:\n",
    "        file.write(f\"Mean reward: {mean_reward} +/- {std_reward}\\n\")\n",
    "\n",
    "    print(f\"Reward information saved to {reward_file_path}\")\n",
    "\n",
    "    print(f\"Mean Reward: {mean_reward} +/- {std_reward}\")\n",
    "    logger.info(f\"Mean Reward: {mean_reward} +/- {std_reward}\")\n"
   ]
  },
  {
   "cell_type": "code",
   "execution_count": null,
   "id": "5e720839-e654-4efe-ae6e-e3fb266b958a",
   "metadata": {},
   "outputs": [],
   "source": [
    "#pip install torch==2.4.1 torchvision==0.19.1 torchaudio==2.4.1 --index-url https://download.pytorch.org/whl/cu124"
   ]
  },
  {
   "cell_type": "code",
   "execution_count": null,
   "id": "7ffe44ec-be3b-4dea-a588-8126889664b3",
   "metadata": {},
   "outputs": [],
   "source": [
    "#!pip install recommenders[nrms]"
   ]
  },
  {
   "cell_type": "code",
   "execution_count": null,
   "id": "b6e229ec-51b5-451f-a6b7-767ba1124a3c",
   "metadata": {},
   "outputs": [],
   "source": []
  }
 ],
 "metadata": {
  "kernelspec": {
   "display_name": "Python 3 (ipykernel)",
   "language": "python",
   "name": "python3"
  },
  "language_info": {
   "codemirror_mode": {
    "name": "ipython",
    "version": 3
   },
   "file_extension": ".py",
   "mimetype": "text/x-python",
   "name": "python",
   "nbconvert_exporter": "python",
   "pygments_lexer": "ipython3",
   "version": "3.10.12"
  }
 },
 "nbformat": 4,
 "nbformat_minor": 5
}
